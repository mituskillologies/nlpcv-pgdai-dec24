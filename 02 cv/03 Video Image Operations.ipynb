{
 "cells": [
  {
   "cell_type": "code",
   "execution_count": 1,
   "id": "aeb52308-7bb8-47d1-8d42-0b91988f654a",
   "metadata": {},
   "outputs": [],
   "source": [
    "import cv2\n",
    "import matplotlib.pyplot as plt"
   ]
  },
  {
   "cell_type": "code",
   "execution_count": 2,
   "id": "676fa2fb-3edf-49b4-8d6e-0d270325b3d5",
   "metadata": {},
   "outputs": [],
   "source": [
    "# load the video\n",
    "vid = cv2.VideoCapture('images/nature.mp4')"
   ]
  },
  {
   "cell_type": "code",
   "execution_count": 3,
   "id": "f5a9a2d9-d7ed-4699-b8a8-4d2ca54e53bc",
   "metadata": {},
   "outputs": [],
   "source": [
    "ret, frame = vid.read()"
   ]
  },
  {
   "cell_type": "code",
   "execution_count": 4,
   "id": "2c03fb6a-71e3-4eb7-83d5-84d3353ed8aa",
   "metadata": {},
   "outputs": [
    {
     "data": {
      "text/plain": [
       "True"
      ]
     },
     "execution_count": 4,
     "metadata": {},
     "output_type": "execute_result"
    }
   ],
   "source": [
    "ret"
   ]
  },
  {
   "cell_type": "code",
   "execution_count": 5,
   "id": "4fe5ce8d-f096-444f-90d9-3f1a3e6abd73",
   "metadata": {},
   "outputs": [],
   "source": [
    "cv2.imshow('Frame', frame)\n",
    "cv2.waitKey(0)\n",
    "cv2.destroyAllWindows()"
   ]
  },
  {
   "cell_type": "code",
   "execution_count": 7,
   "id": "c4baf249-9e18-4d65-9d5f-ce82bb95dc97",
   "metadata": {},
   "outputs": [
    {
     "data": {
      "text/plain": [
       "(720, 1270, 3)"
      ]
     },
     "execution_count": 7,
     "metadata": {},
     "output_type": "execute_result"
    }
   ],
   "source": [
    "frame.shape"
   ]
  },
  {
   "cell_type": "code",
   "execution_count": 8,
   "id": "6df0ec7d-3873-4be5-a591-9305b9ca2f07",
   "metadata": {},
   "outputs": [
    {
     "data": {
      "text/plain": [
       "array([[[ 48,  49,  44],\n",
       "        [ 41,  42,  37],\n",
       "        [ 38,  39,  34],\n",
       "        ...,\n",
       "        [255, 255, 255],\n",
       "        [255, 255, 255],\n",
       "        [255, 255, 255]],\n",
       "\n",
       "       [[ 43,  44,  39],\n",
       "        [ 37,  38,  33],\n",
       "        [ 32,  33,  28],\n",
       "        ...,\n",
       "        [255, 255, 255],\n",
       "        [255, 255, 255],\n",
       "        [255, 255, 255]],\n",
       "\n",
       "       [[ 40,  41,  36],\n",
       "        [ 36,  37,  32],\n",
       "        [ 30,  31,  26],\n",
       "        ...,\n",
       "        [255, 255, 255],\n",
       "        [255, 255, 255],\n",
       "        [255, 255, 255]],\n",
       "\n",
       "       ...,\n",
       "\n",
       "       [[ 32,  31,  25],\n",
       "        [ 26,  25,  19],\n",
       "        [ 26,  25,  19],\n",
       "        ...,\n",
       "        [ 27,  23,  19],\n",
       "        [ 27,  23,  19],\n",
       "        [ 28,  24,  20]],\n",
       "\n",
       "       [[ 32,  31,  25],\n",
       "        [ 26,  25,  19],\n",
       "        [ 26,  25,  19],\n",
       "        ...,\n",
       "        [ 27,  23,  19],\n",
       "        [ 27,  23,  19],\n",
       "        [ 28,  24,  20]],\n",
       "\n",
       "       [[ 32,  31,  25],\n",
       "        [ 26,  25,  19],\n",
       "        [ 26,  25,  19],\n",
       "        ...,\n",
       "        [ 27,  23,  19],\n",
       "        [ 27,  23,  19],\n",
       "        [ 28,  24,  20]]], dtype=uint8)"
      ]
     },
     "execution_count": 8,
     "metadata": {},
     "output_type": "execute_result"
    }
   ],
   "source": [
    "frame"
   ]
  },
  {
   "cell_type": "code",
   "execution_count": 11,
   "id": "7467e536-d622-458f-a790-38262f6ea96c",
   "metadata": {},
   "outputs": [],
   "source": [
    "width = int(vid.get(cv2.CAP_PROP_FRAME_WIDTH))\n",
    "height = int(vid.get(cv2.CAP_PROP_FRAME_HEIGHT))\n",
    "frames = int(vid.get(cv2.CAP_PROP_FRAME_COUNT))\n",
    "fps = int(vid.get(cv2.CAP_PROP_FPS))"
   ]
  },
  {
   "cell_type": "code",
   "execution_count": 13,
   "id": "8570914a-740b-4bc7-a422-8ad77fe19c45",
   "metadata": {},
   "outputs": [
    {
     "name": "stdout",
     "output_type": "stream",
     "text": [
      "Video Resolution: (720, 1270)\n",
      "Total Frames: 1409\n",
      "FPS: 26\n"
     ]
    }
   ],
   "source": [
    "print('Video Resolution:', (height, width))\n",
    "print('Total Frames:' , frames)\n",
    "print('FPS:', fps)"
   ]
  },
  {
   "cell_type": "code",
   "execution_count": 14,
   "id": "18953143-1c12-4a00-974d-1abf948fa09c",
   "metadata": {},
   "outputs": [
    {
     "data": {
      "text/plain": [
       "54.19230769230769"
      ]
     },
     "execution_count": 14,
     "metadata": {},
     "output_type": "execute_result"
    }
   ],
   "source": [
    "frames / fps"
   ]
  },
  {
   "cell_type": "code",
   "execution_count": 16,
   "id": "11817215-d23b-4228-a07a-f35553e6931b",
   "metadata": {},
   "outputs": [],
   "source": [
    "vid = cv2.VideoCapture('images/nature.mp4')\n",
    "while True:\n",
    "    ret, frame = vid.read()\n",
    "    if not ret:\n",
    "        break\n",
    "    cv2.imshow('Nature Video', frame)\n",
    "    if cv2.waitKey(5) == ord('q'):\n",
    "        break\n",
    "\n",
    "cv2.destroyAllWindows()"
   ]
  },
  {
   "cell_type": "markdown",
   "id": "95d940ef-107a-45db-920d-63560764f7ee",
   "metadata": {},
   "source": [
    "##### Save the frames"
   ]
  },
  {
   "cell_type": "code",
   "execution_count": 19,
   "id": "66e74ca8-1d27-47c4-949e-20867d7b55c1",
   "metadata": {},
   "outputs": [],
   "source": [
    "vid = cv2.VideoCapture('images/nature.mp4')\n",
    "count = 1\n",
    "while True:\n",
    "    ret, frame = vid.read()\n",
    "    if not ret:\n",
    "        break\n",
    "    cv2.imwrite('image_frames/%d.jpg' %count, frame)\n",
    "    count += 1\n",
    "\n",
    "cv2.destroyAllWindows()"
   ]
  },
  {
   "cell_type": "code",
   "execution_count": 20,
   "id": "8ca7e5bc-d671-4928-a53a-fe9467ca74d9",
   "metadata": {},
   "outputs": [],
   "source": [
    "times = '00:00:35.00'"
   ]
  },
  {
   "cell_type": "code",
   "execution_count": 21,
   "id": "f82763e4-225b-4b74-b257-2497e32a570a",
   "metadata": {},
   "outputs": [
    {
     "data": {
      "text/plain": [
       "['00', '00', '35.00']"
      ]
     },
     "execution_count": 21,
     "metadata": {},
     "output_type": "execute_result"
    }
   ],
   "source": [
    "times.split(':')"
   ]
  },
  {
   "cell_type": "code",
   "execution_count": 22,
   "id": "0e340029-08e9-4e86-8985-ec25eaf14d36",
   "metadata": {},
   "outputs": [],
   "source": [
    "hrs, mins, secs = times.split(':')"
   ]
  },
  {
   "cell_type": "code",
   "execution_count": 25,
   "id": "7759ba43-df67-4162-b5a5-cda154f3c91c",
   "metadata": {},
   "outputs": [],
   "source": [
    "trigger_frame = int(hrs) * 3600 * fps + int(mins) * 60 * fps + float(secs) * fps"
   ]
  },
  {
   "cell_type": "code",
   "execution_count": 26,
   "id": "ecee7576-cdf5-4d4a-aef9-7455e5a713d0",
   "metadata": {},
   "outputs": [
    {
     "data": {
      "text/plain": [
       "910.0"
      ]
     },
     "execution_count": 26,
     "metadata": {},
     "output_type": "execute_result"
    }
   ],
   "source": [
    "trigger_frame"
   ]
  },
  {
   "cell_type": "code",
   "execution_count": 27,
   "id": "38ee0b3a-c69c-4fc9-b1dc-24645f3200ed",
   "metadata": {},
   "outputs": [
    {
     "name": "stdout",
     "output_type": "stream",
     "text": [
      "Help on built-in function set:\n",
      "\n",
      "set(...) method of cv2.VideoCapture instance\n",
      "    set(propId, value) -> retval\n",
      "    .   @brief Sets a property in the VideoCapture.\n",
      "    .   \n",
      "    .       @param propId Property identifier from cv::VideoCaptureProperties (eg. cv::CAP_PROP_POS_MSEC, cv::CAP_PROP_POS_FRAMES, ...)\n",
      "    .       or one from @ref videoio_flags_others\n",
      "    .       @param value Value of the property.\n",
      "    .       @return `true` if the property is supported by backend used by the VideoCapture instance.\n",
      "    .       @note Even if it returns `true` this doesn't ensure that the property\n",
      "    .       value has been accepted by the capture device. See note in VideoCapture::get()\n",
      "\n"
     ]
    }
   ],
   "source": [
    "help(vid.set)"
   ]
  },
  {
   "cell_type": "code",
   "execution_count": 28,
   "id": "d8ab82ed-2ae1-44ba-8b32-bc21b0907f03",
   "metadata": {},
   "outputs": [
    {
     "data": {
      "text/plain": [
       "True"
      ]
     },
     "execution_count": 28,
     "metadata": {},
     "output_type": "execute_result"
    }
   ],
   "source": [
    "vid.set(1, trigger_frame)"
   ]
  },
  {
   "cell_type": "code",
   "execution_count": 29,
   "id": "8221d996-6ce3-4b53-a859-782ea41c2d2b",
   "metadata": {},
   "outputs": [],
   "source": [
    "ret, frame = vid.read()\n",
    "cv2.imshow('Frame', frame)\n",
    "cv2.waitKey(0)\n",
    "cv2.destroyAllWindows()"
   ]
  },
  {
   "cell_type": "markdown",
   "id": "375d4f80-3925-4cfb-a6cf-b420f27e3a32",
   "metadata": {},
   "source": [
    "##### Capture using Camera"
   ]
  },
  {
   "cell_type": "code",
   "execution_count": 31,
   "id": "367587b2-973c-4c8b-81d3-adad1c290ee4",
   "metadata": {},
   "outputs": [],
   "source": [
    "vid = cv2.VideoCapture(0)"
   ]
  },
  {
   "cell_type": "code",
   "execution_count": 32,
   "id": "8df28ca5-58ae-4e31-bb16-6cdd30e49249",
   "metadata": {},
   "outputs": [
    {
     "data": {
      "text/plain": [
       "True"
      ]
     },
     "execution_count": 32,
     "metadata": {},
     "output_type": "execute_result"
    }
   ],
   "source": [
    "vid.isOpened()"
   ]
  },
  {
   "cell_type": "code",
   "execution_count": 35,
   "id": "56fb70d2-84fa-4337-ba33-d192b327f01f",
   "metadata": {},
   "outputs": [],
   "source": [
    "vid.release()"
   ]
  },
  {
   "cell_type": "code",
   "execution_count": 3,
   "id": "414bfa11-f977-442f-9f00-ca0f109f0274",
   "metadata": {},
   "outputs": [],
   "source": [
    "vid = cv2.VideoCapture(0)\n",
    "while True:\n",
    "    ret, frame = vid.read()\n",
    "    if ret == True:\n",
    "        cv2.imshow('Nature Video', frame)\n",
    "        if cv2.waitKey(5) == ord('q'):\n",
    "            break\n",
    "\n",
    "cv2.destroyAllWindows()"
   ]
  },
  {
   "cell_type": "code",
   "execution_count": 2,
   "id": "1c121483-78c5-43ec-8fef-138d3d3082ec",
   "metadata": {},
   "outputs": [],
   "source": [
    "cap = cv2.VideoCapture(0)\n",
    "\n",
    "# Read until video is completed \n",
    "while(cap.isOpened()):       \n",
    "# Capture frame-by-frame \n",
    "    ret, frame = cap.read() \n",
    "    if ret == True: \n",
    "        # Display the resulting frame \n",
    "        cv2.imshow('Frame', frame)           \n",
    "        # Press Q on keyboard to exit \n",
    "        if cv2.waitKey(1) & 0xFF == ord('q'): \n",
    "            break  \n",
    "    else: \n",
    "        break  \n",
    "# When everything done, release the video capture object \n",
    "cap.release()\n",
    "  \n",
    "# Closes all the frames \n",
    "cv2.destroyAllWindows() "
   ]
  },
  {
   "cell_type": "code",
   "execution_count": null,
   "id": "54660460-9071-4b5d-a042-6892ed1825d3",
   "metadata": {},
   "outputs": [],
   "source": []
  },
  {
   "cell_type": "code",
   "execution_count": 2,
   "id": "33ac3454-3afd-4f03-bb27-29b811242dad",
   "metadata": {},
   "outputs": [
    {
     "name": "stderr",
     "output_type": "stream",
     "text": [
      "[http @ 0x60f1670d6b00] Stream ends prematurely at 40818, should be 18446744073709551615\n",
      "[http @ 0x60f1670d6b00] Stream ends prematurely at 40818, should be 18446744073709551615\n"
     ]
    }
   ],
   "source": [
    "cap = cv2.VideoCapture('http://192.168.167.220:8080/')\n",
    "\n",
    "# Read until video is completed \n",
    "while(cap.isOpened()):       \n",
    "# Capture frame-by-frame \n",
    "    ret, frame = cap.read() \n",
    "    if ret == True: \n",
    "        # Display the resulting frame \n",
    "        cv2.imshow('Frame', frame)           \n",
    "        # Press Q on keyboard to exit \n",
    "        if cv2.waitKey(1) & 0xFF == ord('q'): \n",
    "            break  \n",
    "    else: \n",
    "        break  \n",
    "# When everything done, release the video capture object \n",
    "cap.release()\n",
    "  \n",
    "# Closes all the frames \n",
    "cv2.destroyAllWindows() "
   ]
  },
  {
   "cell_type": "code",
   "execution_count": null,
   "id": "cd9c4453-683e-416c-af67-ee1f42c2967a",
   "metadata": {},
   "outputs": [],
   "source": []
  }
 ],
 "metadata": {
  "kernelspec": {
   "display_name": "Python 3 (ipykernel)",
   "language": "python",
   "name": "python3"
  },
  "language_info": {
   "codemirror_mode": {
    "name": "ipython",
    "version": 3
   },
   "file_extension": ".py",
   "mimetype": "text/x-python",
   "name": "python",
   "nbconvert_exporter": "python",
   "pygments_lexer": "ipython3",
   "version": "3.10.12"
  }
 },
 "nbformat": 4,
 "nbformat_minor": 5
}
