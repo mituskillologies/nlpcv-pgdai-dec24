{
 "cells": [
  {
   "cell_type": "markdown",
   "id": "f57ef8cd-9d9a-41d2-b2b3-64eecf6f7606",
   "metadata": {},
   "source": [
    "##### Install transformers"
   ]
  },
  {
   "cell_type": "code",
   "execution_count": null,
   "id": "f9a37062-2dc9-448d-8851-dbe0f36291eb",
   "metadata": {},
   "outputs": [],
   "source": [
    "pip install transformers"
   ]
  }
 ],
 "metadata": {
  "kernelspec": {
   "display_name": "Python 3 (ipykernel)",
   "language": "python",
   "name": "python3"
  },
  "language_info": {
   "codemirror_mode": {
    "name": "ipython",
    "version": 3
   },
   "file_extension": ".py",
   "mimetype": "text/x-python",
   "name": "python",
   "nbconvert_exporter": "python",
   "pygments_lexer": "ipython3",
   "version": "3.10.12"
  }
 },
 "nbformat": 4,
 "nbformat_minor": 5
}
