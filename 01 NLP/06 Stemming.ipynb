{
 "cells": [
  {
   "cell_type": "code",
   "execution_count": 1,
   "id": "ed176be2-1812-40e6-837d-0f269c920527",
   "metadata": {},
   "outputs": [],
   "source": [
    "words1 = 'managing','manage','management','managerial','managed'\n",
    "words2 = 'worked','workable','working','worked'\n",
    "words3 = 'big','biggest','bigger'\n",
    "words4 = 'go','gone','went','going'\n",
    "words5 = 'association','associated','associate'"
   ]
  },
  {
   "cell_type": "markdown",
   "id": "93ad9c35-b53d-41df-947b-06fc8766f3f7",
   "metadata": {},
   "source": [
    "##### Porter Stemmer"
   ]
  },
  {
   "cell_type": "code",
   "execution_count": 3,
   "id": "245367ec-fc89-4cd1-ab8d-4b015117a298",
   "metadata": {},
   "outputs": [],
   "source": [
    "from nltk.stem import PorterStemmer"
   ]
  },
  {
   "cell_type": "code",
   "execution_count": 4,
   "id": "bf423c2b-b8ae-45eb-991e-53362b9b14d1",
   "metadata": {},
   "outputs": [],
   "source": [
    "ps = PorterStemmer()"
   ]
  },
  {
   "cell_type": "code",
   "execution_count": 5,
   "id": "4a962837-529b-447a-afcc-bba65a3602b8",
   "metadata": {},
   "outputs": [
    {
     "data": {
      "text/plain": [
       "'manag'"
      ]
     },
     "execution_count": 5,
     "metadata": {},
     "output_type": "execute_result"
    }
   ],
   "source": [
    "ps.stem(words1[2])"
   ]
  },
  {
   "cell_type": "code",
   "execution_count": 7,
   "id": "49b539ad-cab2-43f2-92a7-51ae4df1a1de",
   "metadata": {},
   "outputs": [
    {
     "data": {
      "text/plain": [
       "'biggest'"
      ]
     },
     "execution_count": 7,
     "metadata": {},
     "output_type": "execute_result"
    }
   ],
   "source": [
    "ps.stem(words3[1])"
   ]
  },
  {
   "cell_type": "code",
   "execution_count": 8,
   "id": "747d5391-81f9-42a3-bac1-ea8421ac6329",
   "metadata": {},
   "outputs": [
    {
     "data": {
      "text/plain": [
       "'associ'"
      ]
     },
     "execution_count": 8,
     "metadata": {},
     "output_type": "execute_result"
    }
   ],
   "source": [
    "ps.stem(words5[0])"
   ]
  },
  {
   "cell_type": "code",
   "execution_count": 10,
   "id": "cd31402b-4945-477c-9414-43fe9ae5ed9d",
   "metadata": {},
   "outputs": [
    {
     "name": "stdout",
     "output_type": "stream",
     "text": [
      "managing --> manag\n",
      "manage --> manag\n",
      "management --> manag\n",
      "managerial --> manageri\n",
      "managed --> manag\n"
     ]
    }
   ],
   "source": [
    "for word in words1:\n",
    "    print(word,'-->', ps.stem(word))"
   ]
  },
  {
   "cell_type": "code",
   "execution_count": 11,
   "id": "8fefef5f-30ea-4b27-83ba-8cb37a84755c",
   "metadata": {},
   "outputs": [
    {
     "name": "stdout",
     "output_type": "stream",
     "text": [
      "worked --> work\n",
      "workable --> workabl\n",
      "working --> work\n",
      "worked --> work\n"
     ]
    }
   ],
   "source": [
    "for word in words2:\n",
    "    print(word,'-->', ps.stem(word))"
   ]
  },
  {
   "cell_type": "code",
   "execution_count": 12,
   "id": "0e1a1bb8-6a13-401a-ade1-1a53b046c054",
   "metadata": {},
   "outputs": [
    {
     "name": "stdout",
     "output_type": "stream",
     "text": [
      "big --> big\n",
      "biggest --> biggest\n",
      "bigger --> bigger\n"
     ]
    }
   ],
   "source": [
    "for word in words3:\n",
    "    print(word,'-->', ps.stem(word))"
   ]
  },
  {
   "cell_type": "code",
   "execution_count": 13,
   "id": "55a00cb5-b2ab-4ecf-bb5f-857e1ab901df",
   "metadata": {},
   "outputs": [
    {
     "name": "stdout",
     "output_type": "stream",
     "text": [
      "go --> go\n",
      "gone --> gone\n",
      "went --> went\n",
      "going --> go\n"
     ]
    }
   ],
   "source": [
    "for word in words4:\n",
    "    print(word,'-->', ps.stem(word))"
   ]
  },
  {
   "cell_type": "code",
   "execution_count": 14,
   "id": "5d7bf8b2-2c3d-4460-bf99-1f9cf71b857d",
   "metadata": {},
   "outputs": [
    {
     "name": "stdout",
     "output_type": "stream",
     "text": [
      "association --> associ\n",
      "associated --> associ\n",
      "associate --> associ\n"
     ]
    }
   ],
   "source": [
    "for word in words5:\n",
    "    print(word,'-->', ps.stem(word))"
   ]
  },
  {
   "cell_type": "code",
   "execution_count": 15,
   "id": "b89a94a4-bd27-4c77-94fd-f1d0450b4a68",
   "metadata": {},
   "outputs": [],
   "source": [
    "text = 'Hello friends! How are you? I like Python Programming.'"
   ]
  },
  {
   "cell_type": "code",
   "execution_count": 17,
   "id": "9aeb3595-1e8c-4a60-810f-fee4419081c6",
   "metadata": {},
   "outputs": [],
   "source": [
    "from nltk.tokenize import word_tokenize\n",
    "from nltk.corpus import stopwords\n",
    "import string"
   ]
  },
  {
   "cell_type": "code",
   "execution_count": 20,
   "id": "1a19e962-afb4-458c-81a0-01a2de00dc4e",
   "metadata": {},
   "outputs": [],
   "source": [
    "# remove punctuation\n",
    "tokens1 = [word for word in word_tokenize(text) if word not in string.punctuation]"
   ]
  },
  {
   "cell_type": "code",
   "execution_count": 19,
   "id": "2c9d8768-43ef-4c73-b22d-4b794a8507c0",
   "metadata": {},
   "outputs": [
    {
     "data": {
      "text/plain": [
       "['Hello', 'friends', 'How', 'are', 'you', 'I', 'like', 'Python', 'Programming']"
      ]
     },
     "execution_count": 19,
     "metadata": {},
     "output_type": "execute_result"
    }
   ],
   "source": [
    "tokens1"
   ]
  },
  {
   "cell_type": "code",
   "execution_count": 23,
   "id": "f3c7c74e-6ffd-45e2-8337-3bceaddab50f",
   "metadata": {},
   "outputs": [
    {
     "data": {
      "text/plain": [
       "['hello', 'friend', 'like', 'python', 'program']"
      ]
     },
     "execution_count": 23,
     "metadata": {},
     "output_type": "execute_result"
    }
   ],
   "source": [
    "swords = stopwords.words('english')\n",
    "tokens2 = [ps.stem(word) for word in tokens1 if word.lower() not in swords]\n",
    "tokens2"
   ]
  },
  {
   "cell_type": "markdown",
   "id": "42265896-fb1c-4e2a-8a7e-907a3b47bec7",
   "metadata": {},
   "source": [
    "##### Lancaster Stemmer"
   ]
  },
  {
   "cell_type": "code",
   "execution_count": 25,
   "id": "821f1f59-82e1-4142-82d6-a5d182117548",
   "metadata": {},
   "outputs": [],
   "source": [
    "from nltk.stem import LancasterStemmer"
   ]
  },
  {
   "cell_type": "code",
   "execution_count": 26,
   "id": "18cf2f50-a966-4a9c-8396-6b4a65afcf97",
   "metadata": {},
   "outputs": [],
   "source": [
    "ls = LancasterStemmer()"
   ]
  },
  {
   "cell_type": "code",
   "execution_count": 27,
   "id": "e84030c6-6e2b-4f84-b96b-88d01f198d7b",
   "metadata": {},
   "outputs": [
    {
     "data": {
      "text/plain": [
       "'man'"
      ]
     },
     "execution_count": 27,
     "metadata": {},
     "output_type": "execute_result"
    }
   ],
   "source": [
    "ls.stem(words1[3])"
   ]
  },
  {
   "cell_type": "code",
   "execution_count": 28,
   "id": "ca17e78b-0af0-47e2-87c9-cfb2eaef0755",
   "metadata": {},
   "outputs": [
    {
     "data": {
      "text/plain": [
       "'man'"
      ]
     },
     "execution_count": 28,
     "metadata": {},
     "output_type": "execute_result"
    }
   ],
   "source": [
    "ls.stem(words1[0])"
   ]
  },
  {
   "cell_type": "code",
   "execution_count": 29,
   "id": "9035adfe-be78-4588-9a25-47a745947f27",
   "metadata": {},
   "outputs": [
    {
     "name": "stdout",
     "output_type": "stream",
     "text": [
      "managing --> man\n",
      "manage --> man\n",
      "management --> man\n",
      "managerial --> man\n",
      "managed --> man\n"
     ]
    }
   ],
   "source": [
    "for word in words1:\n",
    "    print(word,'-->', ls.stem(word))"
   ]
  },
  {
   "cell_type": "code",
   "execution_count": 30,
   "id": "07ed63fe-ab8d-4788-a69b-e79b355eff6d",
   "metadata": {},
   "outputs": [
    {
     "name": "stdout",
     "output_type": "stream",
     "text": [
      "worked --> work\n",
      "workable --> work\n",
      "working --> work\n",
      "worked --> work\n"
     ]
    }
   ],
   "source": [
    "for word in words2:\n",
    "    print(word,'-->', ls.stem(word))"
   ]
  },
  {
   "cell_type": "code",
   "execution_count": 31,
   "id": "45576c8b-6e21-4a48-89cb-7927cb0b0613",
   "metadata": {},
   "outputs": [
    {
     "name": "stdout",
     "output_type": "stream",
     "text": [
      "big --> big\n",
      "biggest --> biggest\n",
      "bigger --> big\n"
     ]
    }
   ],
   "source": [
    "for word in words3:\n",
    "    print(word,'-->', ls.stem(word))"
   ]
  },
  {
   "cell_type": "code",
   "execution_count": 32,
   "id": "a31aaddc-b0f4-42d2-a379-b28079765b35",
   "metadata": {},
   "outputs": [
    {
     "name": "stdout",
     "output_type": "stream",
     "text": [
      "go --> go\n",
      "gone --> gon\n",
      "went --> went\n",
      "going --> going\n"
     ]
    }
   ],
   "source": [
    "for word in words4:\n",
    "    print(word,'-->', ls.stem(word))"
   ]
  },
  {
   "cell_type": "code",
   "execution_count": 33,
   "id": "b38b719b-899b-4863-8571-8fb3d67ad1bc",
   "metadata": {},
   "outputs": [
    {
     "name": "stdout",
     "output_type": "stream",
     "text": [
      "association --> assocy\n",
      "associated --> assocy\n",
      "associate --> assocy\n"
     ]
    }
   ],
   "source": [
    "for word in words5:\n",
    "    print(word,'-->', ls.stem(word))"
   ]
  },
  {
   "cell_type": "markdown",
   "id": "1a3b835f-3bd8-450c-ad4f-496f8d2ce23b",
   "metadata": {},
   "source": [
    "##### Snowball Stemmer"
   ]
  },
  {
   "cell_type": "code",
   "execution_count": 35,
   "id": "4a0e2b8a-6aca-4064-b433-6591f5306673",
   "metadata": {},
   "outputs": [],
   "source": [
    "from nltk.stem import SnowballStemmer"
   ]
  },
  {
   "cell_type": "code",
   "execution_count": 36,
   "id": "3607c349-ca70-42e3-8c5f-b75bd17de44c",
   "metadata": {},
   "outputs": [
    {
     "name": "stdout",
     "output_type": "stream",
     "text": [
      "Help on class SnowballStemmer in module nltk.stem.snowball:\n",
      "\n",
      "class SnowballStemmer(nltk.stem.api.StemmerI)\n",
      " |  SnowballStemmer(language, ignore_stopwords=False)\n",
      " |  \n",
      " |  Snowball Stemmer\n",
      " |  \n",
      " |  The following languages are supported:\n",
      " |  Arabic, Danish, Dutch, English, Finnish, French, German,\n",
      " |  Hungarian, Italian, Norwegian, Portuguese, Romanian, Russian,\n",
      " |  Spanish and Swedish.\n",
      " |  \n",
      " |  The algorithm for English is documented here:\n",
      " |  \n",
      " |      Porter, M. \"An algorithm for suffix stripping.\"\n",
      " |      Program 14.3 (1980): 130-137.\n",
      " |  \n",
      " |  The algorithms have been developed by Martin Porter.\n",
      " |  These stemmers are called Snowball, because Porter created\n",
      " |  a programming language with this name for creating\n",
      " |  new stemming algorithms. There is more information available\n",
      " |  at http://snowball.tartarus.org/\n",
      " |  \n",
      " |  The stemmer is invoked as shown below:\n",
      " |  \n",
      " |  >>> from nltk.stem import SnowballStemmer # See which languages are supported\n",
      " |  >>> print(\" \".join(SnowballStemmer.languages)) # doctest: +NORMALIZE_WHITESPACE\n",
      " |  arabic danish dutch english finnish french german hungarian\n",
      " |  italian norwegian porter portuguese romanian russian\n",
      " |  spanish swedish\n",
      " |  >>> stemmer = SnowballStemmer(\"german\") # Choose a language\n",
      " |  >>> stemmer.stem(\"Autobahnen\") # Stem a word\n",
      " |  'autobahn'\n",
      " |  \n",
      " |  Invoking the stemmers that way is useful if you do not know the\n",
      " |  language to be stemmed at runtime. Alternatively, if you already know\n",
      " |  the language, then you can invoke the language specific stemmer directly:\n",
      " |  \n",
      " |  >>> from nltk.stem.snowball import GermanStemmer\n",
      " |  >>> stemmer = GermanStemmer()\n",
      " |  >>> stemmer.stem(\"Autobahnen\")\n",
      " |  'autobahn'\n",
      " |  \n",
      " |  :param language: The language whose subclass is instantiated.\n",
      " |  :type language: str or unicode\n",
      " |  :param ignore_stopwords: If set to True, stopwords are\n",
      " |                           not stemmed and returned unchanged.\n",
      " |                           Set to False by default.\n",
      " |  :type ignore_stopwords: bool\n",
      " |  :raise ValueError: If there is no stemmer for the specified\n",
      " |                         language, a ValueError is raised.\n",
      " |  \n",
      " |  Method resolution order:\n",
      " |      SnowballStemmer\n",
      " |      nltk.stem.api.StemmerI\n",
      " |      builtins.object\n",
      " |  \n",
      " |  Methods defined here:\n",
      " |  \n",
      " |  __init__(self, language, ignore_stopwords=False)\n",
      " |      Initialize self.  See help(type(self)) for accurate signature.\n",
      " |  \n",
      " |  stem(self, token)\n",
      " |      Strip affixes from the token and return the stem.\n",
      " |      \n",
      " |      :param token: The token that should be stemmed.\n",
      " |      :type token: str\n",
      " |  \n",
      " |  ----------------------------------------------------------------------\n",
      " |  Data and other attributes defined here:\n",
      " |  \n",
      " |  __abstractmethods__ = frozenset()\n",
      " |  \n",
      " |  languages = ('arabic', 'danish', 'dutch', 'english', 'finnish', 'frenc...\n",
      " |  \n",
      " |  ----------------------------------------------------------------------\n",
      " |  Data descriptors inherited from nltk.stem.api.StemmerI:\n",
      " |  \n",
      " |  __dict__\n",
      " |      dictionary for instance variables (if defined)\n",
      " |  \n",
      " |  __weakref__\n",
      " |      list of weak references to the object (if defined)\n",
      "\n"
     ]
    }
   ],
   "source": [
    "help(SnowballStemmer)"
   ]
  },
  {
   "cell_type": "code",
   "execution_count": 37,
   "id": "e32d0022-9862-4fa3-942a-9b3d1bad359e",
   "metadata": {},
   "outputs": [],
   "source": [
    "ss = SnowballStemmer(language='english')"
   ]
  },
  {
   "cell_type": "code",
   "execution_count": 39,
   "id": "b25df2c1-98cb-457b-81d4-35c21d441db4",
   "metadata": {},
   "outputs": [
    {
     "name": "stdout",
     "output_type": "stream",
     "text": [
      "managing --> manag\n",
      "manage --> manag\n",
      "management --> manag\n",
      "managerial --> manageri\n",
      "managed --> manag\n"
     ]
    }
   ],
   "source": [
    "for word in words1:\n",
    "    print(word,'-->', ss.stem(word))"
   ]
  },
  {
   "cell_type": "code",
   "execution_count": 40,
   "id": "0bb5c07e-de9e-4a55-89b2-028dbd8406a7",
   "metadata": {},
   "outputs": [
    {
     "name": "stdout",
     "output_type": "stream",
     "text": [
      "worked --> work\n",
      "workable --> workabl\n",
      "working --> work\n",
      "worked --> work\n"
     ]
    }
   ],
   "source": [
    "for word in words2:\n",
    "    print(word,'-->', ss.stem(word))"
   ]
  },
  {
   "cell_type": "code",
   "execution_count": 41,
   "id": "d6ea2438-a687-42f1-aa25-1097baed7f7d",
   "metadata": {},
   "outputs": [
    {
     "data": {
      "text/plain": [
       "('arabic',\n",
       " 'danish',\n",
       " 'dutch',\n",
       " 'english',\n",
       " 'finnish',\n",
       " 'french',\n",
       " 'german',\n",
       " 'hungarian',\n",
       " 'italian',\n",
       " 'norwegian',\n",
       " 'porter',\n",
       " 'portuguese',\n",
       " 'romanian',\n",
       " 'russian',\n",
       " 'spanish',\n",
       " 'swedish')"
      ]
     },
     "execution_count": 41,
     "metadata": {},
     "output_type": "execute_result"
    }
   ],
   "source": [
    "ss.languages"
   ]
  },
  {
   "cell_type": "code",
   "execution_count": null,
   "id": "a903a760-5aea-4254-a1a3-73b781e5d653",
   "metadata": {},
   "outputs": [],
   "source": []
  }
 ],
 "metadata": {
  "kernelspec": {
   "display_name": "Python 3 (ipykernel)",
   "language": "python",
   "name": "python3"
  },
  "language_info": {
   "codemirror_mode": {
    "name": "ipython",
    "version": 3
   },
   "file_extension": ".py",
   "mimetype": "text/x-python",
   "name": "python",
   "nbconvert_exporter": "python",
   "pygments_lexer": "ipython3",
   "version": "3.10.12"
  }
 },
 "nbformat": 4,
 "nbformat_minor": 5
}
