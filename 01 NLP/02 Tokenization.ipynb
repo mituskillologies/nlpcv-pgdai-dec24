{
 "cells": [
  {
   "cell_type": "markdown",
   "id": "0d0130d1-df93-4921-91ac-c7e49bcf4dc6",
   "metadata": {},
   "source": [
    "#### Install nltk and other libraries"
   ]
  },
  {
   "cell_type": "code",
   "execution_count": 1,
   "id": "251a184e-95ea-4322-9846-39c612c63ffd",
   "metadata": {},
   "outputs": [
    {
     "name": "stdout",
     "output_type": "stream",
     "text": [
      "Defaulting to user installation because normal site-packages is not writeable\n",
      "Requirement already satisfied: nltk in /home/mitu/.local/lib/python3.10/site-packages (3.8.1)\n",
      "Collecting nltk\n",
      "  Downloading nltk-3.9.1-py3-none-any.whl.metadata (2.9 kB)\n",
      "Requirement already satisfied: spacy in /home/mitu/.local/lib/python3.10/site-packages (3.7.4)\n",
      "Collecting spacy\n",
      "  Downloading spacy-3.8.2-cp310-cp310-manylinux_2_17_x86_64.manylinux2014_x86_64.whl.metadata (27 kB)\n",
      "Requirement already satisfied: textblob in /home/mitu/.local/lib/python3.10/site-packages (0.18.0.post0)\n",
      "Requirement already satisfied: click in /home/mitu/.local/lib/python3.10/site-packages (from nltk) (8.1.7)\n",
      "Requirement already satisfied: joblib in /usr/local/lib/python3.10/dist-packages (from nltk) (1.3.2)\n",
      "Requirement already satisfied: regex>=2021.8.3 in /home/mitu/.local/lib/python3.10/site-packages (from nltk) (2023.12.25)\n",
      "Requirement already satisfied: tqdm in /home/mitu/.local/lib/python3.10/site-packages (from nltk) (4.66.1)\n",
      "Requirement already satisfied: spacy-legacy<3.1.0,>=3.0.11 in /home/mitu/.local/lib/python3.10/site-packages (from spacy) (3.0.12)\n",
      "Requirement already satisfied: spacy-loggers<2.0.0,>=1.0.0 in /home/mitu/.local/lib/python3.10/site-packages (from spacy) (1.0.5)\n",
      "Requirement already satisfied: murmurhash<1.1.0,>=0.28.0 in /home/mitu/.local/lib/python3.10/site-packages (from spacy) (1.0.10)\n",
      "Requirement already satisfied: cymem<2.1.0,>=2.0.2 in /home/mitu/.local/lib/python3.10/site-packages (from spacy) (2.0.8)\n",
      "Requirement already satisfied: preshed<3.1.0,>=3.0.2 in /home/mitu/.local/lib/python3.10/site-packages (from spacy) (3.0.9)\n",
      "Collecting thinc<8.4.0,>=8.3.0 (from spacy)\n",
      "  Downloading thinc-8.3.2-cp310-cp310-manylinux_2_17_x86_64.manylinux2014_x86_64.whl.metadata (15 kB)\n",
      "Requirement already satisfied: wasabi<1.2.0,>=0.9.1 in /home/mitu/.local/lib/python3.10/site-packages (from spacy) (1.1.2)\n",
      "Requirement already satisfied: srsly<3.0.0,>=2.4.3 in /home/mitu/.local/lib/python3.10/site-packages (from spacy) (2.4.8)\n",
      "Requirement already satisfied: catalogue<2.1.0,>=2.0.6 in /home/mitu/.local/lib/python3.10/site-packages (from spacy) (2.0.10)\n",
      "Requirement already satisfied: weasel<0.5.0,>=0.1.0 in /home/mitu/.local/lib/python3.10/site-packages (from spacy) (0.3.4)\n",
      "Requirement already satisfied: typer<1.0.0,>=0.3.0 in /home/mitu/.local/lib/python3.10/site-packages (from spacy) (0.9.4)\n",
      "Requirement already satisfied: requests<3.0.0,>=2.13.0 in /usr/local/lib/python3.10/dist-packages (from spacy) (2.31.0)\n",
      "Requirement already satisfied: pydantic!=1.8,!=1.8.1,<3.0.0,>=1.7.4 in /home/mitu/.local/lib/python3.10/site-packages (from spacy) (2.9.2)\n",
      "Requirement already satisfied: jinja2 in /usr/local/lib/python3.10/dist-packages (from spacy) (3.1.2)\n",
      "Requirement already satisfied: setuptools in /usr/lib/python3/dist-packages (from spacy) (59.6.0)\n",
      "Requirement already satisfied: packaging>=20.0 in /usr/local/lib/python3.10/dist-packages (from spacy) (23.2)\n",
      "Requirement already satisfied: langcodes<4.0.0,>=3.2.0 in /home/mitu/.local/lib/python3.10/site-packages (from spacy) (3.3.0)\n",
      "Requirement already satisfied: numpy>=1.19.0 in /usr/local/lib/python3.10/dist-packages (from spacy) (1.26.3)\n",
      "Requirement already satisfied: annotated-types>=0.6.0 in /home/mitu/.local/lib/python3.10/site-packages (from pydantic!=1.8,!=1.8.1,<3.0.0,>=1.7.4->spacy) (0.6.0)\n",
      "Requirement already satisfied: pydantic-core==2.23.4 in /home/mitu/.local/lib/python3.10/site-packages (from pydantic!=1.8,!=1.8.1,<3.0.0,>=1.7.4->spacy) (2.23.4)\n",
      "Requirement already satisfied: typing-extensions>=4.6.1 in /home/mitu/.local/lib/python3.10/site-packages (from pydantic!=1.8,!=1.8.1,<3.0.0,>=1.7.4->spacy) (4.12.2)\n",
      "Requirement already satisfied: charset-normalizer<4,>=2 in /usr/local/lib/python3.10/dist-packages (from requests<3.0.0,>=2.13.0->spacy) (3.3.2)\n",
      "Requirement already satisfied: idna<4,>=2.5 in /home/mitu/.local/lib/python3.10/site-packages (from requests<3.0.0,>=2.13.0->spacy) (2.10)\n",
      "Requirement already satisfied: urllib3<3,>=1.21.1 in /usr/lib/python3/dist-packages (from requests<3.0.0,>=2.13.0->spacy) (1.26.5)\n",
      "Requirement already satisfied: certifi>=2017.4.17 in /usr/lib/python3/dist-packages (from requests<3.0.0,>=2.13.0->spacy) (2020.6.20)\n",
      "Collecting blis<1.1.0,>=1.0.0 (from thinc<8.4.0,>=8.3.0->spacy)\n",
      "  Downloading blis-1.0.1-cp310-cp310-manylinux_2_17_x86_64.manylinux2014_x86_64.whl.metadata (7.6 kB)\n",
      "Requirement already satisfied: confection<1.0.0,>=0.0.1 in /home/mitu/.local/lib/python3.10/site-packages (from thinc<8.4.0,>=8.3.0->spacy) (0.1.4)\n",
      "Collecting numpy>=1.19.0 (from spacy)\n",
      "  Downloading numpy-2.0.2-cp310-cp310-manylinux_2_17_x86_64.manylinux2014_x86_64.whl.metadata (60 kB)\n",
      "Requirement already satisfied: cloudpathlib<0.17.0,>=0.7.0 in /home/mitu/.local/lib/python3.10/site-packages (from weasel<0.5.0,>=0.1.0->spacy) (0.16.0)\n",
      "Requirement already satisfied: smart-open<7.0.0,>=5.2.1 in /home/mitu/.local/lib/python3.10/site-packages (from weasel<0.5.0,>=0.1.0->spacy) (6.4.0)\n",
      "Requirement already satisfied: MarkupSafe>=2.0 in /usr/local/lib/python3.10/dist-packages (from jinja2->spacy) (2.1.3)\n",
      "Downloading nltk-3.9.1-py3-none-any.whl (1.5 MB)\n",
      "\u001b[2K   \u001b[38;2;114;156;31m━━━━━━━━━━━━━━━━━━━━━━━━━━━━━━━━━━━━━━━━\u001b[0m \u001b[32m1.5/1.5 MB\u001b[0m \u001b[31m15.1 MB/s\u001b[0m eta \u001b[36m0:00:00\u001b[0m\n",
      "\u001b[?25hDownloading spacy-3.8.2-cp310-cp310-manylinux_2_17_x86_64.manylinux2014_x86_64.whl (29.1 MB)\n",
      "\u001b[2K   \u001b[38;2;114;156;31m━━━━━━━━━━━━━━━━━━━━━━━━━━━━━━━━━━━━━━━━\u001b[0m \u001b[32m29.1/29.1 MB\u001b[0m \u001b[31m36.6 MB/s\u001b[0m eta \u001b[36m0:00:00\u001b[0m MB/s\u001b[0m eta \u001b[36m0:00:01\u001b[0m:01\u001b[0m\n",
      "\u001b[?25hDownloading thinc-8.3.2-cp310-cp310-manylinux_2_17_x86_64.manylinux2014_x86_64.whl (3.7 MB)\n",
      "\u001b[2K   \u001b[38;2;114;156;31m━━━━━━━━━━━━━━━━━━━━━━━━━━━━━━━━━━━━━━━━\u001b[0m \u001b[32m3.7/3.7 MB\u001b[0m \u001b[31m34.0 MB/s\u001b[0m eta \u001b[36m0:00:00\u001b[0m\n",
      "\u001b[?25hDownloading numpy-2.0.2-cp310-cp310-manylinux_2_17_x86_64.manylinux2014_x86_64.whl (19.5 MB)\n",
      "\u001b[2K   \u001b[38;2;114;156;31m━━━━━━━━━━━━━━━━━━━━━━━━━━━━━━━━━━━━━━━━\u001b[0m \u001b[32m19.5/19.5 MB\u001b[0m \u001b[31m35.7 MB/s\u001b[0m eta \u001b[36m0:00:00\u001b[0m31m37.1 MB/s\u001b[0m eta \u001b[36m0:00:01\u001b[0m\n",
      "\u001b[?25hDownloading blis-1.0.1-cp310-cp310-manylinux_2_17_x86_64.manylinux2014_x86_64.whl (9.2 MB)\n",
      "\u001b[2K   \u001b[38;2;114;156;31m━━━━━━━━━━━━━━━━━━━━━━━━━━━━━━━━━━━━━━━━\u001b[0m \u001b[32m9.2/9.2 MB\u001b[0m \u001b[31m22.3 MB/s\u001b[0m eta \u001b[36m0:00:00\u001b[0m MB/s\u001b[0m eta \u001b[36m0:00:01\u001b[0m\n",
      "\u001b[?25hInstalling collected packages: numpy, nltk, blis, thinc, spacy\n",
      "  Attempting uninstall: nltk\n",
      "    Found existing installation: nltk 3.8.1\n",
      "    Uninstalling nltk-3.8.1:\n",
      "      Successfully uninstalled nltk-3.8.1\n",
      "  Attempting uninstall: blis\n",
      "    Found existing installation: blis 0.7.11\n",
      "    Uninstalling blis-0.7.11:\n",
      "      Successfully uninstalled blis-0.7.11\n",
      "  Attempting uninstall: thinc\n",
      "    Found existing installation: thinc 8.2.3\n",
      "    Uninstalling thinc-8.2.3:\n",
      "      Successfully uninstalled thinc-8.2.3\n",
      "  Attempting uninstall: spacy\n",
      "    Found existing installation: spacy 3.7.4\n",
      "    Uninstalling spacy-3.7.4:\n",
      "      Successfully uninstalled spacy-3.7.4\n",
      "\u001b[31mERROR: pip's dependency resolver does not currently take into account all the packages that are installed. This behaviour is the source of the following dependency conflicts.\n",
      "en-core-web-sm 3.7.1 requires spacy<3.8.0,>=3.7.2, but you have spacy 3.8.2 which is incompatible.\n",
      "langchain 0.3.3 requires numpy<2,>=1; python_version < \"3.12\", but you have numpy 2.0.2 which is incompatible.\n",
      "langchain-community 0.3.2 requires numpy<2,>=1; python_version < \"3.12\", but you have numpy 2.0.2 which is incompatible.\n",
      "rustworkx 0.14.2 requires numpy<2,>=1.16.0, but you have numpy 2.0.2 which is incompatible.\n",
      "tensorflow 2.16.2 requires numpy<2.0.0,>=1.23.5; python_version <= \"3.11\", but you have numpy 2.0.2 which is incompatible.\n",
      "contourpy 1.2.0 requires numpy<2.0,>=1.20, but you have numpy 2.0.2 which is incompatible.\n",
      "matplotlib 3.8.2 requires numpy<2,>=1.21, but you have numpy 2.0.2 which is incompatible.\n",
      "pandas 2.1.4 requires numpy<2,>=1.22.4; python_version < \"3.11\", but you have numpy 2.0.2 which is incompatible.\n",
      "scikit-learn 1.3.2 requires numpy<2.0,>=1.17.3, but you have numpy 2.0.2 which is incompatible.\n",
      "scipy 1.11.4 requires numpy<1.28.0,>=1.21.6, but you have numpy 2.0.2 which is incompatible.\u001b[0m\u001b[31m\n",
      "\u001b[0mSuccessfully installed blis-1.0.1 nltk-3.9.1 numpy-2.0.2 spacy-3.8.2 thinc-8.3.2\n",
      "\n",
      "\u001b[1m[\u001b[0m\u001b[34;49mnotice\u001b[0m\u001b[1;39;49m]\u001b[0m\u001b[39;49m A new release of pip is available: \u001b[0m\u001b[31;49m24.2\u001b[0m\u001b[39;49m -> \u001b[0m\u001b[32;49m24.3.1\u001b[0m\n",
      "\u001b[1m[\u001b[0m\u001b[34;49mnotice\u001b[0m\u001b[1;39;49m]\u001b[0m\u001b[39;49m To update, run: \u001b[0m\u001b[32;49mpython3 -m pip install --upgrade pip\u001b[0m\n",
      "Note: you may need to restart the kernel to use updated packages.\n"
     ]
    }
   ],
   "source": [
    "pip install nltk spacy textblob -U"
   ]
  },
  {
   "cell_type": "code",
   "execution_count": null,
   "id": "7415360d-98fb-456c-8cd8-644dbe150246",
   "metadata": {},
   "outputs": [
    {
     "name": "stdout",
     "output_type": "stream",
     "text": [
      "Found existing installation: numpy 2.1.3\n",
      "Uninstalling numpy-2.1.3:\n",
      "  Would remove:\n",
      "    /home/mitu/.local/bin/f2py\n",
      "    /home/mitu/.local/bin/numpy-config\n",
      "    /home/mitu/.local/lib/python3.10/site-packages/numpy-2.1.3.dist-info/*\n",
      "    /home/mitu/.local/lib/python3.10/site-packages/numpy.libs/libgfortran-040039e1-0352e75f.so.5.0.0\n",
      "    /home/mitu/.local/lib/python3.10/site-packages/numpy.libs/libquadmath-96973f99-934c22de.so.0.0.0\n",
      "    /home/mitu/.local/lib/python3.10/site-packages/numpy.libs/libscipy_openblas64_-ff651d7f.so\n",
      "    /home/mitu/.local/lib/python3.10/site-packages/numpy/*\n",
      "Proceed (Y/n)? "
     ]
    }
   ],
   "source": [
    "pip uninstall numpy"
   ]
  },
  {
   "cell_type": "code",
   "execution_count": null,
   "id": "5fcb35b6-b7ae-49a5-a3d3-1d4f5a9254d3",
   "metadata": {},
   "outputs": [],
   "source": [
    "pip uninstall numpy"
   ]
  },
  {
   "cell_type": "code",
   "execution_count": 8,
   "id": "c6b4524e-d5b1-4536-b87c-612f42bd3543",
   "metadata": {},
   "outputs": [
    {
     "name": "stdout",
     "output_type": "stream",
     "text": [
      "Defaulting to user installation because normal site-packages is not writeable\n",
      "Collecting numpy==1.14.5\n",
      "  Downloading numpy-1.14.5.zip (4.9 MB)\n",
      "\u001b[2K     \u001b[38;2;114;156;31m━━━━━━━━━━━━━━━━━━━━━━━━━━━━━━━━━━━━━━━━\u001b[0m \u001b[32m4.9/4.9 MB\u001b[0m \u001b[31m32.3 MB/s\u001b[0m eta \u001b[36m0:00:00\u001b[0m\n",
      "\u001b[?25h  Preparing metadata (setup.py) ... \u001b[?25ldone\n",
      "\u001b[?25hBuilding wheels for collected packages: numpy\n",
      "  Building wheel for numpy (setup.py) ... \u001b[?25l-^C\n",
      "\u001b[?25canceled\n",
      "\u001b[31mERROR: Operation cancelled by user\u001b[0m\u001b[31m\n",
      "\u001b[0mNote: you may need to restart the kernel to use updated packages.\n"
     ]
    }
   ],
   "source": [
    "pip install numpy==1.26.4"
   ]
  },
  {
   "cell_type": "code",
   "execution_count": 1,
   "id": "1b02f44c-b149-4783-ba8d-cbde9029e905",
   "metadata": {},
   "outputs": [],
   "source": [
    "import nltk"
   ]
  },
  {
   "cell_type": "code",
   "execution_count": 2,
   "id": "6cb0c60d-49fc-46fb-865b-65fd9e55bc32",
   "metadata": {},
   "outputs": [
    {
     "name": "stdout",
     "output_type": "stream",
     "text": [
      "showing info https://raw.githubusercontent.com/nltk/nltk_data/gh-pages/index.xml\n"
     ]
    },
    {
     "data": {
      "text/plain": [
       "True"
      ]
     },
     "execution_count": 2,
     "metadata": {},
     "output_type": "execute_result"
    }
   ],
   "source": [
    "nltk.download()"
   ]
  },
  {
   "cell_type": "code",
   "execution_count": 11,
   "id": "7350b665-ce6a-44e7-8f69-0062bd12a27e",
   "metadata": {},
   "outputs": [
    {
     "name": "stderr",
     "output_type": "stream",
     "text": [
      "[nltk_data] Downloading package punkt to /home/mitu/nltk_data...\n",
      "[nltk_data]   Package punkt is already up-to-date!\n",
      "[nltk_data] Downloading package punkt_tab to /home/mitu/nltk_data...\n",
      "[nltk_data]   Unzipping tokenizers/punkt_tab.zip.\n",
      "[nltk_data] Downloading package stopwords to /home/mitu/nltk_data...\n",
      "[nltk_data]   Unzipping corpora/stopwords.zip.\n",
      "[nltk_data] Downloading package wordnet to /home/mitu/nltk_data...\n",
      "[nltk_data]   Package wordnet is already up-to-date!\n",
      "[nltk_data] Downloading package omw-1.4 to /home/mitu/nltk_data...\n",
      "[nltk_data]   Package omw-1.4 is already up-to-date!\n",
      "[nltk_data] Downloading package averaged_perceptron_tagger to\n",
      "[nltk_data]     /home/mitu/nltk_data...\n",
      "[nltk_data]   Package averaged_perceptron_tagger is already up-to-\n",
      "[nltk_data]       date!\n",
      "[nltk_data] Downloading package indian to /home/mitu/nltk_data...\n",
      "[nltk_data]   Package indian is already up-to-date!\n",
      "[nltk_data] Downloading package maxent_ne_chunker to\n",
      "[nltk_data]     /home/mitu/nltk_data...\n",
      "[nltk_data]   Package maxent_ne_chunker is already up-to-date!\n"
     ]
    },
    {
     "data": {
      "text/plain": [
       "True"
      ]
     },
     "execution_count": 11,
     "metadata": {},
     "output_type": "execute_result"
    }
   ],
   "source": [
    "nltk.download('punkt')                 # tokenization\n",
    "nltk.download('punkt_tab')             # tokenization\n",
    "nltk.download('stopwords')             # collection of stopwords\n",
    "nltk.download('wordnet')               # wordnet -> database of english words\n",
    "nltk.download('omw-1.4')               # Open multilinguial wordnet\n",
    "nltk.download('averaged_perceptron_tagger') # POS tagging\n",
    "nltk.download('indian')                # Indian language POS tagging\n",
    "nltk.download('maxent_ne_chunker')     # NER tagging"
   ]
  },
  {
   "cell_type": "markdown",
   "id": "c2532dfb-a1b7-4662-ba9d-7b864f975c1e",
   "metadata": {},
   "source": [
    "##### Word Tokenize"
   ]
  },
  {
   "cell_type": "code",
   "execution_count": 1,
   "id": "fe1b58bb-d284-4765-a7c4-406c12e94130",
   "metadata": {},
   "outputs": [],
   "source": [
    "sent = 'They told that their ages are 25, 26 and 31 respectively.'"
   ]
  },
  {
   "cell_type": "code",
   "execution_count": 2,
   "id": "ae46def8-1e4c-4ed0-ba41-0958c43024e6",
   "metadata": {},
   "outputs": [
    {
     "data": {
      "text/plain": [
       "['They',\n",
       " 'told',\n",
       " 'that',\n",
       " 'their',\n",
       " 'ages',\n",
       " 'are',\n",
       " '25,',\n",
       " '26',\n",
       " 'and',\n",
       " '31',\n",
       " 'respectively.']"
      ]
     },
     "execution_count": 2,
     "metadata": {},
     "output_type": "execute_result"
    }
   ],
   "source": [
    "sent.split()"
   ]
  },
  {
   "cell_type": "code",
   "execution_count": 3,
   "id": "bb25c4cb-c7a5-4727-95bf-b18eb44d241f",
   "metadata": {},
   "outputs": [],
   "source": [
    "from nltk.tokenize import word_tokenize"
   ]
  },
  {
   "cell_type": "code",
   "execution_count": 4,
   "id": "3db45529-22a2-4a05-bf8d-e35ef9a8fd19",
   "metadata": {},
   "outputs": [
    {
     "data": {
      "text/plain": [
       "['They',\n",
       " 'told',\n",
       " 'that',\n",
       " 'their',\n",
       " 'ages',\n",
       " 'are',\n",
       " '25',\n",
       " ',',\n",
       " '26',\n",
       " 'and',\n",
       " '31',\n",
       " 'respectively',\n",
       " '.']"
      ]
     },
     "execution_count": 4,
     "metadata": {},
     "output_type": "execute_result"
    }
   ],
   "source": [
    "word_tokenize(sent)"
   ]
  },
  {
   "cell_type": "code",
   "execution_count": 5,
   "id": "e24300e2-0c46-4ef5-a859-88e12f20f1bc",
   "metadata": {},
   "outputs": [],
   "source": [
    "sent = 'Dr. Deshmukh told me about this.'"
   ]
  },
  {
   "cell_type": "code",
   "execution_count": 6,
   "id": "43ae514e-188a-40a7-9dcc-fa24f0bd6e1f",
   "metadata": {},
   "outputs": [
    {
     "data": {
      "text/plain": [
       "['Dr.', 'Deshmukh', 'told', 'me', 'about', 'this', '.']"
      ]
     },
     "execution_count": 6,
     "metadata": {},
     "output_type": "execute_result"
    }
   ],
   "source": [
    "word_tokenize(sent)"
   ]
  },
  {
   "cell_type": "code",
   "execution_count": 7,
   "id": "1bd4aa96-593c-4faa-99ec-baa335751e57",
   "metadata": {},
   "outputs": [],
   "source": [
    "sents = '''Hello friends!\n",
    "How are you? Welcome to the world of Python Programming.'''"
   ]
  },
  {
   "cell_type": "code",
   "execution_count": 8,
   "id": "3b39ec2e-8163-4032-973c-49728cbfdd08",
   "metadata": {},
   "outputs": [],
   "source": [
    "# count percentage of punctuations in it"
   ]
  },
  {
   "cell_type": "code",
   "execution_count": 9,
   "id": "5d19cfbf-06a1-40e0-8e4d-ff186548b870",
   "metadata": {},
   "outputs": [],
   "source": [
    "tokens = word_tokenize(sents)"
   ]
  },
  {
   "cell_type": "code",
   "execution_count": 10,
   "id": "013ae1ed-602d-4c62-b9e5-219493e02203",
   "metadata": {},
   "outputs": [
    {
     "data": {
      "text/plain": [
       "'!\"#$%&\\'()*+,-./:;<=>?@[\\\\]^_`{|}~'"
      ]
     },
     "execution_count": 10,
     "metadata": {},
     "output_type": "execute_result"
    }
   ],
   "source": [
    "import string\n",
    "string.punctuation"
   ]
  },
  {
   "cell_type": "code",
   "execution_count": 11,
   "id": "5109600f-2f95-465b-8aa2-4949eedf4cc8",
   "metadata": {},
   "outputs": [],
   "source": [
    "count = [word for word in tokens if word in string.punctuation]"
   ]
  },
  {
   "cell_type": "code",
   "execution_count": 12,
   "id": "0040a37b-7462-4f06-bb74-5a0bf4f2c4f0",
   "metadata": {},
   "outputs": [
    {
     "data": {
      "text/plain": [
       "20.0"
      ]
     },
     "execution_count": 12,
     "metadata": {},
     "output_type": "execute_result"
    }
   ],
   "source": [
    "len(count) / len(tokens) * 100"
   ]
  },
  {
   "cell_type": "code",
   "execution_count": 13,
   "id": "0e2fb1e5-8de8-4faf-9ba8-d2e6b03ce1c1",
   "metadata": {},
   "outputs": [],
   "source": [
    "count = [word for word in tokens if not word.isalpha() and not word.isdigit()]"
   ]
  },
  {
   "cell_type": "code",
   "execution_count": 14,
   "id": "147dbbbf-2e39-49e7-9690-abdedd171281",
   "metadata": {},
   "outputs": [
    {
     "data": {
      "text/plain": [
       "20.0"
      ]
     },
     "execution_count": 14,
     "metadata": {},
     "output_type": "execute_result"
    }
   ],
   "source": [
    "len(count) / len(tokens) * 100"
   ]
  },
  {
   "cell_type": "code",
   "execution_count": 15,
   "id": "467a1b6b-85d9-41f4-a98d-2763a2f780dd",
   "metadata": {},
   "outputs": [],
   "source": [
    "sents = '''लंडन (इंग्लिश: En-uk-London.ogg London ) हे इंग्लंडचे व युनायटेड किंग्डमचे राजधानीचे व सर्वात मोठे शहर तसेच युरोपियन संघामधील सर्वात मोठे महानगर क्षेत्र आहे. थेम्स नदीच्या काठावर वसलेल्या ह्या शहराला २,००० पेक्षा जास्त वर्षांचा इतिहास आहे.\n",
    "लंडन हे अर्थ, कला आणि उद्योग या क्षेत्रांमध्ये जगातील एक प्रमुख शहर आहे. न्यू यॉर्क शहर व टोकियोसोबत लंडन हे जगातील सर्वात शक्तिशाली आर्थिक केंद्र मानले जाते.तसेच युरोपातील सर्वात मोठे अर्थव्यवस्था असलेले शहर हा मान देखील लंडनकडेच जातो. जगातील सर्वाधिक आंतरराष्ट्रीय पर्यटक लंडनमध्ये येतात तसेच लंडन हीथ्रो विमानतळ हा आंतरराष्ट्रीय प्रवासी वाहतूकीसाठी जगातील सर्वात मोठा विमानतळ आहे. २०१२ सालच्या ऑलिंपिक स्पर्धा लंडनमध्ये भरवल्या गेल्या. ह्या स्पर्धांचे तिसऱ्यांदा आयोजन करणारे लंडन हे जगातील एकमेव शहर आहे.\n",
    "जुलै २०१० मध्ये ७८,२५,२०० इतकी लोकसंख्या असलेले लंडन युरोपामधील सर्वाधिक लोकसंख्येचे शहर होते. ग्रेटर लंडनची लोकसंख्या ८२,७८,२५१ तर लंडन महानगर क्षेत्राची लोकसंख्या अंदाजे १.२ ते १.४ कोटी आहे. लंडन शहराच्या समाजरचनेत कमालीचे वैविध्य आढळते. लंडन परिसरात ३०० भाषा बोलल्या जातात. सध्या लंडन परिसरात राहणारे ६.६ टक्के लोक भारतीय वंशाचे आहेत.\n",
    "लंडन हे नाव इ.स.च्या पहिल्या शतकापासून वापरात आहे. या सुमारास हे नाव लंडनियम असे लॅटिनीकृत केले जात असे. इतर भाषांमध्ये हे लुंडेन (जुने इंग्लिश), लुंडैन (वेल्श) किंवा लंडन्योन (केल्टिक) असे वापरले जात असे. य केल्टिक नावाचे इंग्लिश आणि लॅटिनमध्ये लंडन असे रुपांतरण झाले.\n",
    "१८८९पर्यंत फक्त लंडन शहराला लंडन असे संबोधले जात असे. त्यानंतर लंडन काउंटी तसेच बृहद् लंडन परिसराला लंडन नावाने ओळखतात.'''"
   ]
  },
  {
   "cell_type": "code",
   "execution_count": 16,
   "id": "5bb6821a-7d71-499c-aeaf-3d3cfc29e37c",
   "metadata": {},
   "outputs": [
    {
     "data": {
      "text/plain": [
       "'लंडन (इंग्लिश: En-uk-London.ogg London ) हे इंग्लंडचे व युनायटेड किंग्डमचे राजधानीचे व सर्वात मोठे शहर तसेच युरोपियन संघामधील सर्वात मोठे महानगर क्षेत्र आहे. थेम्स नदीच्या काठावर वसलेल्या ह्या शहराला २,००० पेक्षा जास्त वर्षांचा इतिहास आहे.\\nलंडन हे अर्थ, कला आणि उद्योग या क्षेत्रांमध्ये जगातील एक प्रमुख शहर आहे. न्यू यॉर्क शहर व टोकियोसोबत लंडन हे जगातील सर्वात शक्तिशाली आर्थिक केंद्र मानले जाते.तसेच युरोपातील सर्वात मोठे अर्थव्यवस्था असलेले शहर हा मान देखील लंडनकडेच जातो. जगातील सर्वाधिक आंतरराष्ट्रीय पर्यटक लंडनमध्ये येतात तसेच लंडन हीथ्रो विमानतळ हा आंतरराष्ट्रीय प्रवासी वाहतूकीसाठी जगातील सर्वात मोठा विमानतळ आहे. २०१२ सालच्या ऑलिंपिक स्पर्धा लंडनमध्ये भरवल्या गेल्या. ह्या स्पर्धांचे तिसऱ्यांदा आयोजन करणारे लंडन हे जगातील एकमेव शहर आहे.\\nजुलै २०१० मध्ये ७८,२५,२०० इतकी लोकसंख्या असलेले लंडन युरोपामधील सर्वाधिक लोकसंख्येचे शहर होते. ग्रेटर लंडनची लोकसंख्या ८२,७८,२५१ तर लंडन महानगर क्षेत्राची लोकसंख्या अंदाजे १.२ ते १.४ कोटी आहे. लंडन शहराच्या समाजरचनेत कमालीचे वैविध्य आढळते. लंडन परिसरात ३०० भाषा बोलल्या जातात. सध्या लंडन परिसरात राहणारे ६.६ टक्के लोक भारतीय वंशाचे आहेत.\\nलंडन हे नाव इ.स.च्या पहिल्या शतकापासून वापरात आहे. या सुमारास हे नाव लंडनियम असे लॅटिनीकृत केले जात असे. इतर भाषांमध्ये हे लुंडेन (जुने इंग्लिश), लुंडैन (वेल्श) किंवा लंडन्योन (केल्टिक) असे वापरले जात असे. य केल्टिक नावाचे इंग्लिश आणि लॅटिनमध्ये लंडन असे रुपांतरण झाले.\\n१८८९पर्यंत फक्त लंडन शहराला लंडन असे संबोधले जात असे. त्यानंतर लंडन काउंटी तसेच बृहद् लंडन परिसराला लंडन नावाने ओळखतात.'"
      ]
     },
     "execution_count": 16,
     "metadata": {},
     "output_type": "execute_result"
    }
   ],
   "source": [
    "sents"
   ]
  },
  {
   "cell_type": "code",
   "execution_count": 17,
   "id": "8f9426c6-1bed-4a0b-99c9-9a78ed286835",
   "metadata": {},
   "outputs": [
    {
     "data": {
      "text/plain": [
       "['लंडन',\n",
       " '(',\n",
       " 'इंग्लिश',\n",
       " ':',\n",
       " 'En-uk-London.ogg',\n",
       " 'London',\n",
       " ')',\n",
       " 'हे',\n",
       " 'इंग्लंडचे',\n",
       " 'व',\n",
       " 'युनायटेड',\n",
       " 'किंग्डमचे',\n",
       " 'राजधानीचे',\n",
       " 'व',\n",
       " 'सर्वात',\n",
       " 'मोठे',\n",
       " 'शहर',\n",
       " 'तसेच',\n",
       " 'युरोपियन',\n",
       " 'संघामधील',\n",
       " 'सर्वात',\n",
       " 'मोठे',\n",
       " 'महानगर',\n",
       " 'क्षेत्र',\n",
       " 'आहे',\n",
       " '.',\n",
       " 'थेम्स',\n",
       " 'नदीच्या',\n",
       " 'काठावर',\n",
       " 'वसलेल्या',\n",
       " 'ह्या',\n",
       " 'शहराला',\n",
       " '२,०००',\n",
       " 'पेक्षा',\n",
       " 'जास्त',\n",
       " 'वर्षांचा',\n",
       " 'इतिहास',\n",
       " 'आहे',\n",
       " '.',\n",
       " 'लंडन',\n",
       " 'हे',\n",
       " 'अर्थ',\n",
       " ',',\n",
       " 'कला',\n",
       " 'आणि',\n",
       " 'उद्योग',\n",
       " 'या',\n",
       " 'क्षेत्रांमध्ये',\n",
       " 'जगातील',\n",
       " 'एक',\n",
       " 'प्रमुख',\n",
       " 'शहर',\n",
       " 'आहे',\n",
       " '.',\n",
       " 'न्यू',\n",
       " 'यॉर्क',\n",
       " 'शहर',\n",
       " 'व',\n",
       " 'टोकियोसोबत',\n",
       " 'लंडन',\n",
       " 'हे',\n",
       " 'जगातील',\n",
       " 'सर्वात',\n",
       " 'शक्तिशाली',\n",
       " 'आर्थिक',\n",
       " 'केंद्र',\n",
       " 'मानले',\n",
       " 'जाते.तसेच',\n",
       " 'युरोपातील',\n",
       " 'सर्वात',\n",
       " 'मोठे',\n",
       " 'अर्थव्यवस्था',\n",
       " 'असलेले',\n",
       " 'शहर',\n",
       " 'हा',\n",
       " 'मान',\n",
       " 'देखील',\n",
       " 'लंडनकडेच',\n",
       " 'जातो',\n",
       " '.',\n",
       " 'जगातील',\n",
       " 'सर्वाधिक',\n",
       " 'आंतरराष्ट्रीय',\n",
       " 'पर्यटक',\n",
       " 'लंडनमध्ये',\n",
       " 'येतात',\n",
       " 'तसेच',\n",
       " 'लंडन',\n",
       " 'हीथ्रो',\n",
       " 'विमानतळ',\n",
       " 'हा',\n",
       " 'आंतरराष्ट्रीय',\n",
       " 'प्रवासी',\n",
       " 'वाहतूकीसाठी',\n",
       " 'जगातील',\n",
       " 'सर्वात',\n",
       " 'मोठा',\n",
       " 'विमानतळ',\n",
       " 'आहे',\n",
       " '.',\n",
       " '२०१२',\n",
       " 'सालच्या',\n",
       " 'ऑलिंपिक',\n",
       " 'स्पर्धा',\n",
       " 'लंडनमध्ये',\n",
       " 'भरवल्या',\n",
       " 'गेल्या',\n",
       " '.',\n",
       " 'ह्या',\n",
       " 'स्पर्धांचे',\n",
       " 'तिसऱ्यांदा',\n",
       " 'आयोजन',\n",
       " 'करणारे',\n",
       " 'लंडन',\n",
       " 'हे',\n",
       " 'जगातील',\n",
       " 'एकमेव',\n",
       " 'शहर',\n",
       " 'आहे',\n",
       " '.',\n",
       " 'जुलै',\n",
       " '२०१०',\n",
       " 'मध्ये',\n",
       " '७८,२५,२००',\n",
       " 'इतकी',\n",
       " 'लोकसंख्या',\n",
       " 'असलेले',\n",
       " 'लंडन',\n",
       " 'युरोपामधील',\n",
       " 'सर्वाधिक',\n",
       " 'लोकसंख्येचे',\n",
       " 'शहर',\n",
       " 'होते',\n",
       " '.',\n",
       " 'ग्रेटर',\n",
       " 'लंडनची',\n",
       " 'लोकसंख्या',\n",
       " '८२,७८,२५१',\n",
       " 'तर',\n",
       " 'लंडन',\n",
       " 'महानगर',\n",
       " 'क्षेत्राची',\n",
       " 'लोकसंख्या',\n",
       " 'अंदाजे',\n",
       " '१.२',\n",
       " 'ते',\n",
       " '१.४',\n",
       " 'कोटी',\n",
       " 'आहे',\n",
       " '.',\n",
       " 'लंडन',\n",
       " 'शहराच्या',\n",
       " 'समाजरचनेत',\n",
       " 'कमालीचे',\n",
       " 'वैविध्य',\n",
       " 'आढळते',\n",
       " '.',\n",
       " 'लंडन',\n",
       " 'परिसरात',\n",
       " '३००',\n",
       " 'भाषा',\n",
       " 'बोलल्या',\n",
       " 'जातात',\n",
       " '.',\n",
       " 'सध्या',\n",
       " 'लंडन',\n",
       " 'परिसरात',\n",
       " 'राहणारे',\n",
       " '६.६',\n",
       " 'टक्के',\n",
       " 'लोक',\n",
       " 'भारतीय',\n",
       " 'वंशाचे',\n",
       " 'आहेत',\n",
       " '.',\n",
       " 'लंडन',\n",
       " 'हे',\n",
       " 'नाव',\n",
       " 'इ.स.च्या',\n",
       " 'पहिल्या',\n",
       " 'शतकापासून',\n",
       " 'वापरात',\n",
       " 'आहे',\n",
       " '.',\n",
       " 'या',\n",
       " 'सुमारास',\n",
       " 'हे',\n",
       " 'नाव',\n",
       " 'लंडनियम',\n",
       " 'असे',\n",
       " 'लॅटिनीकृत',\n",
       " 'केले',\n",
       " 'जात',\n",
       " 'असे',\n",
       " '.',\n",
       " 'इतर',\n",
       " 'भाषांमध्ये',\n",
       " 'हे',\n",
       " 'लुंडेन',\n",
       " '(',\n",
       " 'जुने',\n",
       " 'इंग्लिश',\n",
       " ')',\n",
       " ',',\n",
       " 'लुंडैन',\n",
       " '(',\n",
       " 'वेल्श',\n",
       " ')',\n",
       " 'किंवा',\n",
       " 'लंडन्योन',\n",
       " '(',\n",
       " 'केल्टिक',\n",
       " ')',\n",
       " 'असे',\n",
       " 'वापरले',\n",
       " 'जात',\n",
       " 'असे',\n",
       " '.',\n",
       " 'य',\n",
       " 'केल्टिक',\n",
       " 'नावाचे',\n",
       " 'इंग्लिश',\n",
       " 'आणि',\n",
       " 'लॅटिनमध्ये',\n",
       " 'लंडन',\n",
       " 'असे',\n",
       " 'रुपांतरण',\n",
       " 'झाले',\n",
       " '.',\n",
       " '१८८९पर्यंत',\n",
       " 'फक्त',\n",
       " 'लंडन',\n",
       " 'शहराला',\n",
       " 'लंडन',\n",
       " 'असे',\n",
       " 'संबोधले',\n",
       " 'जात',\n",
       " 'असे',\n",
       " '.',\n",
       " 'त्यानंतर',\n",
       " 'लंडन',\n",
       " 'काउंटी',\n",
       " 'तसेच',\n",
       " 'बृहद्',\n",
       " 'लंडन',\n",
       " 'परिसराला',\n",
       " 'लंडन',\n",
       " 'नावाने',\n",
       " 'ओळखतात',\n",
       " '.']"
      ]
     },
     "execution_count": 17,
     "metadata": {},
     "output_type": "execute_result"
    }
   ],
   "source": [
    "word_tokenize(sents)"
   ]
  },
  {
   "cell_type": "markdown",
   "id": "bdcde894-2359-43ce-8b57-6e125ea5b34e",
   "metadata": {},
   "source": [
    "##### Sentence Tokenization"
   ]
  },
  {
   "cell_type": "code",
   "execution_count": 19,
   "id": "7aaabbe6-1ca6-4c41-a06d-2da98de34664",
   "metadata": {},
   "outputs": [],
   "source": [
    "from nltk.tokenize import sent_tokenize"
   ]
  },
  {
   "cell_type": "code",
   "execution_count": 20,
   "id": "17f13b49-c126-44ef-8f99-b2799c7cecb9",
   "metadata": {},
   "outputs": [],
   "source": [
    "text = '''Hello friends!\n",
    "How are you? Welcome to the world of Python Programming.'''"
   ]
  },
  {
   "cell_type": "code",
   "execution_count": 21,
   "id": "4b878c7e-9e7a-4878-87dd-f7f752e87bb4",
   "metadata": {},
   "outputs": [
    {
     "data": {
      "text/plain": [
       "['Hello friends!',\n",
       " 'How are you?',\n",
       " 'Welcome to the world of Python Programming.']"
      ]
     },
     "execution_count": 21,
     "metadata": {},
     "output_type": "execute_result"
    }
   ],
   "source": [
    "sent_tokenize(text)"
   ]
  },
  {
   "cell_type": "code",
   "execution_count": 22,
   "id": "669d07ea-916a-46f4-a836-93a29ad693e4",
   "metadata": {},
   "outputs": [
    {
     "data": {
      "text/plain": [
       "['लंडन (इंग्लिश: En-uk-London.ogg London ) हे इंग्लंडचे व युनायटेड किंग्डमचे राजधानीचे व सर्वात मोठे शहर तसेच युरोपियन संघामधील सर्वात मोठे महानगर क्षेत्र आहे.',\n",
       " 'थेम्स नदीच्या काठावर वसलेल्या ह्या शहराला २,००० पेक्षा जास्त वर्षांचा इतिहास आहे.',\n",
       " 'लंडन हे अर्थ, कला आणि उद्योग या क्षेत्रांमध्ये जगातील एक प्रमुख शहर आहे.',\n",
       " 'न्यू यॉर्क शहर व टोकियोसोबत लंडन हे जगातील सर्वात शक्तिशाली आर्थिक केंद्र मानले जाते.तसेच युरोपातील सर्वात मोठे अर्थव्यवस्था असलेले शहर हा मान देखील लंडनकडेच जातो.',\n",
       " 'जगातील सर्वाधिक आंतरराष्ट्रीय पर्यटक लंडनमध्ये येतात तसेच लंडन हीथ्रो विमानतळ हा आंतरराष्ट्रीय प्रवासी वाहतूकीसाठी जगातील सर्वात मोठा विमानतळ आहे.',\n",
       " '२०१२ सालच्या ऑलिंपिक स्पर्धा लंडनमध्ये भरवल्या गेल्या.',\n",
       " 'ह्या स्पर्धांचे तिसऱ्यांदा आयोजन करणारे लंडन हे जगातील एकमेव शहर आहे.',\n",
       " 'जुलै २०१० मध्ये ७८,२५,२०० इतकी लोकसंख्या असलेले लंडन युरोपामधील सर्वाधिक लोकसंख्येचे शहर होते.',\n",
       " 'ग्रेटर लंडनची लोकसंख्या ८२,७८,२५१ तर लंडन महानगर क्षेत्राची लोकसंख्या अंदाजे १.२ ते १.४ कोटी आहे.',\n",
       " 'लंडन शहराच्या समाजरचनेत कमालीचे वैविध्य आढळते.',\n",
       " 'लंडन परिसरात ३०० भाषा बोलल्या जातात.',\n",
       " 'सध्या लंडन परिसरात राहणारे ६.६ टक्के लोक भारतीय वंशाचे आहेत.',\n",
       " 'लंडन हे नाव इ.स.च्या पहिल्या शतकापासून वापरात आहे.',\n",
       " 'या सुमारास हे नाव लंडनियम असे लॅटिनीकृत केले जात असे.',\n",
       " 'इतर भाषांमध्ये हे लुंडेन (जुने इंग्लिश), लुंडैन (वेल्श) किंवा लंडन्योन (केल्टिक) असे वापरले जात असे.',\n",
       " 'य केल्टिक नावाचे इंग्लिश आणि लॅटिनमध्ये लंडन असे रुपांतरण झाले.',\n",
       " '१८८९पर्यंत फक्त लंडन शहराला लंडन असे संबोधले जात असे.',\n",
       " 'त्यानंतर लंडन काउंटी तसेच बृहद् लंडन परिसराला लंडन नावाने ओळखतात.']"
      ]
     },
     "execution_count": 22,
     "metadata": {},
     "output_type": "execute_result"
    }
   ],
   "source": [
    "sent_tokenize(sents)"
   ]
  },
  {
   "cell_type": "code",
   "execution_count": 23,
   "id": "3f0599d5-2358-4801-a5e9-f7859a366da1",
   "metadata": {},
   "outputs": [],
   "source": [
    "india = '''India, officially the Republic of India,[j][20] is a country in South Asia. It is the seventh-largest country in the world by area and the most populous country. Bounded by the Indian Ocean on the south, the Arabian Sea on the southwest, and the Bay of Bengal on the southeast, it shares land borders with Pakistan to the west;[k] China, Nepal, and Bhutan to the north; and Bangladesh and Myanmar to the east. In the Indian Ocean, India is in the vicinity of Sri Lanka and the Maldives; its Andaman and Nicobar Islands share a maritime border with Thailand, Myanmar, and Indonesia.\n",
    "Modern humans arrived on the Indian subcontinent from Africa no later than 55,000 years ago.[22][23][24] Their long occupation, initially in varying forms of isolation as hunter-gatherers, has made the region highly diverse, second only to Africa in human genetic diversity.[25] Settled life emerged on the subcontinent in the western margins of the Indus river basin 9,000 years ago, evolving gradually into the Indus Valley Civilisation of the third millennium BCE.[26] By at least 1200 BCE, an archaic form of Sanskrit, an Indo-European language, had diffused into India from the northwest.[27][28] Its evidence today is found in the hymns of the Rigveda. Preserved by an oral tradition that was resolutely vigilant, the Rigveda records the dawning of Hinduism in India.[29] The Dravidian languages of India were supplanted in the northern and western regions.[30] By 400 BCE, stratification and exclusion by caste had emerged within Hinduism,[31] and Buddhism and Jainism had arisen, proclaiming social orders unlinked to heredity.[32] Early political consolidations gave rise to the loose-knit Maurya and Gupta Empires based in the Ganges Basin.[33] Their collective era was suffused with wide-ranging creativity,[34] but also marked by the declining status of women,[35] and the incorporation of untouchability into an organised system of belief.[l][36] The Middle kingdoms exported Sanskrit language, south Indian scripts and religions of Hinduism and Buddhism to the Southeast Asia.'''"
   ]
  },
  {
   "cell_type": "code",
   "execution_count": 24,
   "id": "0ac1db85-f91a-4b68-ad09-ab9eeab7dd89",
   "metadata": {},
   "outputs": [
    {
     "data": {
      "text/plain": [
       "'India, officially the Republic of India,[j][20] is a country in South Asia. It is the seventh-largest country in the world by area and the most populous country. Bounded by the Indian Ocean on the south, the Arabian Sea on the southwest, and the Bay of Bengal on the southeast, it shares land borders with Pakistan to the west;[k] China, Nepal, and Bhutan to the north; and Bangladesh and Myanmar to the east. In the Indian Ocean, India is in the vicinity of Sri Lanka and the Maldives; its Andaman and Nicobar Islands share a maritime border with Thailand, Myanmar, and Indonesia.\\nModern humans arrived on the Indian subcontinent from Africa no later than 55,000 years ago.[22][23][24] Their long occupation, initially in varying forms of isolation as hunter-gatherers, has made the region highly diverse, second only to Africa in human genetic diversity.[25] Settled life emerged on the subcontinent in the western margins of the Indus river basin 9,000 years ago, evolving gradually into the Indus Valley Civilisation of the third millennium BCE.[26] By at least 1200 BCE, an archaic form of Sanskrit, an Indo-European language, had diffused into India from the northwest.[27][28] Its evidence today is found in the hymns of the Rigveda. Preserved by an oral tradition that was resolutely vigilant, the Rigveda records the dawning of Hinduism in India.[29] The Dravidian languages of India were supplanted in the northern and western regions.[30] By 400 BCE, stratification and exclusion by caste had emerged within Hinduism,[31] and Buddhism and Jainism had arisen, proclaiming social orders unlinked to heredity.[32] Early political consolidations gave rise to the loose-knit Maurya and Gupta Empires based in the Ganges Basin.[33] Their collective era was suffused with wide-ranging creativity,[34] but also marked by the declining status of women,[35] and the incorporation of untouchability into an organised system of belief.[l][36] The Middle kingdoms exported Sanskrit language, south Indian scripts and religions of Hinduism and Buddhism to the Southeast Asia.'"
      ]
     },
     "execution_count": 24,
     "metadata": {},
     "output_type": "execute_result"
    }
   ],
   "source": [
    "india"
   ]
  },
  {
   "cell_type": "code",
   "execution_count": 40,
   "id": "684eec60-8652-488c-864f-e0cefff8d0c9",
   "metadata": {},
   "outputs": [],
   "source": [
    "# Print the statement which contains maximum number of 'the'"
   ]
  },
  {
   "cell_type": "code",
   "execution_count": 38,
   "id": "8cc6cf59-dd79-4417-8578-2882dd4ffc47",
   "metadata": {},
   "outputs": [],
   "source": [
    "max = 0\n",
    "for sent in sent_tokenize(india):\n",
    "    count = word_tokenize(sent.lower()).count('the')\n",
    "    if count > max:\n",
    "        max = count\n",
    "        final_sent = sent"
   ]
  },
  {
   "cell_type": "code",
   "execution_count": 39,
   "id": "e3421a3b-37db-4146-84af-0a3ec27a182d",
   "metadata": {},
   "outputs": [
    {
     "data": {
      "text/plain": [
       "'Bounded by the Indian Ocean on the south, the Arabian Sea on the southwest, and the Bay of Bengal on the southeast, it shares land borders with Pakistan to the west;[k] China, Nepal, and Bhutan to the north; and Bangladesh and Myanmar to the east.'"
      ]
     },
     "execution_count": 39,
     "metadata": {},
     "output_type": "execute_result"
    }
   ],
   "source": [
    "final_sent"
   ]
  },
  {
   "cell_type": "markdown",
   "id": "a7ab4b73-5bcf-4d23-b6d4-295ce0b07585",
   "metadata": {},
   "source": [
    "##### Whitespace Tokenizer"
   ]
  },
  {
   "cell_type": "code",
   "execution_count": 42,
   "id": "d6f4fc98-8a59-4cdc-a80f-20fd51d45109",
   "metadata": {},
   "outputs": [],
   "source": [
    "from nltk.tokenize import WhitespaceTokenizer"
   ]
  },
  {
   "cell_type": "code",
   "execution_count": 43,
   "id": "ec53e84c-c10d-4cfe-af89-f632058158ff",
   "metadata": {},
   "outputs": [],
   "source": [
    "tk = WhitespaceTokenizer()"
   ]
  },
  {
   "cell_type": "code",
   "execution_count": 44,
   "id": "8dd58ee9-4922-43d9-9acd-eeca264591ec",
   "metadata": {},
   "outputs": [
    {
     "data": {
      "text/plain": [
       "['Hello',\n",
       " 'friends!',\n",
       " 'How',\n",
       " 'are',\n",
       " 'you?',\n",
       " 'Welcome',\n",
       " 'to',\n",
       " 'the',\n",
       " 'world',\n",
       " 'of',\n",
       " 'Python',\n",
       " 'Programming.']"
      ]
     },
     "execution_count": 44,
     "metadata": {},
     "output_type": "execute_result"
    }
   ],
   "source": [
    "tk.tokenize(text)"
   ]
  },
  {
   "cell_type": "markdown",
   "id": "a01fc434-2f01-47d5-bb7c-11d1c77b4248",
   "metadata": {},
   "source": [
    "##### Space Tokenizer"
   ]
  },
  {
   "cell_type": "code",
   "execution_count": 45,
   "id": "4ccd0db9-84f5-427a-80ba-30d302445004",
   "metadata": {},
   "outputs": [],
   "source": [
    "from nltk.tokenize import SpaceTokenizer"
   ]
  },
  {
   "cell_type": "code",
   "execution_count": 46,
   "id": "73c9ba59-2820-4277-9d2c-f00262104cef",
   "metadata": {},
   "outputs": [],
   "source": [
    "tk = SpaceTokenizer()"
   ]
  },
  {
   "cell_type": "code",
   "execution_count": 50,
   "id": "db291053-8aa2-4a97-ac95-1a959d8f53e5",
   "metadata": {},
   "outputs": [
    {
     "name": "stdout",
     "output_type": "stream",
     "text": [
      "Hello friends!\n",
      "How are you? Welcome to the world of Python Programming.\n"
     ]
    }
   ],
   "source": [
    "print(text)"
   ]
  },
  {
   "cell_type": "code",
   "execution_count": 47,
   "id": "413dd0a4-2963-405e-9563-5bebfda95eef",
   "metadata": {},
   "outputs": [
    {
     "data": {
      "text/plain": [
       "['Hello',\n",
       " 'friends!\\nHow',\n",
       " 'are',\n",
       " 'you?',\n",
       " 'Welcome',\n",
       " 'to',\n",
       " 'the',\n",
       " 'world',\n",
       " 'of',\n",
       " 'Python',\n",
       " 'Programming.']"
      ]
     },
     "execution_count": 47,
     "metadata": {},
     "output_type": "execute_result"
    }
   ],
   "source": [
    "tk.tokenize(text)"
   ]
  },
  {
   "cell_type": "markdown",
   "id": "ca518a47-6c17-49f3-b7b1-06e68da13ec6",
   "metadata": {},
   "source": [
    "##### Line Tokenizer"
   ]
  },
  {
   "cell_type": "code",
   "execution_count": 52,
   "id": "24949fbd-df3d-4005-8c1f-47e8919cceb9",
   "metadata": {},
   "outputs": [],
   "source": [
    "from nltk.tokenize import LineTokenizer"
   ]
  },
  {
   "cell_type": "code",
   "execution_count": 53,
   "id": "692be233-c560-41ae-b12d-66ffd297fd8f",
   "metadata": {},
   "outputs": [],
   "source": [
    "tk = LineTokenizer()"
   ]
  },
  {
   "cell_type": "code",
   "execution_count": 54,
   "id": "1327e492-b5c6-4b67-a074-a4a472ab688d",
   "metadata": {},
   "outputs": [
    {
     "data": {
      "text/plain": [
       "['Hello friends!', 'How are you? Welcome to the world of Python Programming.']"
      ]
     },
     "execution_count": 54,
     "metadata": {},
     "output_type": "execute_result"
    }
   ],
   "source": [
    "tk.tokenize(text)"
   ]
  },
  {
   "cell_type": "markdown",
   "id": "637a3ccc-2046-4c8b-ba05-17b458be62ab",
   "metadata": {},
   "source": [
    "##### Tab Tokenizer"
   ]
  },
  {
   "cell_type": "code",
   "execution_count": 56,
   "id": "76af8196-56ac-492f-85b2-3df1699f4d20",
   "metadata": {},
   "outputs": [],
   "source": [
    "from nltk.tokenize import TabTokenizer"
   ]
  },
  {
   "cell_type": "code",
   "execution_count": 57,
   "id": "8ede3104-4277-4907-ab03-1aa91b13a2da",
   "metadata": {},
   "outputs": [],
   "source": [
    "tk = TabTokenizer()"
   ]
  },
  {
   "cell_type": "code",
   "execution_count": 58,
   "id": "b8fc1a0f-5282-4354-8d86-a1a97776570d",
   "metadata": {},
   "outputs": [],
   "source": [
    "text = '''Hello friends!\n",
    "How are you? Welcome to the world of\\tPython\\tProgramming.'''"
   ]
  },
  {
   "cell_type": "code",
   "execution_count": 59,
   "id": "972a6b08-78cb-4ebf-9d7c-704471acb4f7",
   "metadata": {},
   "outputs": [
    {
     "name": "stdout",
     "output_type": "stream",
     "text": [
      "Hello friends!\n",
      "How are you? Welcome to the world of\tPython\tProgramming.\n"
     ]
    }
   ],
   "source": [
    "print(text)"
   ]
  },
  {
   "cell_type": "code",
   "execution_count": 60,
   "id": "8b4689ff-09ad-43ca-8a35-da4733bab1d4",
   "metadata": {},
   "outputs": [
    {
     "data": {
      "text/plain": [
       "['Hello friends!\\nHow are you? Welcome to the world of',\n",
       " 'Python',\n",
       " 'Programming.']"
      ]
     },
     "execution_count": 60,
     "metadata": {},
     "output_type": "execute_result"
    }
   ],
   "source": [
    "tk.tokenize(text)"
   ]
  },
  {
   "cell_type": "markdown",
   "id": "0d4f730b-1817-4654-b68a-3ec33cf23bbb",
   "metadata": {},
   "source": [
    "##### Tweet Tokenizer"
   ]
  },
  {
   "cell_type": "code",
   "execution_count": 65,
   "id": "fe92928f-62c5-48c1-b796-8186f636888f",
   "metadata": {},
   "outputs": [],
   "source": [
    "data = '''Hello friends!:) How are you? Welcome :$ to the world of Python <3.'''"
   ]
  },
  {
   "cell_type": "code",
   "execution_count": 66,
   "id": "5f98efef-f32b-49e8-a3a7-fdc1304c4353",
   "metadata": {},
   "outputs": [],
   "source": [
    "from nltk.tokenize import TweetTokenizer"
   ]
  },
  {
   "cell_type": "code",
   "execution_count": 67,
   "id": "bfb7a169-1f95-4f0d-af64-fcdcc6623933",
   "metadata": {},
   "outputs": [],
   "source": [
    "tk = TweetTokenizer()"
   ]
  },
  {
   "cell_type": "code",
   "execution_count": 68,
   "id": "de140ce5-0616-4e7b-8bae-da49a04083ca",
   "metadata": {},
   "outputs": [
    {
     "data": {
      "text/plain": [
       "['Hello',\n",
       " 'friends',\n",
       " '!',\n",
       " ':)',\n",
       " 'How',\n",
       " 'are',\n",
       " 'you',\n",
       " '?',\n",
       " 'Welcome',\n",
       " ':',\n",
       " '$',\n",
       " 'to',\n",
       " 'the',\n",
       " 'world',\n",
       " 'of',\n",
       " 'Python',\n",
       " '<3',\n",
       " '.']"
      ]
     },
     "execution_count": 68,
     "metadata": {},
     "output_type": "execute_result"
    }
   ],
   "source": [
    "tk.tokenize(data)"
   ]
  },
  {
   "cell_type": "code",
   "execution_count": 69,
   "id": "f4024d59-4236-4ad1-b6d2-f76a37b56a85",
   "metadata": {},
   "outputs": [],
   "source": [
    "data = '''Hello friends!👋 How are you?🫱🏽 Welcome to the 🩵world of Python🖥.'''"
   ]
  },
  {
   "cell_type": "code",
   "execution_count": 73,
   "id": "b10dbc4c-a0fb-4dd2-9f8a-fb7a04d5cbe6",
   "metadata": {},
   "outputs": [
    {
     "data": {
      "text/plain": [
       "['Hello',\n",
       " 'friends',\n",
       " '!',\n",
       " '👋',\n",
       " 'How',\n",
       " 'are',\n",
       " 'you',\n",
       " '?',\n",
       " '\\U0001faf1🏽',\n",
       " 'Welcome',\n",
       " 'to',\n",
       " 'the',\n",
       " '\\U0001fa75world',\n",
       " 'of',\n",
       " 'Python🖥',\n",
       " '.']"
      ]
     },
     "execution_count": 73,
     "metadata": {},
     "output_type": "execute_result"
    }
   ],
   "source": [
    "word_tokenize(data)"
   ]
  },
  {
   "cell_type": "code",
   "execution_count": 71,
   "id": "318f74de-c7e8-47f0-9234-9dbf3dbc2200",
   "metadata": {},
   "outputs": [
    {
     "data": {
      "text/plain": [
       "['Hello',\n",
       " 'friends',\n",
       " '!',\n",
       " '👋',\n",
       " 'How',\n",
       " 'are',\n",
       " 'you',\n",
       " '?',\n",
       " '\\U0001faf1🏽',\n",
       " 'Welcome',\n",
       " 'to',\n",
       " 'the',\n",
       " '\\U0001fa75',\n",
       " 'world',\n",
       " 'of',\n",
       " 'Python',\n",
       " '🖥',\n",
       " '.']"
      ]
     },
     "execution_count": 71,
     "metadata": {},
     "output_type": "execute_result"
    }
   ],
   "source": [
    "tk.tokenize(data)"
   ]
  },
  {
   "cell_type": "markdown",
   "id": "c47f18c1-d0a3-4574-94e2-83352cee8bfb",
   "metadata": {},
   "source": [
    "##### MWE Tokenizer"
   ]
  },
  {
   "cell_type": "code",
   "execution_count": 75,
   "id": "d4a21724-1d0e-4c71-9698-7341488d6035",
   "metadata": {},
   "outputs": [],
   "source": [
    "from nltk.tokenize import MWETokenizer"
   ]
  },
  {
   "cell_type": "code",
   "execution_count": 76,
   "id": "5f384484-91f4-4ff1-8f0c-a7ecf1727df2",
   "metadata": {},
   "outputs": [],
   "source": [
    "data = 'Van Rossom is in Pune today. We welcomed Van Rossom here.'"
   ]
  },
  {
   "cell_type": "code",
   "execution_count": 81,
   "id": "0551a8df-b9fb-454c-8fb6-09418f855d3b",
   "metadata": {},
   "outputs": [],
   "source": [
    "tk = MWETokenizer(separator=' ')"
   ]
  },
  {
   "cell_type": "code",
   "execution_count": 82,
   "id": "5e172e17-a5b4-4012-bd9b-d566a9e6ae0c",
   "metadata": {},
   "outputs": [],
   "source": [
    "tk.add_mwe(('Van','Rossom'))"
   ]
  },
  {
   "cell_type": "code",
   "execution_count": 83,
   "id": "06255f57-56f8-435e-b27b-e80c7d0b920f",
   "metadata": {},
   "outputs": [
    {
     "data": {
      "text/plain": [
       "['Van Rossom',\n",
       " 'is',\n",
       " 'in',\n",
       " 'Pune',\n",
       " 'today',\n",
       " '.',\n",
       " 'We',\n",
       " 'welcomed',\n",
       " 'Van Rossom',\n",
       " 'here',\n",
       " '.']"
      ]
     },
     "execution_count": 83,
     "metadata": {},
     "output_type": "execute_result"
    }
   ],
   "source": [
    "tk.tokenize(word_tokenize(data))"
   ]
  },
  {
   "cell_type": "markdown",
   "id": "5854ad57-5e72-4a73-b2cf-d8e49e2a635d",
   "metadata": {},
   "source": [
    "##### Custom Tokenizer"
   ]
  },
  {
   "cell_type": "code",
   "execution_count": 85,
   "id": "b8e2ce5d-d768-4601-8da8-199323c03afb",
   "metadata": {},
   "outputs": [
    {
     "name": "stdout",
     "output_type": "stream",
     "text": [
      "Tokens:\n",
      "This\n",
      "is\n",
      "some\n",
      "text\n",
      "with\n",
      "punctuation\n",
      ">\n",
      "Let's\n",
      "tokenize\n",
      "it\n",
      "Is\n",
      "it\n",
      "ok\n",
      "\n"
     ]
    }
   ],
   "source": [
    "import re\n",
    "\n",
    "def custom_tokenizer(text):\n",
    "    return re.split(r\"[.,;?!\\s]+\", text)\n",
    "\n",
    "text = \"This is some text with punctuation > Let's tokenize it. Is it ok?\"\n",
    "\n",
    "tokens = custom_tokenizer(text)\n",
    "\n",
    "print(\"Tokens:\")\n",
    "for token in tokens:\n",
    "    print(token)"
   ]
  },
  {
   "cell_type": "code",
   "execution_count": null,
   "id": "b4d46ace-b1c5-4aff-8f2d-01f33f2cf934",
   "metadata": {},
   "outputs": [],
   "source": []
  }
 ],
 "metadata": {
  "kernelspec": {
   "display_name": "Python 3 (ipykernel)",
   "language": "python",
   "name": "python3"
  },
  "language_info": {
   "codemirror_mode": {
    "name": "ipython",
    "version": 3
   },
   "file_extension": ".py",
   "mimetype": "text/x-python",
   "name": "python",
   "nbconvert_exporter": "python",
   "pygments_lexer": "ipython3",
   "version": "3.10.12"
  }
 },
 "nbformat": 4,
 "nbformat_minor": 5
}
