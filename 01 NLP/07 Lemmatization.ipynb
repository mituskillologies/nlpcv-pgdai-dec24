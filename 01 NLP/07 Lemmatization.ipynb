{
 "cells": [
  {
   "cell_type": "code",
   "execution_count": 1,
   "id": "d3e639c6-2036-4d9c-97d7-a4cb5625592f",
   "metadata": {},
   "outputs": [],
   "source": [
    "words1 = 'managing','manage','management','managerial','managed'\n",
    "words2 = 'worked','workable','working','worked'\n",
    "words3 = 'big','biggest','bigger'\n",
    "words4 = 'go','gone','went','going'\n",
    "words5 = 'association','associated','associate'"
   ]
  },
  {
   "cell_type": "code",
   "execution_count": 2,
   "id": "f6c03ca7-6335-4933-89b1-b3636f9706cc",
   "metadata": {},
   "outputs": [],
   "source": [
    "from nltk.stem import WordNetLemmatizer"
   ]
  },
  {
   "cell_type": "code",
   "execution_count": 3,
   "id": "bc2f9557-abde-4384-b372-757050558947",
   "metadata": {},
   "outputs": [],
   "source": [
    "wnl = WordNetLemmatizer()"
   ]
  },
  {
   "cell_type": "code",
   "execution_count": 6,
   "id": "0987c1bf-4f9f-4bff-abd2-6fdb2c2e530d",
   "metadata": {},
   "outputs": [
    {
     "name": "stdout",
     "output_type": "stream",
     "text": [
      "player\n",
      "players\n",
      "players\n",
      "players\n"
     ]
    }
   ],
   "source": [
    "print(wnl.lemmatize('players', pos='n'))\n",
    "print(wnl.lemmatize('players', pos='v'))\n",
    "print(wnl.lemmatize('players', pos='a'))\n",
    "print(wnl.lemmatize('players', pos='r'))"
   ]
  },
  {
   "cell_type": "code",
   "execution_count": 7,
   "id": "eafa4a63-63dc-4095-97d1-2ebce987c39c",
   "metadata": {},
   "outputs": [
    {
     "name": "stdout",
     "output_type": "stream",
     "text": [
      "playing\n",
      "play\n",
      "playing\n",
      "playing\n"
     ]
    }
   ],
   "source": [
    "print(wnl.lemmatize('playing', pos='n'))\n",
    "print(wnl.lemmatize('playing', pos='v'))\n",
    "print(wnl.lemmatize('playing', pos='a'))\n",
    "print(wnl.lemmatize('playing', pos='r'))"
   ]
  },
  {
   "cell_type": "code",
   "execution_count": 8,
   "id": "aede9770-e41a-4fe5-b9ed-238176a75494",
   "metadata": {},
   "outputs": [
    {
     "name": "stdout",
     "output_type": "stream",
     "text": [
      "manage\n",
      "manage\n",
      "management\n",
      "managerial\n",
      "manage\n"
     ]
    }
   ],
   "source": [
    "for word in words1:\n",
    "    print(wnl.lemmatize(word, pos='v'))"
   ]
  },
  {
   "cell_type": "code",
   "execution_count": 9,
   "id": "9f8d23db-0d2f-426e-b2fc-ca6b3c3203bb",
   "metadata": {},
   "outputs": [
    {
     "name": "stdout",
     "output_type": "stream",
     "text": [
      "work\n",
      "workable\n",
      "work\n",
      "work\n"
     ]
    }
   ],
   "source": [
    "for word in words2:\n",
    "    print(wnl.lemmatize(word, pos='v'))"
   ]
  },
  {
   "cell_type": "code",
   "execution_count": 10,
   "id": "e2c0d0f9-638e-4c0b-9560-d3e1bdc59ea5",
   "metadata": {},
   "outputs": [
    {
     "name": "stdout",
     "output_type": "stream",
     "text": [
      "big\n",
      "big\n",
      "big\n"
     ]
    }
   ],
   "source": [
    "for word in words3:\n",
    "    print(wnl.lemmatize(word, pos='a'))"
   ]
  },
  {
   "cell_type": "code",
   "execution_count": 11,
   "id": "a8b6b552-8095-4bad-94b0-4aa1a6ebf691",
   "metadata": {},
   "outputs": [
    {
     "name": "stdout",
     "output_type": "stream",
     "text": [
      "go\n",
      "go\n",
      "go\n",
      "go\n"
     ]
    }
   ],
   "source": [
    "for word in words4:\n",
    "    print(wnl.lemmatize(word, pos='v'))"
   ]
  },
  {
   "cell_type": "code",
   "execution_count": 12,
   "id": "21fa612c-a585-416d-8c2e-b94dd4487725",
   "metadata": {},
   "outputs": [
    {
     "name": "stdout",
     "output_type": "stream",
     "text": [
      "association\n",
      "associate\n",
      "associate\n"
     ]
    }
   ],
   "source": [
    "for word in words5:\n",
    "    print(wnl.lemmatize(word, pos='v'))"
   ]
  },
  {
   "cell_type": "code",
   "execution_count": 13,
   "id": "1e5223d7-0e3e-4874-ab63-b8144806d4eb",
   "metadata": {},
   "outputs": [],
   "source": [
    "text ='''India, officially the Republic of India,[j][20] is a country in South Asia. It is the seventh-largest country in the world by area and the most populous country. Bounded by the Indian Ocean on the south, the Arabian Sea on the southwest, and the Bay of Bengal on the southeast, it shares land borders with Pakistan to the west;[k] China, Nepal, and Bhutan to the north; and Bangladesh and Myanmar to the east. In the Indian Ocean, India is in the vicinity of Sri Lanka and the Maldives; its Andaman and Nicobar Islands share a maritime border with Thailand, Myanmar, and Indonesia.\n",
    "Modern humans arrived on the Indian subcontinent from Africa no later than 55,000 years ago.[22][23][24] Their long occupation, initially in varying forms of isolation as hunter-gatherers, has made the region highly diverse, second only to Africa in human genetic diversity.[25] Settled life emerged on the subcontinent in the western margins of the Indus river basin 9,000 years ago, evolving gradually into the Indus Valley Civilisation of the third millennium BCE.[26] By at least 1200 BCE, an archaic form of Sanskrit, an Indo-European language, had diffused into India from the northwest.[27][28] Its evidence today is found in the hymns of the Rigveda. Preserved by an oral tradition that was resolutely vigilant, the Rigveda records the dawning of Hinduism in India.[29] The Dravidian languages of India were supplanted in the northern and western regions.[30] By 400 BCE, stratification and exclusion by caste had emerged within Hinduism,[31] and Buddhism and Jainism had arisen, proclaiming social orders unlinked to heredity.[32] Early political consolidations gave rise to the loose-knit Maurya and Gupta Empires based in the Ganges Basin.[33] Their collective era was suffused with wide-ranging creativity,[34] but also marked by the declining status of women,[35] and the incorporation of untouchability into an organised system of belief.[l][36] The Middle kingdoms exported Sanskrit language, south Indian scripts and religions of Hinduism and Buddhism to the Southeast Asia.[37]'''"
   ]
  },
  {
   "cell_type": "code",
   "execution_count": 14,
   "id": "16c1a687-ee35-4931-b08d-ce9666f46b40",
   "metadata": {},
   "outputs": [
    {
     "data": {
      "text/plain": [
       "'India, officially the Republic of India,[j][20] is a country in South Asia. It is the seventh-largest country in the world by area and the most populous country. Bounded by the Indian Ocean on the south, the Arabian Sea on the southwest, and the Bay of Bengal on the southeast, it shares land borders with Pakistan to the west;[k] China, Nepal, and Bhutan to the north; and Bangladesh and Myanmar to the east. In the Indian Ocean, India is in the vicinity of Sri Lanka and the Maldives; its Andaman and Nicobar Islands share a maritime border with Thailand, Myanmar, and Indonesia.\\nModern humans arrived on the Indian subcontinent from Africa no later than 55,000 years ago.[22][23][24] Their long occupation, initially in varying forms of isolation as hunter-gatherers, has made the region highly diverse, second only to Africa in human genetic diversity.[25] Settled life emerged on the subcontinent in the western margins of the Indus river basin 9,000 years ago, evolving gradually into the Indus Valley Civilisation of the third millennium BCE.[26] By at least 1200 BCE, an archaic form of Sanskrit, an Indo-European language, had diffused into India from the northwest.[27][28] Its evidence today is found in the hymns of the Rigveda. Preserved by an oral tradition that was resolutely vigilant, the Rigveda records the dawning of Hinduism in India.[29] The Dravidian languages of India were supplanted in the northern and western regions.[30] By 400 BCE, stratification and exclusion by caste had emerged within Hinduism,[31] and Buddhism and Jainism had arisen, proclaiming social orders unlinked to heredity.[32] Early political consolidations gave rise to the loose-knit Maurya and Gupta Empires based in the Ganges Basin.[33] Their collective era was suffused with wide-ranging creativity,[34] but also marked by the declining status of women,[35] and the incorporation of untouchability into an organised system of belief.[l][36] The Middle kingdoms exported Sanskrit language, south Indian scripts and religions of Hinduism and Buddhism to the Southeast Asia.[37]'"
      ]
     },
     "execution_count": 14,
     "metadata": {},
     "output_type": "execute_result"
    }
   ],
   "source": [
    "text"
   ]
  },
  {
   "cell_type": "code",
   "execution_count": 16,
   "id": "52219191-53e7-4210-946b-7a171acb637c",
   "metadata": {},
   "outputs": [],
   "source": [
    "from nltk.tokenize import word_tokenize\n",
    "from nltk import pos_tag"
   ]
  },
  {
   "cell_type": "code",
   "execution_count": 17,
   "id": "18c00ed2-e20b-458a-badc-3e6d8f5ddce1",
   "metadata": {},
   "outputs": [],
   "source": [
    "tags = pos_tag(word_tokenize(text))"
   ]
  },
  {
   "cell_type": "code",
   "execution_count": 23,
   "id": "df57a695-4057-42ca-a6d4-7445ece5632e",
   "metadata": {},
   "outputs": [],
   "source": [
    "verbs = set()\n",
    "for word, tag in tags:\n",
    "    if tag.startswith('V') and word.isalpha():\n",
    "        verbs.add(wnl.lemmatize(word.lower(), pos='v'))"
   ]
  },
  {
   "cell_type": "code",
   "execution_count": 24,
   "id": "e8f40a8c-4099-453d-b4d7-f1e05a69cc85",
   "metadata": {},
   "outputs": [
    {
     "data": {
      "text/plain": [
       "{'arise',\n",
       " 'arrive',\n",
       " 'base',\n",
       " 'be',\n",
       " 'bound',\n",
       " 'decline',\n",
       " 'diffuse',\n",
       " 'emerge',\n",
       " 'evolve',\n",
       " 'export',\n",
       " 'find',\n",
       " 'give',\n",
       " 'have',\n",
       " 'humans',\n",
       " 'k',\n",
       " 'land',\n",
       " 'make',\n",
       " 'mark',\n",
       " 'preserve',\n",
       " 'proclaim',\n",
       " 'settle',\n",
       " 'suffuse',\n",
       " 'supplant',\n",
       " 'unlinked',\n",
       " 'vary'}"
      ]
     },
     "execution_count": 24,
     "metadata": {},
     "output_type": "execute_result"
    }
   ],
   "source": [
    "verbs"
   ]
  },
  {
   "cell_type": "code",
   "execution_count": null,
   "id": "a30bab13-2ae1-4668-b36f-c96cbe82cbd3",
   "metadata": {},
   "outputs": [],
   "source": []
  }
 ],
 "metadata": {
  "kernelspec": {
   "display_name": "Python 3 (ipykernel)",
   "language": "python",
   "name": "python3"
  },
  "language_info": {
   "codemirror_mode": {
    "name": "ipython",
    "version": 3
   },
   "file_extension": ".py",
   "mimetype": "text/x-python",
   "name": "python",
   "nbconvert_exporter": "python",
   "pygments_lexer": "ipython3",
   "version": "3.10.12"
  }
 },
 "nbformat": 4,
 "nbformat_minor": 5
}
