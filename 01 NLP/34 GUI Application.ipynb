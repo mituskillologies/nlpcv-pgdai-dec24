{
 "cells": [
  {
   "cell_type": "markdown",
   "id": "ac69ec80-383b-4051-b7d2-f1b68bad858e",
   "metadata": {},
   "source": [
    "##### Import the library"
   ]
  },
  {
   "cell_type": "code",
   "execution_count": 2,
   "id": "dd888723-519e-4f3b-bf78-361615480d23",
   "metadata": {},
   "outputs": [],
   "source": [
    "from tkinter import *"
   ]
  },
  {
   "cell_type": "code",
   "execution_count": 3,
   "id": "1a4e56ff-49c7-4151-84e9-14e718109d32",
   "metadata": {},
   "outputs": [],
   "source": [
    "top = Tk()\n",
    "\n",
    "top.mainloop()"
   ]
  },
  {
   "cell_type": "code",
   "execution_count": 4,
   "id": "b9f59019-9e72-4e5e-bc00-62c371d41ee0",
   "metadata": {},
   "outputs": [],
   "source": [
    "top = Tk()\n",
    "top.title('My Application')\n",
    "top.geometry('500x400')\n",
    "\n",
    "top.mainloop()"
   ]
  },
  {
   "cell_type": "code",
   "execution_count": 7,
   "id": "2cf3e626-64ec-4a52-a331-7f4039b7f2df",
   "metadata": {},
   "outputs": [],
   "source": [
    "top = Tk()\n",
    "top.title('My Application')\n",
    "top.geometry('500x400')\n",
    "\n",
    "l = Label(top,text='Enter the number:')\n",
    "e = Entry(top)\n",
    "b = Button(top,text='Click Here')\n",
    "\n",
    "l.pack()\n",
    "e.pack()\n",
    "b.pack()\n",
    "\n",
    "\n",
    "top.mainloop()"
   ]
  },
  {
   "cell_type": "code",
   "execution_count": 8,
   "id": "983e7374-e4a9-4a38-805a-db6015829141",
   "metadata": {},
   "outputs": [],
   "source": [
    "top = Tk()\n",
    "top.title('My Application')\n",
    "top.geometry('500x400')\n",
    "\n",
    "Label(top,text='Enter the number:').pack()\n",
    "Entry(top).pack()\n",
    "Button(top,text='Click Here').pack()\n",
    "\n",
    "top.mainloop()"
   ]
  },
  {
   "cell_type": "code",
   "execution_count": 13,
   "id": "367da9cc-8392-49bc-97f2-8587a70e8182",
   "metadata": {},
   "outputs": [],
   "source": [
    "top = Tk()\n",
    "top.title('My Application')\n",
    "top.geometry('500x400')\n",
    "\n",
    "def show():\n",
    "    square = num.get() ** 2\n",
    "    result.config( text='Square is: %d' %square)\n",
    "\n",
    "num = IntVar()\n",
    "\n",
    "Label(top,text='Enter the number:').pack()\n",
    "Entry(top, textvariable = num).pack()\n",
    "Button(top,text='Click Here', command = show).pack()\n",
    "result = Label(top, text='Square is:')\n",
    "result.pack()\n",
    "\n",
    "top.mainloop()"
   ]
  },
  {
   "cell_type": "code",
   "execution_count": 17,
   "id": "47fea339-9b0d-4317-84cc-7bfa626e2584",
   "metadata": {},
   "outputs": [],
   "source": [
    "top = Tk()\n",
    "top.title('My Application')\n",
    "top.geometry('500x400')\n",
    "\n",
    "def show():\n",
    "    square = num.get() ** 2\n",
    "    result.config( text='Square is: %d' %square)\n",
    "\n",
    "num = IntVar()\n",
    "\n",
    "Label(top,text='Enter the number:').place(x=100,y=50)\n",
    "Entry(top, textvariable = num).place(x=100,y=120)\n",
    "Button(top,text='Click Here', command = show).place(x=100,y=190)\n",
    "result = Label(top, text='Square is:')\n",
    "result.place(x=100,y=260)\n",
    "\n",
    "top.mainloop()"
   ]
  },
  {
   "cell_type": "code",
   "execution_count": 19,
   "id": "977286b9-09b5-46f2-8ee7-45388468bce1",
   "metadata": {},
   "outputs": [
    {
     "name": "stderr",
     "output_type": "stream",
     "text": [
      "Exception in Tkinter callback\n",
      "Traceback (most recent call last):\n",
      "  File \"/usr/lib/python3.10/tkinter/__init__.py\", line 1921, in __call__\n",
      "    return self.func(*args)\n",
      "  File \"/tmp/ipykernel_304193/2717186865.py\", line 22, in div\n",
      "    l.config(text='Division: ' + str(num1/num2))\n",
      "ZeroDivisionError: float division by zero\n"
     ]
    }
   ],
   "source": [
    "top = Tk()\n",
    "top.title('Simple Calculator')\n",
    "top.geometry('500x300')\n",
    "\n",
    "def add():\n",
    "    num1, num2 = float(e1.get()), float(e2.get())\n",
    "    l.config(text='Addition: ' + str(num1+num2))\n",
    "    l.place(x=50, y=180)\n",
    "\n",
    "def sub():\n",
    "    num1, num2 = float(e1.get()), float(e2.get())\n",
    "    l.config(text='Subtraction: ' + str(num1-num2))\n",
    "    l.place(x=50, y=180)\n",
    "\n",
    "def mul():\n",
    "    num1, num2 = float(e1.get()), float(e2.get())\n",
    "    l.config(text='Multiplication: ' + str(num1*num2))\n",
    "    l.place(x=50, y=180)\n",
    "\n",
    "def div():\n",
    "    num1, num2 = float(e1.get()), float(e2.get())\n",
    "    l.config(text='Division: ' + str(num1/num2))\n",
    "    l.place(x=50, y=180)\n",
    "\n",
    "Label(top, text='Number-1:').place(x=50, y=30)\n",
    "Label(top, text='Number-2:').place(x=250, y=30)\n",
    "e1 = Entry(top)\n",
    "e1.place(x=50, y=70)\n",
    "e2 = Entry(top)\n",
    "e2.place(x=250, y=70)\n",
    "Button(top, text=\"Add\", command = add).place(x=50,y=120)\n",
    "Button(top, text=\"Sub\", command = sub).place(x=150,y=120)\n",
    "Button(top, text=\"Mul\", command = mul).place(x=250,y=120)\n",
    "Button(top, text=\"Div\", command = div).place(x=350,y=120)\n",
    "l = Label(top)\n",
    "\n",
    "top.mainloop()"
   ]
  },
  {
   "cell_type": "markdown",
   "id": "dc6ef2ad-2f4c-4199-b1b0-ab45e35dce83",
   "metadata": {},
   "source": [
    "##### Deploy the ML model in UI application"
   ]
  },
  {
   "cell_type": "code",
   "execution_count": 5,
   "id": "98ac6a10-0ab6-40b1-820b-b81da71a224b",
   "metadata": {},
   "outputs": [],
   "source": [
    "top = Tk()\n",
    "top.title('SPAM Email Classifier')\n",
    "top.geometry('800x600')\n",
    "\n",
    "import joblib\n",
    "from nltk.tokenize import word_tokenize\n",
    "from nltk.corpus import stopwords\n",
    "from nltk.stem import PorterStemmer\n",
    "\n",
    "swords = stopwords.words('english')\n",
    "ps = PorterStemmer()\n",
    "\n",
    "# define analyzer function\n",
    "def clean_text(sent):\n",
    "    tokens1 = word_tokenize(sent)\n",
    "    tokens2 = [token for token in tokens1 if token.isalnum()]\n",
    "    tokens3 = [token for token in tokens2 if token.lower() not in swords]\n",
    "    tokens4 = [ps.stem(token) for token in tokens3]\n",
    "    return tokens4\n",
    "\n",
    "def check():\n",
    "    classifier = joblib.load('classifier.model')\n",
    "    tfidf = joblib.load('tfidf.model')\n",
    "    message = str(t.get(\"1.0\", END))\n",
    "    result = classifier.predict(tfidf.transform([message]))\n",
    "    \n",
    "    l.config(text='Message is :' + str(result[0]))\n",
    "    l.place(x=350, y=550)\n",
    "\n",
    "Label(top, text='Enter your message here:').place(x=50, y=30)\n",
    "t = Text(top)\n",
    "t.place(x=50, y=70)\n",
    "Button(top, text=\"Check\", command = check).place(x=350,y=500)\n",
    "l = Label(top, text='Message is :')\n",
    "\n",
    "top.mainloop()"
   ]
  },
  {
   "cell_type": "code",
   "execution_count": null,
   "id": "0ad3b534-c4d6-4297-adf8-1d0e8bf6d89e",
   "metadata": {},
   "outputs": [],
   "source": []
  }
 ],
 "metadata": {
  "kernelspec": {
   "display_name": "Python 3 (ipykernel)",
   "language": "python",
   "name": "python3"
  },
  "language_info": {
   "codemirror_mode": {
    "name": "ipython",
    "version": 3
   },
   "file_extension": ".py",
   "mimetype": "text/x-python",
   "name": "python",
   "nbconvert_exporter": "python",
   "pygments_lexer": "ipython3",
   "version": "3.10.12"
  }
 },
 "nbformat": 4,
 "nbformat_minor": 5
}
