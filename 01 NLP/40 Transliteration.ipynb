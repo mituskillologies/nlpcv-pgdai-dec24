{
 "cells": [
  {
   "cell_type": "markdown",
   "id": "5dd75c26-eaa8-4205-95a0-da95468c6ad5",
   "metadata": {},
   "source": [
    "##### Install the library"
   ]
  },
  {
   "cell_type": "code",
   "execution_count": 2,
   "id": "b14622ae-ac3d-45b4-bc6b-c1ecd016b2cb",
   "metadata": {},
   "outputs": [
    {
     "name": "stdout",
     "output_type": "stream",
     "text": [
      "Defaulting to user installation because normal site-packages is not writeable\n",
      "Requirement already satisfied: indic_transliteration in /home/mitu/.local/lib/python3.10/site-packages (2.3.59)\n",
      "Requirement already satisfied: backports.functools-lru-cache in /home/mitu/.local/lib/python3.10/site-packages (from indic_transliteration) (2.0.0)\n",
      "Requirement already satisfied: regex in /home/mitu/.local/lib/python3.10/site-packages (from indic_transliteration) (2023.12.25)\n",
      "Requirement already satisfied: typer in /home/mitu/.local/lib/python3.10/site-packages (from indic_transliteration) (0.15.1)\n",
      "Requirement already satisfied: toml in /home/mitu/.local/lib/python3.10/site-packages (from indic_transliteration) (0.10.2)\n",
      "Requirement already satisfied: roman in /home/mitu/.local/lib/python3.10/site-packages (from indic_transliteration) (4.1)\n",
      "Requirement already satisfied: click>=8.0.0 in /home/mitu/.local/lib/python3.10/site-packages (from typer->indic_transliteration) (8.1.7)\n",
      "Requirement already satisfied: typing-extensions>=3.7.4.3 in /home/mitu/.local/lib/python3.10/site-packages (from typer->indic_transliteration) (4.12.2)\n",
      "Requirement already satisfied: shellingham>=1.3.0 in /home/mitu/.local/lib/python3.10/site-packages (from typer->indic_transliteration) (1.5.4)\n",
      "Requirement already satisfied: rich>=10.11.0 in /usr/local/lib/python3.10/dist-packages (from typer->indic_transliteration) (13.7.0)\n",
      "Requirement already satisfied: markdown-it-py>=2.2.0 in /usr/local/lib/python3.10/dist-packages (from rich>=10.11.0->typer->indic_transliteration) (3.0.0)\n",
      "Requirement already satisfied: pygments<3.0.0,>=2.13.0 in /usr/local/lib/python3.10/dist-packages (from rich>=10.11.0->typer->indic_transliteration) (2.17.2)\n",
      "Requirement already satisfied: mdurl~=0.1 in /usr/local/lib/python3.10/dist-packages (from markdown-it-py>=2.2.0->rich>=10.11.0->typer->indic_transliteration) (0.1.2)\n",
      "Note: you may need to restart the kernel to use updated packages.\n"
     ]
    }
   ],
   "source": [
    "pip install indic_transliteration"
   ]
  },
  {
   "cell_type": "code",
   "execution_count": 3,
   "id": "05046ac3-ec20-4086-868d-f91f1dab35cd",
   "metadata": {},
   "outputs": [],
   "source": [
    "from indic_transliteration import sanscript\n",
    "from indic_transliteration.sanscript import transliterate"
   ]
  },
  {
   "cell_type": "code",
   "execution_count": 4,
   "id": "0b9d18ac-ad25-4e30-a307-fc42127f6ddd",
   "metadata": {},
   "outputs": [],
   "source": [
    "data = 'tuShaara kuTe'"
   ]
  },
  {
   "cell_type": "code",
   "execution_count": 6,
   "id": "2c0a8e5b-2285-4d4e-97ea-fa89a71b0084",
   "metadata": {},
   "outputs": [
    {
     "name": "stdout",
     "output_type": "stream",
     "text": [
      "तुषार कुटे\n"
     ]
    }
   ],
   "source": [
    "print(transliterate(data, sanscript.ITRANS, sanscript.DEVANAGARI))"
   ]
  },
  {
   "cell_type": "code",
   "execution_count": 7,
   "id": "8bd13e58-d07c-427e-b97d-c4cc18dfe207",
   "metadata": {},
   "outputs": [
    {
     "name": "stdout",
     "output_type": "stream",
     "text": [
      "তুষার কুটে\n"
     ]
    }
   ],
   "source": [
    "print(transliterate(data, sanscript.ITRANS, sanscript.BENGALI))"
   ]
  },
  {
   "cell_type": "code",
   "execution_count": 13,
   "id": "31748f32-5a57-4523-8e28-8426996c44ed",
   "metadata": {},
   "outputs": [
    {
     "name": "stdout",
     "output_type": "stream",
     "text": [
      "पुणे\n"
     ]
    }
   ],
   "source": [
    "print(transliterate('puNe', sanscript.ITRANS, sanscript.DEVANAGARI))"
   ]
  },
  {
   "cell_type": "code",
   "execution_count": 14,
   "id": "0fdcf9b9-0dca-48e2-a269-05e320391c2e",
   "metadata": {},
   "outputs": [
    {
     "name": "stdout",
     "output_type": "stream",
     "text": [
      "ਤੁShਾਰ ਕੁਟੇ\n"
     ]
    }
   ],
   "source": [
    "print(transliterate(data, sanscript.ITRANS, sanscript.GURMUKHI))"
   ]
  },
  {
   "cell_type": "code",
   "execution_count": 17,
   "id": "b2ad3627-f815-4c3d-a321-2bcfbe50dab1",
   "metadata": {},
   "outputs": [
    {
     "name": "stdout",
     "output_type": "stream",
     "text": [
      "ତୁଷାର କୁଟେ\n"
     ]
    }
   ],
   "source": [
    "print(transliterate(data, sanscript.ITRANS, sanscript.ORIYA))"
   ]
  },
  {
   "cell_type": "code",
   "execution_count": 23,
   "id": "ad936117-b5f0-46b3-a185-f34a955fdc0f",
   "metadata": {},
   "outputs": [
    {
     "name": "stdin",
     "output_type": "stream",
     "text": [
      "Enter your name: yasha paaTIla\n"
     ]
    },
    {
     "name": "stdout",
     "output_type": "stream",
     "text": [
      "यश पाटील\n"
     ]
    }
   ],
   "source": [
    "data = input('Enter your name:')\n",
    "print(transliterate(data, sanscript.ITRANS, sanscript.DEVANAGARI))"
   ]
  },
  {
   "cell_type": "code",
   "execution_count": 24,
   "id": "7f31239c-e85c-4902-90ef-0e59d0ad05a3",
   "metadata": {},
   "outputs": [
    {
     "name": "stdout",
     "output_type": "stream",
     "text": [
      "யஶ பாடீல\n"
     ]
    }
   ],
   "source": [
    "print(transliterate(data, sanscript.ITRANS, sanscript.TAMIL))"
   ]
  },
  {
   "cell_type": "code",
   "execution_count": null,
   "id": "e1c1bdae-e116-4da2-ac67-52a14fd87951",
   "metadata": {},
   "outputs": [],
   "source": []
  }
 ],
 "metadata": {
  "kernelspec": {
   "display_name": "Python 3 (ipykernel)",
   "language": "python",
   "name": "python3"
  },
  "language_info": {
   "codemirror_mode": {
    "name": "ipython",
    "version": 3
   },
   "file_extension": ".py",
   "mimetype": "text/x-python",
   "name": "python",
   "nbconvert_exporter": "python",
   "pygments_lexer": "ipython3",
   "version": "3.10.12"
  }
 },
 "nbformat": 4,
 "nbformat_minor": 5
}
