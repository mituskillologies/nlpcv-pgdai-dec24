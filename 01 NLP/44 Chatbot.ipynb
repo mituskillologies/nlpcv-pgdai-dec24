{
 "cells": [
  {
   "cell_type": "code",
   "execution_count": 1,
   "id": "debf1432-a7c3-49d1-8e11-b952ed7e8ff8",
   "metadata": {},
   "outputs": [],
   "source": [
    "import nltk\n",
    "import random\n",
    "from nltk.stem import WordNetLemmatizer"
   ]
  },
  {
   "cell_type": "code",
   "execution_count": 6,
   "id": "97f238a3-c34f-4de1-8bf6-7b4db98d1c8a",
   "metadata": {},
   "outputs": [],
   "source": [
    "# define the chatbot respeonses an intents\n",
    "responses = {\n",
    "    'greeting':['Hello!','Hi There!','Hey!','Howdy!'],\n",
    "    'goodbye': ['Goodbye!','See you later.','Take care','Bye'],\n",
    "    'thanks': [\"You're welcome\",'Glad to help!','Anytime','Happy to assist!'],\n",
    "    'default': ['Sorry I did not understand', 'Can you tell again?','I am not sure.']\n",
    "}"
   ]
  },
  {
   "cell_type": "code",
   "execution_count": 7,
   "id": "254e5eff-d238-40c0-a2c4-ef80666eb5be",
   "metadata": {},
   "outputs": [],
   "source": [
    "# simple set of questions and responses / patterns\n",
    "patterns = {\n",
    "    'hi': 'greeting',\n",
    "    'hello': 'greeting',\n",
    "    'hey': 'greeting',\n",
    "    'bye': 'goodbye',\n",
    "    'thanks' : 'thanks',\n",
    "    'thank you': 'thanks'\n",
    "}"
   ]
  },
  {
   "cell_type": "code",
   "execution_count": 24,
   "id": "ddba2b41-be6c-49d6-8e5e-dcdc1de3d475",
   "metadata": {},
   "outputs": [],
   "source": [
    "# Matches the user input\n",
    "def respond(user_input):\n",
    "    for word in nltk.word_tokenize(user_input.lower()):\n",
    "        if word in patterns:\n",
    "            intent = patterns[word]\n",
    "            return random.choice(responses[intent])\n",
    "    return random.choice(responses['default'])"
   ]
  },
  {
   "cell_type": "code",
   "execution_count": 26,
   "id": "d43fd133-01c5-457e-9d2b-ebd603764038",
   "metadata": {},
   "outputs": [
    {
     "data": {
      "text/plain": [
       "'Howdy!'"
      ]
     },
     "execution_count": 26,
     "metadata": {},
     "output_type": "execute_result"
    }
   ],
   "source": [
    "respond('Hi')"
   ]
  },
  {
   "cell_type": "code",
   "execution_count": 27,
   "id": "1996243c-a0c8-4d6c-a9ea-b7e521dfeaa0",
   "metadata": {},
   "outputs": [],
   "source": [
    "def chat():\n",
    "    print('Chatbot: How can I help you today? (Type \"exit\") to quit')\n",
    "    while True:\n",
    "        user_input = input('You:')\n",
    "        if user_input == 'exit':\n",
    "            print('Chatbot: Good Bye!')\n",
    "            break\n",
    "        response = respond(user_input)\n",
    "        print('Chatbot:', response)"
   ]
  },
  {
   "cell_type": "code",
   "execution_count": 28,
   "id": "b5b442b0-7fbd-45df-aee9-661f8a60fda0",
   "metadata": {},
   "outputs": [
    {
     "name": "stdout",
     "output_type": "stream",
     "text": [
      "Chatbot: How can I help you today? (Type \"exit\") to quit\n"
     ]
    },
    {
     "name": "stdin",
     "output_type": "stream",
     "text": [
      "You: Hello\n"
     ]
    },
    {
     "name": "stdout",
     "output_type": "stream",
     "text": [
      "Chatbot: Hi There!\n"
     ]
    },
    {
     "name": "stdin",
     "output_type": "stream",
     "text": [
      "You: Hello\n"
     ]
    },
    {
     "name": "stdout",
     "output_type": "stream",
     "text": [
      "Chatbot: Hello!\n"
     ]
    },
    {
     "name": "stdin",
     "output_type": "stream",
     "text": [
      "You: Thank you for helpin me.\n"
     ]
    },
    {
     "name": "stdout",
     "output_type": "stream",
     "text": [
      "Chatbot: I am not sure.\n"
     ]
    },
    {
     "name": "stdin",
     "output_type": "stream",
     "text": [
      "You: Thanks a lot for helping.\n"
     ]
    },
    {
     "name": "stdout",
     "output_type": "stream",
     "text": [
      "Chatbot: Anytime\n"
     ]
    },
    {
     "name": "stdin",
     "output_type": "stream",
     "text": [
      "You: Thanks\n"
     ]
    },
    {
     "name": "stdout",
     "output_type": "stream",
     "text": [
      "Chatbot: Glad to help!\n"
     ]
    },
    {
     "name": "stdin",
     "output_type": "stream",
     "text": [
      "You: Bye\n"
     ]
    },
    {
     "name": "stdout",
     "output_type": "stream",
     "text": [
      "Chatbot: Goodbye!\n"
     ]
    },
    {
     "name": "stdin",
     "output_type": "stream",
     "text": [
      "You: Goodbye\n"
     ]
    },
    {
     "name": "stdout",
     "output_type": "stream",
     "text": [
      "Chatbot: Can you tell again?\n"
     ]
    },
    {
     "name": "stdin",
     "output_type": "stream",
     "text": [
      "You: exit\n"
     ]
    },
    {
     "name": "stdout",
     "output_type": "stream",
     "text": [
      "Chatbot: Good Bye!\n"
     ]
    }
   ],
   "source": [
    "chat()"
   ]
  },
  {
   "cell_type": "code",
   "execution_count": null,
   "id": "cbec0874-6050-4e62-8727-2809144c6848",
   "metadata": {},
   "outputs": [],
   "source": []
  }
 ],
 "metadata": {
  "kernelspec": {
   "display_name": "Python 3 (ipykernel)",
   "language": "python",
   "name": "python3"
  },
  "language_info": {
   "codemirror_mode": {
    "name": "ipython",
    "version": 3
   },
   "file_extension": ".py",
   "mimetype": "text/x-python",
   "name": "python",
   "nbconvert_exporter": "python",
   "pygments_lexer": "ipython3",
   "version": "3.10.12"
  }
 },
 "nbformat": 4,
 "nbformat_minor": 5
}
