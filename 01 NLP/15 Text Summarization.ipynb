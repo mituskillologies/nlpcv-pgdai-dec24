{
 "cells": [
  {
   "cell_type": "markdown",
   "id": "bb25eac5-f4d5-453f-b455-379810bbceed",
   "metadata": {},
   "source": [
    "#### Extractive Summarization"
   ]
  },
  {
   "cell_type": "markdown",
   "id": "9fdfe6ec-9c87-4335-a234-cd08c870fd04",
   "metadata": {},
   "source": [
    "##### Install necessary libraries"
   ]
  },
  {
   "cell_type": "code",
   "execution_count": 2,
   "id": "e835279e-4d25-46d2-8a10-74dec72d9cf0",
   "metadata": {},
   "outputs": [
    {
     "name": "stdout",
     "output_type": "stream",
     "text": [
      "Defaulting to user installation because normal site-packages is not writeable\n",
      "Requirement already satisfied: sumy in /home/mitu/.local/lib/python3.10/site-packages (0.11.0)\n",
      "Requirement already satisfied: gensim in /home/mitu/.local/lib/python3.10/site-packages (4.3.2)\n",
      "Requirement already satisfied: docopt<0.7,>=0.6.1 in /home/mitu/.local/lib/python3.10/site-packages (from sumy) (0.6.2)\n",
      "Requirement already satisfied: breadability>=0.1.20 in /home/mitu/.local/lib/python3.10/site-packages (from sumy) (0.1.20)\n",
      "Requirement already satisfied: requests>=2.7.0 in /usr/local/lib/python3.10/dist-packages (from sumy) (2.31.0)\n",
      "Requirement already satisfied: pycountry>=18.2.23 in /home/mitu/.local/lib/python3.10/site-packages (from sumy) (23.12.11)\n",
      "Requirement already satisfied: nltk>=3.0.2 in /home/mitu/.local/lib/python3.10/site-packages (from sumy) (3.9.1)\n",
      "Requirement already satisfied: numpy>=1.18.5 in /home/mitu/.local/lib/python3.10/site-packages (from gensim) (1.26.4)\n",
      "Requirement already satisfied: scipy>=1.7.0 in /usr/local/lib/python3.10/dist-packages (from gensim) (1.11.4)\n",
      "Requirement already satisfied: smart-open>=1.8.1 in /home/mitu/.local/lib/python3.10/site-packages (from gensim) (6.4.0)\n",
      "Requirement already satisfied: chardet in /home/mitu/.local/lib/python3.10/site-packages (from breadability>=0.1.20->sumy) (3.0.4)\n",
      "Requirement already satisfied: lxml>=2.0 in /usr/local/lib/python3.10/dist-packages (from breadability>=0.1.20->sumy) (5.2.1)\n",
      "Requirement already satisfied: click in /home/mitu/.local/lib/python3.10/site-packages (from nltk>=3.0.2->sumy) (8.1.7)\n",
      "Requirement already satisfied: joblib in /usr/local/lib/python3.10/dist-packages (from nltk>=3.0.2->sumy) (1.3.2)\n",
      "Requirement already satisfied: regex>=2021.8.3 in /home/mitu/.local/lib/python3.10/site-packages (from nltk>=3.0.2->sumy) (2023.12.25)\n",
      "Requirement already satisfied: tqdm in /home/mitu/.local/lib/python3.10/site-packages (from nltk>=3.0.2->sumy) (4.66.1)\n",
      "Requirement already satisfied: charset-normalizer<4,>=2 in /usr/local/lib/python3.10/dist-packages (from requests>=2.7.0->sumy) (3.3.2)\n",
      "Requirement already satisfied: idna<4,>=2.5 in /home/mitu/.local/lib/python3.10/site-packages (from requests>=2.7.0->sumy) (2.10)\n",
      "Requirement already satisfied: urllib3<3,>=1.21.1 in /usr/lib/python3/dist-packages (from requests>=2.7.0->sumy) (1.26.5)\n",
      "Requirement already satisfied: certifi>=2017.4.17 in /usr/lib/python3/dist-packages (from requests>=2.7.0->sumy) (2020.6.20)\n",
      "Note: you may need to restart the kernel to use updated packages.\n"
     ]
    }
   ],
   "source": [
    "pip install sumy gensim"
   ]
  },
  {
   "cell_type": "code",
   "execution_count": 3,
   "id": "f5973d76-e0aa-4817-8523-f2310b5971fa",
   "metadata": {},
   "outputs": [],
   "source": [
    "text = '''The tiger (Panthera tigris) is a large cat and a member of the genus Panthera native to Asia. It has a powerful, muscular body with a large head and paws, a long tail and orange fur with black, mostly vertical stripes. It is traditionally classified into nine recent subspecies, though some recognise only two subspecies, mainland Asian tigers and the island tigers of the Sunda Islands.\n",
    "Throughout the tiger's range, it inhabits mainly forests, from coniferous and temperate broadleaf and mixed forests in the Russian Far East and Northeast China to tropical and subtropical moist broadleaf forests on the Indian subcontinent and Southeast Asia. The tiger is an apex predator and preys mainly on ungulates, which it takes by ambush. It lives a mostly solitary life and occupies home ranges, defending these from individuals of the same sex. The range of a male tiger overlaps with that of multiple females with whom he mates. Females give birth to usually two or three cubs that stay with their mother for about two years. When becoming independent, they leave their mother's home range and establish their own.\n",
    "Since the early 20th century, tiger populations have lost at least 93% of their historic range and are locally extinct in West and Central Asia, in large areas of China and on the islands of Java and Bali. Today, the tiger's range is severely fragmented. It is listed as Endangered on the IUCN Red List of Threatened Species, as its range is thought to have declined by 53% to 68% since the late 1990s. Major threats to tigers are habitat destruction and fragmentation due to deforestation, poaching for fur and the illegal trade of body parts for medicinal purposes. Tigers are also victims of human–wildlife conflict as they attack and prey on livestock in areas where natural prey is scarce. The tiger is legally protected in all range countries. National conservation measures consist of action plans, anti-poaching patrols and schemes for monitoring tiger populations. In several range countries, wildlife corridors have been established and tiger reintroduction is planned.\n",
    "The tiger is among the most popular of the world's charismatic megafauna. It has been kept in captivity since ancient times and has been trained to perform in circuses and other entertainment shows. The tiger featured prominently in the ancient mythology and folklore of cultures throughout its historic range and has continued to appear in culture worldwide.\n",
    "The tiger has a typical felid morphology, with a muscular body, shortened legs, strong forelimbs with wide front paws, a large head and a tail that is about half the length of the rest of its body.[47][48] It has five digits, including a dewclaw, on the front feet and four on the back, all of which have retractile claws that are compact and curved, and can reach 10 cm (3.9 in) long.[47][49] The ears are rounded and the eyes have a round pupil.[47] The snout ends in a triangular, pink tip with small black dots, the number of which increase with age.[50] The tiger's skull is robust, with a constricted front region, proportionally small, elliptical orbits, long nasal bones and a lengthened cranium with a large sagittal crest.[51][47] It resembles a lion's skull, but differs from it in the concave or flattened underside of the lower jaw and in its longer nasals.[51][43] The tiger has 30 fairly robust teeth and its somewhat curved canines are the longest in the cat family at 6.4–7.6 cm (2.5–3.0 in).[47][52]\n",
    "The tiger has a head-body length of 1.4–2.8 m (4 ft 7 in – 9 ft 2 in) with a 0.6–1.1 m (2 ft 0 in – 3 ft 7 in) tail and stands 0.8–1.1 m (2 ft 7 in – 3 ft 7 in) at the shoulder.[53] The Siberian and Bengal tigers are the largest.[47] Male Bengal tigers weigh 200–260 kg (440–570 lb), and females weigh 100–160 kg (220–350 lb); island tigers are the smallest, likely due to insular dwarfism.[11] Male Sumatran tigers weigh 100–140 kg (220–310 lb), and females weigh 75–110 kg (165–243 lb).[54] The tiger is popularly thought to be the largest living felid species; but since tigers of the different subspecies and populations vary greatly in size and weight, the tiger's average size may be less than the lion's, while the largest tigers are bigger than their lion counterparts.'''"
   ]
  },
  {
   "cell_type": "code",
   "execution_count": 5,
   "id": "58f0ab1a-905f-49fd-8865-16717fecf4ec",
   "metadata": {},
   "outputs": [
    {
     "name": "stdout",
     "output_type": "stream",
     "text": [
      "The tiger (Panthera tigris) is a large cat and a member of the genus Panthera native to Asia. It has a powerful, muscular body with a large head and paws, a long tail and orange fur with black, mostly vertical stripes. It is traditionally classified into nine recent subspecies, though some recognise only two subspecies, mainland Asian tigers and the island tigers of the Sunda Islands.\n",
      "Throughout the tiger's range, it inhabits mainly forests, from coniferous and temperate broadleaf and mixed forests in the Russian Far East and Northeast China to tropical and subtropical moist broadleaf forests on the Indian subcontinent and Southeast Asia. The tiger is an apex predator and preys mainly on ungulates, which it takes by ambush. It lives a mostly solitary life and occupies home ranges, defending these from individuals of the same sex. The range of a male tiger overlaps with that of multiple females with whom he mates. Females give birth to usually two or three cubs that stay with their mother for about two years. When becoming independent, they leave their mother's home range and establish their own.\n",
      "Since the early 20th century, tiger populations have lost at least 93% of their historic range and are locally extinct in West and Central Asia, in large areas of China and on the islands of Java and Bali. Today, the tiger's range is severely fragmented. It is listed as Endangered on the IUCN Red List of Threatened Species, as its range is thought to have declined by 53% to 68% since the late 1990s. Major threats to tigers are habitat destruction and fragmentation due to deforestation, poaching for fur and the illegal trade of body parts for medicinal purposes. Tigers are also victims of human–wildlife conflict as they attack and prey on livestock in areas where natural prey is scarce. The tiger is legally protected in all range countries. National conservation measures consist of action plans, anti-poaching patrols and schemes for monitoring tiger populations. In several range countries, wildlife corridors have been established and tiger reintroduction is planned.\n",
      "The tiger is among the most popular of the world's charismatic megafauna. It has been kept in captivity since ancient times and has been trained to perform in circuses and other entertainment shows. The tiger featured prominently in the ancient mythology and folklore of cultures throughout its historic range and has continued to appear in culture worldwide.\n",
      "The tiger has a typical felid morphology, with a muscular body, shortened legs, strong forelimbs with wide front paws, a large head and a tail that is about half the length of the rest of its body.[47][48] It has five digits, including a dewclaw, on the front feet and four on the back, all of which have retractile claws that are compact and curved, and can reach 10 cm (3.9 in) long.[47][49] The ears are rounded and the eyes have a round pupil.[47] The snout ends in a triangular, pink tip with small black dots, the number of which increase with age.[50] The tiger's skull is robust, with a constricted front region, proportionally small, elliptical orbits, long nasal bones and a lengthened cranium with a large sagittal crest.[51][47] It resembles a lion's skull, but differs from it in the concave or flattened underside of the lower jaw and in its longer nasals.[51][43] The tiger has 30 fairly robust teeth and its somewhat curved canines are the longest in the cat family at 6.4–7.6 cm (2.5–3.0 in).[47][52]\n",
      "The tiger has a head-body length of 1.4–2.8 m (4 ft 7 in – 9 ft 2 in) with a 0.6–1.1 m (2 ft 0 in – 3 ft 7 in) tail and stands 0.8–1.1 m (2 ft 7 in – 3 ft 7 in) at the shoulder.[53] The Siberian and Bengal tigers are the largest.[47] Male Bengal tigers weigh 200–260 kg (440–570 lb), and females weigh 100–160 kg (220–350 lb); island tigers are the smallest, likely due to insular dwarfism.[11] Male Sumatran tigers weigh 100–140 kg (220–310 lb), and females weigh 75–110 kg (165–243 lb).[54] The tiger is popularly thought to be the largest living felid species; but since tigers of the different subspecies and populations vary greatly in size and weight, the tiger's average size may be less than the lion's, while the largest tigers are bigger than their lion counterparts.\n"
     ]
    }
   ],
   "source": [
    "print(text)"
   ]
  },
  {
   "cell_type": "markdown",
   "id": "2ce2166f-cfff-442d-81ee-966213f056b0",
   "metadata": {},
   "source": [
    "##### TextRank Algorithm"
   ]
  },
  {
   "cell_type": "code",
   "execution_count": 7,
   "id": "7c1fa14e-34a9-40df-9213-7e8821658b25",
   "metadata": {},
   "outputs": [],
   "source": [
    "# import the textrank summarizer\n",
    "from sumy.summarizers.text_rank import TextRankSummarizer"
   ]
  },
  {
   "cell_type": "code",
   "execution_count": 8,
   "id": "d9a4fcd0-2e7c-4c73-9a17-5b5c3d45bc13",
   "metadata": {},
   "outputs": [],
   "source": [
    "# import parser and tokenizer\n",
    "from sumy.parsers.plaintext import PlaintextParser\n",
    "from sumy.nlp.tokenizers import Tokenizer"
   ]
  },
  {
   "cell_type": "code",
   "execution_count": 9,
   "id": "2870d7e7-48e9-470f-9296-f9bc82500542",
   "metadata": {},
   "outputs": [],
   "source": [
    "from nltk.tokenize import sent_tokenize"
   ]
  },
  {
   "cell_type": "code",
   "execution_count": 10,
   "id": "4f0b96d3-f39a-41d5-b43c-d26ec5c5d84c",
   "metadata": {},
   "outputs": [
    {
     "data": {
      "text/plain": [
       "32"
      ]
     },
     "execution_count": 10,
     "metadata": {},
     "output_type": "execute_result"
    }
   ],
   "source": [
    "len(sent_tokenize(text))"
   ]
  },
  {
   "cell_type": "code",
   "execution_count": 11,
   "id": "b2596e42-8b7a-4a3b-bf9a-83bc0580afa6",
   "metadata": {},
   "outputs": [],
   "source": [
    "# initialize the parser\n",
    "my_parser = PlaintextParser.from_string(text, Tokenizer('english'))"
   ]
  },
  {
   "cell_type": "code",
   "execution_count": 13,
   "id": "5fa9398c-301b-49d4-a8bf-886652d44ce1",
   "metadata": {},
   "outputs": [],
   "source": [
    "# create the object of TextRank\n",
    "text_rank_summarizer = TextRankSummarizer()"
   ]
  },
  {
   "cell_type": "code",
   "execution_count": 17,
   "id": "bde20945-2914-4714-88e5-2474f6548d9a",
   "metadata": {},
   "outputs": [],
   "source": [
    "summary = text_rank_summarizer(my_parser.document, sentences_count=3)"
   ]
  },
  {
   "cell_type": "code",
   "execution_count": 20,
   "id": "5e7b7fd4-1e78-40b6-9ce0-287dec553c6f",
   "metadata": {},
   "outputs": [
    {
     "name": "stdout",
     "output_type": "stream",
     "text": [
      "Throughout the tiger's range, it inhabits mainly forests, from coniferous and temperate broadleaf and mixed forests in the Russian Far East and Northeast China to tropical and subtropical moist broadleaf forests on the Indian subcontinent and Southeast Asia. \n",
      "\n",
      "Since the early 20th century, tiger populations have lost at least 93% of their historic range and are locally extinct in West and Central Asia, in large areas of China and on the islands of Java and Bali. \n",
      "\n",
      "[54] The tiger is popularly thought to be the largest living felid species; but since tigers of the different subspecies and populations vary greatly in size and weight, the tiger's average size may be less than the lion's, while the largest tigers are bigger than their lion counterparts. \n",
      "\n"
     ]
    }
   ],
   "source": [
    "for sentence in summary:\n",
    "    print(sentence,'\\n')"
   ]
  },
  {
   "cell_type": "code",
   "execution_count": 24,
   "id": "747a4c7b-8bc8-4117-9000-25cfb0713ed1",
   "metadata": {},
   "outputs": [],
   "source": [
    "marathi_text = '''वाघ हा वर नमूद केल्याप्रमाणे मार्जार कुळातील सर्वात मोठा प्राणी आहे. वाघाचा आकार हा स्थानिक परिस्थितीप्रमाणे कमी जास्त असतो. सायबेरीयन वाघ हा आकाराने मोठा असतो तर भारतीय वाघ त्या मानाने कमी भरतो. सायबेरीयन वाघ हा लांबीला ३.५ मीटर पर्यंत भरतो तर त्याचे वजन ३०० किलोपर्यंत असते. हा अपवाद झाला परंतु १९० -२०० सेमी पर्यंत लांब असतात व त्यांचे सरासरी वजन २२७ किलो पर्यंत असते. भारतीय वाघ साधारणपणे वजनात १०० ते १८० किलोपर्यंत भरतो. मादी ही नरापेक्षा लहान असते. सुमात्रा मधील वाघ हा अजूनच लहान असतो. वाघांची ओळखण्याची सर्वात मोठी खूण त्यांचे अंगावरचे पट्टे व तांबूस रंगाची फ़र असते. प्रत्येक वाघाचे अंगावरील पट्टे हे वेगळे असतात. जसे प्रत्येक माणसाचे ठसे वेगळे असतात त्याचप्रमाणे यावरून वाघांना ओळखता येते. वाघाच्या अंगावर साधारणपणे १०० पर्यंत पट्टे असतात. पट्ट्यांचा मुख्य उपयोग वाघांना दाट झाडींमध्ये सदृश होण्यासाठी होतो. पट्ट्यांबरोबरच प्रत्येक वाघाच्या पंज्याची ठेवणही वेगळी असते. वाघांची पारंपारिक गणना पंजाच्या ठश्यांवरूनच होते. वाघाचा पंजा हा वाघाच्या आकारमानाने खूप मोठा व अतिशय ताकदवान असतो. त्याचा व्यास साधारणपणे ६ ते ८ इंच इतका भरतो. जंगलातून फ़िरताना वाघ जरी दिसला नाही तरी वाघाचे ठसे दिसू शकतात. शिकार साधण्यासाठी वाघांचा जबडा जबरदस्त ताकदवान असतो व तो वर-खाली या दिशेत फिरतो. जबड्याची ताकद ते भक्ष्यामध्ये सुळे रुतवण्यासाठी तसेच भक्ष्याला पकडून ठेवणे, ओढून नेणे या कामासाठी वापरतात. वाघाची सर्वात जास्त ताकद त्याच्या जबड्यात असते असे म्हटल्यास वावगे ठरणार नाही. वाघ हे पट्टीचे पोहोणारे आहेत, म्हणजे त्यांची पोहोण्याची क्षमता चांगलीच असते व या बाबतीत इतर मांजरांपेक्षा वेगळी सवय आहे. वाघांना पाणी आवडते. उन्हाळ्याच्या दिवसात वाघ पाण्यात तासन तास डुंबून स्वतःला थंड ठेवतात.\n",
    "वाघ हा वर नमूद केल्याप्रमाणे मार्जार कुळातील सर्वात मोठा प्राणी आहे. वाघाचा आकार हा स्थानिक परिस्थितीप्रमाणे कमी जास्त असतो. सायबेरीयन वाघ हा आकाराने मोठा असतो तर भारतीय वाघ त्या मानाने कमी भरतो. सायबेरीयन वाघ हा लांबीला ३.५ मीटर पर्यंत भरतो तर त्याचे वजन ३०० किलोपर्यंत असते. हा अपवाद झाला परंतु १९० -२०० सेमी पर्यंत लांब असतात व त्यांचे सरासरी वजन २२७ किलो पर्यंत असते. भारतीय वाघ साधारणपणे वजनात १०० ते १८० किलोपर्यंत भरतो. मादी ही नरापेक्षा लहान असते. सुमात्रा मधील वाघ हा अजूनच लहान असतो. वाघांची ओळखण्याची सर्वात मोठी खूण त्यांचे अंगावरचे पट्टे व तांबूस रंगाची फ़र असते. प्रत्येक वाघाचे अंगावरील पट्टे हे वेगळे असतात. जसे प्रत्येक माणसाचे ठसे वेगळे असतात त्याचप्रमाणे यावरून वाघांना ओळखता येते. वाघाच्या अंगावर साधारणपणे १०० पर्यंत पट्टे असतात. पट्ट्यांचा मुख्य उपयोग वाघांना दाट झाडींमध्ये सदृश होण्यासाठी होतो. पट्ट्यांबरोबरच प्रत्येक वाघाच्या पंज्याची ठेवणही वेगळी असते. वाघांची पारंपारिक गणना पंजाच्या ठश्यांवरूनच होते. वाघाचा पंजा हा वाघाच्या आकारमानाने खूप मोठा व अतिशय ताकदवान असतो. त्याचा व्यास साधारणपणे ६ ते ८ इंच इतका भरतो. जंगलातून फ़िरताना वाघ जरी दिसला नाही तरी वाघाचे ठसे दिसू शकतात. शिकार साधण्यासाठी वाघांचा जबडा जबरदस्त ताकदवान असतो व तो वर-खाली या दिशेत फिरतो. जबड्याची ताकद ते भक्ष्यामध्ये सुळे रुतवण्यासाठी तसेच भक्ष्याला पकडून ठेवणे, ओढून नेणे या कामासाठी वापरतात. वाघाची सर्वात जास्त ताकद त्याच्या जबड्यात असते असे म्हटल्यास वावगे ठरणार नाही. वाघ हे पट्टीचे पोहोणारे आहेत, म्हणजे त्यांची पोहोण्याची क्षमता चांगलीच असते व या बाबतीत इतर मांजरांपेक्षा वेगळी सवय आहे. वाघांना पाणी आवडते. उन्हाळ्याच्या दिवसात वाघ पाण्यात तासन तास डुंबून स्वतःला थंड ठेवतात.'''"
   ]
  },
  {
   "cell_type": "code",
   "execution_count": 23,
   "id": "e3db5b0a-80a6-459b-915e-db771b597951",
   "metadata": {},
   "outputs": [
    {
     "name": "stdout",
     "output_type": "stream",
     "text": [
      "वाघ हा वर नमूद केल्याप्रमाणे मार्जार कुळातील सर्वात मोठा प्राणी आहे. वाघाचा आकार हा स्थानिक परिस्थितीप्रमाणे कमी जास्त असतो. सायबेरीयन वाघ हा आकाराने मोठा असतो तर भारतीय वाघ त्या मानाने कमी भरतो. सायबेरीयन वाघ हा लांबीला ३.५ मीटर पर्यंत भरतो तर त्याचे वजन ३०० किलोपर्यंत असते. हा अपवाद झाला परंतु १९० -२०० सेमी पर्यंत लांब असतात व त्यांचे सरासरी वजन २२७ किलो पर्यंत असते. भारतीय वाघ साधारणपणे वजनात १०० ते १८० किलोपर्यंत भरतो. मादी ही नरापेक्षा लहान असते. सुमात्रा मधील वाघ हा अजूनच लहान असतो. वाघांची ओळखण्याची सर्वात मोठी खूण त्यांचे अंगावरचे पट्टे व तांबूस रंगाची फ़र असते. प्रत्येक वाघाचे अंगावरील पट्टे हे वेगळे असतात. जसे प्रत्येक माणसाचे ठसे वेगळे असतात त्याचप्रमाणे यावरून वाघांना ओळखता येते. वाघाच्या अंगावर साधारणपणे १०० पर्यंत पट्टे असतात. पट्ट्यांचा मुख्य उपयोग वाघांना दाट झाडींमध्ये सदृश होण्यासाठी होतो. पट्ट्यांबरोबरच प्रत्येक वाघाच्या पंज्याची ठेवणही वेगळी असते. वाघांची पारंपारिक गणना पंजाच्या ठश्यांवरूनच होते. वाघाचा पंजा हा वाघाच्या आकारमानाने खूप मोठा व अतिशय ताकदवान असतो. त्याचा व्यास साधारणपणे ६ ते ८ इंच इतका भरतो. जंगलातून फ़िरताना वाघ जरी दिसला नाही तरी वाघाचे ठसे दिसू शकतात. शिकार साधण्यासाठी वाघांचा जबडा जबरदस्त ताकदवान असतो व तो वर-खाली या दिशेत फिरतो. जबड्याची ताकद ते भक्ष्यामध्ये सुळे रुतवण्यासाठी तसेच भक्ष्याला पकडून ठेवणे, ओढून नेणे या कामासाठी वापरतात. वाघाची सर्वात जास्त ताकद त्याच्या जबड्यात असते असे म्हटल्यास वावगे ठरणार नाही. वाघ हे पट्टीचे पोहोणारे आहेत, म्हणजे त्यांची पोहोण्याची क्षमता चांगलीच असते व या बाबतीत इतर मांजरांपेक्षा वेगळी सवय आहे. वाघांना पाणी आवडते. उन्हाळ्याच्या दिवसात वाघ पाण्यात तासन तास डुंबून स्वतःला थंड ठेवतात.\n",
      "वाघ हा वर नमूद केल्याप्रमाणे मार्जार कुळातील सर्वात मोठा प्राणी आहे. वाघाचा आकार हा स्थानिक परिस्थितीप्रमाणे कमी जास्त असतो. सायबेरीयन वाघ हा आकाराने मोठा असतो तर भारतीय वाघ त्या मानाने कमी भरतो. सायबेरीयन वाघ हा लांबीला ३.५ मीटर पर्यंत भरतो तर त्याचे वजन ३०० किलोपर्यंत असते. हा अपवाद झाला परंतु १९० -२०० सेमी पर्यंत लांब असतात व त्यांचे सरासरी वजन २२७ किलो पर्यंत असते. भारतीय वाघ साधारणपणे वजनात १०० ते १८० किलोपर्यंत भरतो. मादी ही नरापेक्षा लहान असते. सुमात्रा मधील वाघ हा अजूनच लहान असतो. वाघांची ओळखण्याची सर्वात मोठी खूण त्यांचे अंगावरचे पट्टे व तांबूस रंगाची फ़र असते. प्रत्येक वाघाचे अंगावरील पट्टे हे वेगळे असतात. जसे प्रत्येक माणसाचे ठसे वेगळे असतात त्याचप्रमाणे यावरून वाघांना ओळखता येते. वाघाच्या अंगावर साधारणपणे १०० पर्यंत पट्टे असतात. पट्ट्यांचा मुख्य उपयोग वाघांना दाट झाडींमध्ये सदृश होण्यासाठी होतो. पट्ट्यांबरोबरच प्रत्येक वाघाच्या पंज्याची ठेवणही वेगळी असते. वाघांची पारंपारिक गणना पंजाच्या ठश्यांवरूनच होते. वाघाचा पंजा हा वाघाच्या आकारमानाने खूप मोठा व अतिशय ताकदवान असतो. त्याचा व्यास साधारणपणे ६ ते ८ इंच इतका भरतो. जंगलातून फ़िरताना वाघ जरी दिसला नाही तरी वाघाचे ठसे दिसू शकतात. शिकार साधण्यासाठी वाघांचा जबडा जबरदस्त ताकदवान असतो व तो वर-खाली या दिशेत फिरतो. जबड्याची ताकद ते भक्ष्यामध्ये सुळे रुतवण्यासाठी तसेच भक्ष्याला पकडून ठेवणे, ओढून नेणे या कामासाठी वापरतात. वाघाची सर्वात जास्त ताकद त्याच्या जबड्यात असते असे म्हटल्यास वावगे ठरणार नाही. वाघ हे पट्टीचे पोहोणारे आहेत, म्हणजे त्यांची पोहोण्याची क्षमता चांगलीच असते व या बाबतीत इतर मांजरांपेक्षा वेगळी सवय आहे. वाघांना पाणी आवडते. उन्हाळ्याच्या दिवसात वाघ पाण्यात तासन तास डुंबून स्वतःला थंड ठेवतात.\n"
     ]
    }
   ],
   "source": [
    "print(marathi_text)"
   ]
  },
  {
   "cell_type": "code",
   "execution_count": 35,
   "id": "06c61aaf-21f7-4cc0-9f26-b97ccd11b6d2",
   "metadata": {},
   "outputs": [],
   "source": [
    "# initialize the parser\n",
    "my_parser = PlaintextParser.from_string(marathi_text, Tokenizer('english'))"
   ]
  },
  {
   "cell_type": "code",
   "execution_count": 36,
   "id": "ac51871d-672e-45c9-b50d-9aaf15e1a837",
   "metadata": {},
   "outputs": [],
   "source": [
    "# create the object of TextRank\n",
    "text_rank_summarizer = TextRankSummarizer()"
   ]
  },
  {
   "cell_type": "code",
   "execution_count": 37,
   "id": "33799aca-56f1-46de-ad07-7e7ea9fa8eb7",
   "metadata": {},
   "outputs": [],
   "source": [
    "summary = text_rank_summarizer(my_parser.document, sentences_count=5)"
   ]
  },
  {
   "cell_type": "code",
   "execution_count": 38,
   "id": "c1911f50-9cef-4649-90f1-ba28f104c73e",
   "metadata": {},
   "outputs": [
    {
     "name": "stdout",
     "output_type": "stream",
     "text": [
      "हा अपवाद झाला परंतु १९० -२०० सेमी पर्यंत लांब असतात व त्यांचे सरासरी वजन २२७ किलो पर्यंत असते. \n",
      "\n",
      "वाघांची ओळखण्याची सर्वात मोठी खूण त्यांचे अंगावरचे पट्टे व तांबूस रंगाची फ़र असते. \n",
      "\n",
      "वाघाचा पंजा हा वाघाच्या आकारमानाने खूप मोठा व अतिशय ताकदवान असतो. \n",
      "\n",
      "शिकार साधण्यासाठी वाघांचा जबडा जबरदस्त ताकदवान असतो व तो वर-खाली या दिशेत फिरतो. \n",
      "\n",
      "हा अपवाद झाला परंतु १९० -२०० सेमी पर्यंत लांब असतात व त्यांचे सरासरी वजन २२७ किलो पर्यंत असते. \n",
      "\n"
     ]
    }
   ],
   "source": [
    "for sentence in summary:\n",
    "    print(sentence,'\\n')"
   ]
  },
  {
   "cell_type": "code",
   "execution_count": 39,
   "id": "11de9d2b-1a3c-4fcb-999b-8590a34eabe9",
   "metadata": {},
   "outputs": [
    {
     "name": "stdout",
     "output_type": "stream",
     "text": [
      "Help on class Tokenizer in module sumy.nlp.tokenizers:\n",
      "\n",
      "class Tokenizer(builtins.object)\n",
      " |  Tokenizer(language)\n",
      " |  \n",
      " |  Language dependent tokenizer of text document.\n",
      " |  \n",
      " |  Methods defined here:\n",
      " |  \n",
      " |  __init__(self, language)\n",
      " |      Initialize self.  See help(type(self)) for accurate signature.\n",
      " |  \n",
      " |  to_sentences(self, paragraph)\n",
      " |  \n",
      " |  to_words(self, sentence)\n",
      " |  \n",
      " |  ----------------------------------------------------------------------\n",
      " |  Readonly properties defined here:\n",
      " |  \n",
      " |  language\n",
      " |  \n",
      " |  ----------------------------------------------------------------------\n",
      " |  Data descriptors defined here:\n",
      " |  \n",
      " |  __dict__\n",
      " |      dictionary for instance variables (if defined)\n",
      " |  \n",
      " |  __weakref__\n",
      " |      list of weak references to the object (if defined)\n",
      " |  \n",
      " |  ----------------------------------------------------------------------\n",
      " |  Data and other attributes defined here:\n",
      " |  \n",
      " |  LANGUAGE_ALIASES = {'slovak': 'czech'}\n",
      " |  \n",
      " |  LANGUAGE_EXTRA_ABREVS = {'english': ['e.g', 'al', 'i.e'], 'german': ['...\n",
      " |  \n",
      " |  SPECIAL_SENTENCE_TOKENIZERS = {'arabic': <sumy.nlp.tokenizers.ArabicSe...\n",
      " |  \n",
      " |  SPECIAL_WORD_TOKENIZERS = {'arabic': <sumy.nlp.tokenizers.ArabicWordTo...\n",
      "\n"
     ]
    }
   ],
   "source": [
    "help(Tokenizer)"
   ]
  },
  {
   "cell_type": "markdown",
   "id": "41319298-fedc-42b6-897c-b9e50df3ffda",
   "metadata": {},
   "source": [
    "##### LexRank Algorithm"
   ]
  },
  {
   "cell_type": "code",
   "execution_count": 41,
   "id": "2625de3c-eb7a-4c9c-afef-30005f4592cc",
   "metadata": {},
   "outputs": [],
   "source": [
    "# import the lexrank summarizer\n",
    "from sumy.summarizers.lex_rank import LexRankSummarizer"
   ]
  },
  {
   "cell_type": "code",
   "execution_count": 47,
   "id": "093cc93b-dca5-4672-8246-461595a68d18",
   "metadata": {},
   "outputs": [],
   "source": [
    "# initialize the parser\n",
    "my_parser = PlaintextParser.from_string(text, Tokenizer('english'))\n",
    "\n",
    "# create the object of LexRank\n",
    "lex_rank_summarizer = LexRankSummarizer()\n",
    "\n",
    "summary = lex_rank_summarizer(my_parser.document, sentences_count=5)"
   ]
  },
  {
   "cell_type": "code",
   "execution_count": 48,
   "id": "f28a6bd4-db88-4b00-b473-359d2a17b042",
   "metadata": {},
   "outputs": [
    {
     "name": "stdout",
     "output_type": "stream",
     "text": [
      "It has a powerful, muscular body with a large head and paws, a long tail and orange fur with black, mostly vertical stripes. \n",
      "\n",
      "The range of a male tiger overlaps with that of multiple females with whom he mates. \n",
      "\n",
      "The tiger has a typical felid morphology, with a muscular body, shortened legs, strong forelimbs with wide front paws, a large head and a tail that is about half the length of the rest of its body. \n",
      "\n",
      "[47] Male Bengal tigers weigh 200–260 kg (440–570 lb), and females weigh 100–160 kg (220–350 lb); island tigers are the smallest, likely due to insular dwarfism. \n",
      "\n",
      "[54] The tiger is popularly thought to be the largest living felid species; but since tigers of the different subspecies and populations vary greatly in size and weight, the tiger's average size may be less than the lion's, while the largest tigers are bigger than their lion counterparts. \n",
      "\n"
     ]
    }
   ],
   "source": [
    "for sentence in summary:\n",
    "    print(sentence,'\\n')"
   ]
  },
  {
   "cell_type": "markdown",
   "id": "61d046ee-bf09-4d1f-afc3-0d94c6e2ebc0",
   "metadata": {},
   "source": [
    "##### LSA Algorithm"
   ]
  },
  {
   "cell_type": "code",
   "execution_count": 50,
   "id": "5a08175e-1d8d-409b-b671-8d830513e25d",
   "metadata": {},
   "outputs": [],
   "source": [
    "# import the lsa summarizer\n",
    "from sumy.summarizers.lsa import LsaSummarizer"
   ]
  },
  {
   "cell_type": "code",
   "execution_count": 51,
   "id": "7b9b1b79-585e-42ef-8415-b66ea47934b2",
   "metadata": {},
   "outputs": [],
   "source": [
    "# initialize the parser\n",
    "my_parser = PlaintextParser.from_string(text, Tokenizer('english'))\n",
    "\n",
    "# create the object of LSA\n",
    "lsa_summarizer = LsaSummarizer()\n",
    "\n",
    "summary = lsa_summarizer(my_parser.document, sentences_count=5)"
   ]
  },
  {
   "cell_type": "code",
   "execution_count": 52,
   "id": "afac3089-6168-43e2-bc18-f302d0adf6d1",
   "metadata": {},
   "outputs": [
    {
     "name": "stdout",
     "output_type": "stream",
     "text": [
      "The tiger is an apex predator and preys mainly on ungulates, which it takes by ambush. \n",
      "\n",
      "It lives a mostly solitary life and occupies home ranges, defending these from individuals of the same sex. \n",
      "\n",
      "It is listed as Endangered on the IUCN Red List of Threatened Species, as its range is thought to have declined by 53% to 68% since the late 1990s. \n",
      "\n",
      "National conservation measures consist of action plans, anti-poaching patrols and schemes for monitoring tiger populations. \n",
      "\n",
      "In several range countries, wildlife corridors have been established and tiger reintroduction is planned. \n",
      "\n"
     ]
    }
   ],
   "source": [
    "for sentence in summary:\n",
    "    print(sentence,'\\n')"
   ]
  },
  {
   "cell_type": "markdown",
   "id": "c99f6851-9e44-4c5b-aadd-abdbfff5318f",
   "metadata": {},
   "source": [
    "#### Abstractive Summarization"
   ]
  },
  {
   "cell_type": "code",
   "execution_count": 55,
   "id": "ec92c22f-3a48-4f6b-85a5-8d44bb907222",
   "metadata": {},
   "outputs": [
    {
     "name": "stdout",
     "output_type": "stream",
     "text": [
      "Defaulting to user installation because normal site-packages is not writeable\n",
      "Requirement already satisfied: transformers in /home/mitu/.local/lib/python3.10/site-packages (4.39.3)\n",
      "Requirement already satisfied: filelock in /home/mitu/.local/lib/python3.10/site-packages (from transformers) (3.13.4)\n",
      "Requirement already satisfied: huggingface-hub<1.0,>=0.19.3 in /home/mitu/.local/lib/python3.10/site-packages (from transformers) (0.22.2)\n",
      "Requirement already satisfied: numpy>=1.17 in /home/mitu/.local/lib/python3.10/site-packages (from transformers) (1.26.4)\n",
      "Requirement already satisfied: packaging>=20.0 in /usr/local/lib/python3.10/dist-packages (from transformers) (23.2)\n",
      "Requirement already satisfied: pyyaml>=5.1 in /usr/lib/python3/dist-packages (from transformers) (5.4.1)\n",
      "Requirement already satisfied: regex!=2019.12.17 in /home/mitu/.local/lib/python3.10/site-packages (from transformers) (2023.12.25)\n",
      "Requirement already satisfied: requests in /usr/local/lib/python3.10/dist-packages (from transformers) (2.31.0)\n",
      "Requirement already satisfied: tokenizers<0.19,>=0.14 in /home/mitu/.local/lib/python3.10/site-packages (from transformers) (0.15.2)\n",
      "Requirement already satisfied: safetensors>=0.4.1 in /home/mitu/.local/lib/python3.10/site-packages (from transformers) (0.4.3)\n",
      "Requirement already satisfied: tqdm>=4.27 in /home/mitu/.local/lib/python3.10/site-packages (from transformers) (4.66.1)\n",
      "Requirement already satisfied: fsspec>=2023.5.0 in /home/mitu/.local/lib/python3.10/site-packages (from huggingface-hub<1.0,>=0.19.3->transformers) (2024.3.1)\n",
      "Requirement already satisfied: typing-extensions>=3.7.4.3 in /home/mitu/.local/lib/python3.10/site-packages (from huggingface-hub<1.0,>=0.19.3->transformers) (4.12.2)\n",
      "Requirement already satisfied: charset-normalizer<4,>=2 in /usr/local/lib/python3.10/dist-packages (from requests->transformers) (3.3.2)\n",
      "Requirement already satisfied: idna<4,>=2.5 in /home/mitu/.local/lib/python3.10/site-packages (from requests->transformers) (2.10)\n",
      "Requirement already satisfied: urllib3<3,>=1.21.1 in /usr/lib/python3/dist-packages (from requests->transformers) (1.26.5)\n",
      "Requirement already satisfied: certifi>=2017.4.17 in /usr/lib/python3/dist-packages (from requests->transformers) (2020.6.20)\n",
      "Note: you may need to restart the kernel to use updated packages.\n"
     ]
    }
   ],
   "source": [
    "pip install transformers"
   ]
  },
  {
   "cell_type": "code",
   "execution_count": 57,
   "id": "5fb4236f-89a6-4235-8f94-bac23d498c78",
   "metadata": {},
   "outputs": [],
   "source": [
    "from transformers import pipeline"
   ]
  },
  {
   "cell_type": "code",
   "execution_count": 62,
   "id": "efb8f9bc-3937-4bee-ac41-ab3506f05c30",
   "metadata": {},
   "outputs": [
    {
     "name": "stdout",
     "output_type": "stream",
     "text": [
      "Defaulting to user installation because normal site-packages is not writeable\n",
      "Collecting tf_keras\n",
      "  Downloading tf_keras-2.18.0-py3-none-any.whl.metadata (1.6 kB)\n",
      "Collecting tensorflow<2.19,>=2.18 (from tf_keras)\n",
      "  Downloading tensorflow-2.18.0-cp310-cp310-manylinux_2_17_x86_64.manylinux2014_x86_64.whl.metadata (4.1 kB)\n",
      "Requirement already satisfied: absl-py>=1.0.0 in /usr/local/lib/python3.10/dist-packages (from tensorflow<2.19,>=2.18->tf_keras) (2.0.0)\n",
      "Requirement already satisfied: astunparse>=1.6.0 in /usr/local/lib/python3.10/dist-packages (from tensorflow<2.19,>=2.18->tf_keras) (1.6.3)\n",
      "Collecting flatbuffers>=24.3.25 (from tensorflow<2.19,>=2.18->tf_keras)\n",
      "  Downloading flatbuffers-24.3.25-py2.py3-none-any.whl.metadata (850 bytes)\n",
      "Requirement already satisfied: gast!=0.5.0,!=0.5.1,!=0.5.2,>=0.2.1 in /usr/local/lib/python3.10/dist-packages (from tensorflow<2.19,>=2.18->tf_keras) (0.5.4)\n",
      "Requirement already satisfied: google-pasta>=0.1.1 in /usr/local/lib/python3.10/dist-packages (from tensorflow<2.19,>=2.18->tf_keras) (0.2.0)\n",
      "Requirement already satisfied: libclang>=13.0.0 in /usr/local/lib/python3.10/dist-packages (from tensorflow<2.19,>=2.18->tf_keras) (16.0.6)\n",
      "Requirement already satisfied: opt-einsum>=2.3.2 in /usr/local/lib/python3.10/dist-packages (from tensorflow<2.19,>=2.18->tf_keras) (3.3.0)\n",
      "Requirement already satisfied: packaging in /usr/local/lib/python3.10/dist-packages (from tensorflow<2.19,>=2.18->tf_keras) (23.2)\n",
      "Requirement already satisfied: protobuf!=4.21.0,!=4.21.1,!=4.21.2,!=4.21.3,!=4.21.4,!=4.21.5,<6.0.0dev,>=3.20.3 in /home/mitu/.local/lib/python3.10/site-packages (from tensorflow<2.19,>=2.18->tf_keras) (4.25.5)\n",
      "Requirement already satisfied: requests<3,>=2.21.0 in /usr/local/lib/python3.10/dist-packages (from tensorflow<2.19,>=2.18->tf_keras) (2.31.0)\n",
      "Requirement already satisfied: setuptools in /usr/lib/python3/dist-packages (from tensorflow<2.19,>=2.18->tf_keras) (59.6.0)\n",
      "Requirement already satisfied: six>=1.12.0 in /usr/lib/python3/dist-packages (from tensorflow<2.19,>=2.18->tf_keras) (1.16.0)\n",
      "Requirement already satisfied: termcolor>=1.1.0 in /usr/local/lib/python3.10/dist-packages (from tensorflow<2.19,>=2.18->tf_keras) (2.4.0)\n",
      "Requirement already satisfied: typing-extensions>=3.6.6 in /home/mitu/.local/lib/python3.10/site-packages (from tensorflow<2.19,>=2.18->tf_keras) (4.12.2)\n",
      "Requirement already satisfied: wrapt>=1.11.0 in /usr/local/lib/python3.10/dist-packages (from tensorflow<2.19,>=2.18->tf_keras) (1.14.1)\n",
      "Requirement already satisfied: grpcio<2.0,>=1.24.3 in /home/mitu/.local/lib/python3.10/site-packages (from tensorflow<2.19,>=2.18->tf_keras) (1.63.0)\n",
      "Collecting tensorboard<2.19,>=2.18 (from tensorflow<2.19,>=2.18->tf_keras)\n",
      "  Downloading tensorboard-2.18.0-py3-none-any.whl.metadata (1.6 kB)\n",
      "Collecting keras>=3.5.0 (from tensorflow<2.19,>=2.18->tf_keras)\n",
      "  Downloading keras-3.7.0-py3-none-any.whl.metadata (5.8 kB)\n",
      "Requirement already satisfied: numpy<2.1.0,>=1.26.0 in /home/mitu/.local/lib/python3.10/site-packages (from tensorflow<2.19,>=2.18->tf_keras) (1.26.4)\n",
      "Collecting h5py>=3.11.0 (from tensorflow<2.19,>=2.18->tf_keras)\n",
      "  Downloading h5py-3.12.1-cp310-cp310-manylinux_2_17_x86_64.manylinux2014_x86_64.whl.metadata (2.5 kB)\n",
      "Collecting ml-dtypes<0.5.0,>=0.4.0 (from tensorflow<2.19,>=2.18->tf_keras)\n",
      "  Downloading ml_dtypes-0.4.1-cp310-cp310-manylinux_2_17_x86_64.manylinux2014_x86_64.whl.metadata (20 kB)\n",
      "Requirement already satisfied: tensorflow-io-gcs-filesystem>=0.23.1 in /usr/local/lib/python3.10/dist-packages (from tensorflow<2.19,>=2.18->tf_keras) (0.35.0)\n",
      "Requirement already satisfied: wheel<1.0,>=0.23.0 in /usr/lib/python3/dist-packages (from astunparse>=1.6.0->tensorflow<2.19,>=2.18->tf_keras) (0.37.1)\n",
      "Requirement already satisfied: rich in /usr/local/lib/python3.10/dist-packages (from keras>=3.5.0->tensorflow<2.19,>=2.18->tf_keras) (13.7.0)\n",
      "Requirement already satisfied: namex in /usr/local/lib/python3.10/dist-packages (from keras>=3.5.0->tensorflow<2.19,>=2.18->tf_keras) (0.0.7)\n",
      "Requirement already satisfied: optree in /home/mitu/.local/lib/python3.10/site-packages (from keras>=3.5.0->tensorflow<2.19,>=2.18->tf_keras) (0.11.0)\n",
      "Requirement already satisfied: charset-normalizer<4,>=2 in /usr/local/lib/python3.10/dist-packages (from requests<3,>=2.21.0->tensorflow<2.19,>=2.18->tf_keras) (3.3.2)\n",
      "Requirement already satisfied: idna<4,>=2.5 in /home/mitu/.local/lib/python3.10/site-packages (from requests<3,>=2.21.0->tensorflow<2.19,>=2.18->tf_keras) (2.10)\n",
      "Requirement already satisfied: urllib3<3,>=1.21.1 in /usr/lib/python3/dist-packages (from requests<3,>=2.21.0->tensorflow<2.19,>=2.18->tf_keras) (1.26.5)\n",
      "Requirement already satisfied: certifi>=2017.4.17 in /usr/lib/python3/dist-packages (from requests<3,>=2.21.0->tensorflow<2.19,>=2.18->tf_keras) (2020.6.20)\n",
      "Requirement already satisfied: markdown>=2.6.8 in /usr/local/lib/python3.10/dist-packages (from tensorboard<2.19,>=2.18->tensorflow<2.19,>=2.18->tf_keras) (3.5.1)\n",
      "Requirement already satisfied: tensorboard-data-server<0.8.0,>=0.7.0 in /usr/local/lib/python3.10/dist-packages (from tensorboard<2.19,>=2.18->tensorflow<2.19,>=2.18->tf_keras) (0.7.2)\n",
      "Requirement already satisfied: werkzeug>=1.0.1 in /usr/local/lib/python3.10/dist-packages (from tensorboard<2.19,>=2.18->tensorflow<2.19,>=2.18->tf_keras) (3.0.1)\n",
      "Requirement already satisfied: MarkupSafe>=2.1.1 in /usr/local/lib/python3.10/dist-packages (from werkzeug>=1.0.1->tensorboard<2.19,>=2.18->tensorflow<2.19,>=2.18->tf_keras) (2.1.3)\n",
      "Requirement already satisfied: markdown-it-py>=2.2.0 in /usr/local/lib/python3.10/dist-packages (from rich->keras>=3.5.0->tensorflow<2.19,>=2.18->tf_keras) (3.0.0)\n",
      "Requirement already satisfied: pygments<3.0.0,>=2.13.0 in /usr/local/lib/python3.10/dist-packages (from rich->keras>=3.5.0->tensorflow<2.19,>=2.18->tf_keras) (2.17.2)\n",
      "Requirement already satisfied: mdurl~=0.1 in /usr/local/lib/python3.10/dist-packages (from markdown-it-py>=2.2.0->rich->keras>=3.5.0->tensorflow<2.19,>=2.18->tf_keras) (0.1.2)\n",
      "Downloading tf_keras-2.18.0-py3-none-any.whl (1.7 MB)\n",
      "\u001b[2K   \u001b[38;2;114;156;31m━━━━━━━━━━━━━━━━━━━━━━━━━━━━━━━━━━━━━━━━\u001b[0m \u001b[32m1.7/1.7 MB\u001b[0m \u001b[31m15.5 MB/s\u001b[0m eta \u001b[36m0:00:00\u001b[0m\n",
      "\u001b[?25hDownloading tensorflow-2.18.0-cp310-cp310-manylinux_2_17_x86_64.manylinux2014_x86_64.whl (615.3 MB)\n",
      "\u001b[2K   \u001b[38;2;114;156;31m━━━━━━━━━━━━━━━━━━━━━━━━━━━━━━━━━━━━━━━━\u001b[0m \u001b[32m615.3/615.3 MB\u001b[0m \u001b[31m18.6 MB/s\u001b[0m eta \u001b[36m0:00:00\u001b[0mm eta \u001b[36m0:00:01\u001b[0m[36m0:00:01\u001b[0m\n",
      "\u001b[?25hDownloading flatbuffers-24.3.25-py2.py3-none-any.whl (26 kB)\n",
      "Downloading h5py-3.12.1-cp310-cp310-manylinux_2_17_x86_64.manylinux2014_x86_64.whl (5.3 MB)\n",
      "\u001b[2K   \u001b[38;2;114;156;31m━━━━━━━━━━━━━━━━━━━━━━━━━━━━━━━━━━━━━━━━\u001b[0m \u001b[32m5.3/5.3 MB\u001b[0m \u001b[31m21.2 MB/s\u001b[0m eta \u001b[36m0:00:00\u001b[0m MB/s\u001b[0m eta \u001b[36m0:00:01\u001b[0m\n",
      "\u001b[?25hDownloading keras-3.7.0-py3-none-any.whl (1.2 MB)\n",
      "\u001b[2K   \u001b[38;2;114;156;31m━━━━━━━━━━━━━━━━━━━━━━━━━━━━━━━━━━━━━━━━\u001b[0m \u001b[32m1.2/1.2 MB\u001b[0m \u001b[31m18.7 MB/s\u001b[0m eta \u001b[36m0:00:00\u001b[0m\n",
      "\u001b[?25hDownloading ml_dtypes-0.4.1-cp310-cp310-manylinux_2_17_x86_64.manylinux2014_x86_64.whl (2.2 MB)\n",
      "\u001b[2K   \u001b[38;2;114;156;31m━━━━━━━━━━━━━━━━━━━━━━━━━━━━━━━━━━━━━━━━\u001b[0m \u001b[32m2.2/2.2 MB\u001b[0m \u001b[31m20.4 MB/s\u001b[0m eta \u001b[36m0:00:00\u001b[0m\n",
      "\u001b[?25hDownloading tensorboard-2.18.0-py3-none-any.whl (5.5 MB)\n",
      "\u001b[2K   \u001b[38;2;114;156;31m━━━━━━━━━━━━━━━━━━━━━━━━━━━━━━━━━━━━━━━━\u001b[0m \u001b[32m5.5/5.5 MB\u001b[0m \u001b[31m20.7 MB/s\u001b[0m eta \u001b[36m0:00:00\u001b[0m MB/s\u001b[0m eta \u001b[36m0:00:01\u001b[0m\n",
      "\u001b[?25hInstalling collected packages: flatbuffers, ml-dtypes, h5py, tensorboard, keras, tensorflow, tf_keras\n",
      "  Attempting uninstall: ml-dtypes\n",
      "    Found existing installation: ml-dtypes 0.3.2\n",
      "    Uninstalling ml-dtypes-0.3.2:\n",
      "      Successfully uninstalled ml-dtypes-0.3.2\n",
      "  Attempting uninstall: tensorboard\n",
      "    Found existing installation: tensorboard 2.16.2\n",
      "    Uninstalling tensorboard-2.16.2:\n",
      "      Successfully uninstalled tensorboard-2.16.2\n",
      "  Attempting uninstall: keras\n",
      "    Found existing installation: keras 3.4.1\n",
      "    Uninstalling keras-3.4.1:\n",
      "      Successfully uninstalled keras-3.4.1\n",
      "  Attempting uninstall: tensorflow\n",
      "    Found existing installation: tensorflow 2.16.2\n",
      "    Uninstalling tensorflow-2.16.2:\n",
      "      Successfully uninstalled tensorflow-2.16.2\n",
      "Successfully installed flatbuffers-24.3.25 h5py-3.12.1 keras-3.7.0 ml-dtypes-0.4.1 tensorboard-2.18.0 tensorflow-2.18.0 tf_keras-2.18.0\n",
      "Note: you may need to restart the kernel to use updated packages.\n"
     ]
    }
   ],
   "source": [
    "pip install tf_keras"
   ]
  },
  {
   "cell_type": "code",
   "execution_count": 64,
   "id": "ee2b8491-571f-4a2c-af8f-01c6f96e31b0",
   "metadata": {},
   "outputs": [
    {
     "name": "stderr",
     "output_type": "stream",
     "text": [
      "No model was supplied, defaulted to sshleifer/distilbart-cnn-12-6 and revision a4f8f3e (https://huggingface.co/sshleifer/distilbart-cnn-12-6).\n",
      "Using a pipeline without specifying a model name and revision in production is not recommended.\n"
     ]
    },
    {
     "ename": "RuntimeError",
     "evalue": "Failed to import transformers.models.bart.modeling_tf_bart because of the following error (look up to see its traceback):\nYour currently installed version of Keras is Keras 3, but this is not yet supported in Transformers. Please install the backwards-compatible tf-keras package with `pip install tf-keras`.",
     "output_type": "error",
     "traceback": [
      "\u001b[0;31m---------------------------------------------------------------------------\u001b[0m",
      "\u001b[0;31mImportError\u001b[0m                               Traceback (most recent call last)",
      "File \u001b[0;32m~/.local/lib/python3.10/site-packages/transformers/activations_tf.py:22\u001b[0m\n\u001b[1;32m     21\u001b[0m \u001b[38;5;28;01mtry\u001b[39;00m:\n\u001b[0;32m---> 22\u001b[0m     \u001b[38;5;28;01mimport\u001b[39;00m \u001b[38;5;21;01mtf_keras\u001b[39;00m \u001b[38;5;28;01mas\u001b[39;00m \u001b[38;5;21;01mkeras\u001b[39;00m\n\u001b[1;32m     23\u001b[0m \u001b[38;5;28;01mexcept\u001b[39;00m (\u001b[38;5;167;01mModuleNotFoundError\u001b[39;00m, \u001b[38;5;167;01mImportError\u001b[39;00m):\n",
      "File \u001b[0;32m~/.local/lib/python3.10/site-packages/tf_keras/__init__.py:3\u001b[0m\n\u001b[1;32m      1\u001b[0m \u001b[38;5;124;03m\"\"\"AUTOGENERATED. DO NOT EDIT.\"\"\"\u001b[39;00m\n\u001b[0;32m----> 3\u001b[0m \u001b[38;5;28;01mfrom\u001b[39;00m \u001b[38;5;21;01mtf_keras\u001b[39;00m \u001b[38;5;28;01mimport\u001b[39;00m __internal__\n\u001b[1;32m      4\u001b[0m \u001b[38;5;28;01mfrom\u001b[39;00m \u001b[38;5;21;01mtf_keras\u001b[39;00m \u001b[38;5;28;01mimport\u001b[39;00m activations\n",
      "File \u001b[0;32m~/.local/lib/python3.10/site-packages/tf_keras/__internal__/__init__.py:3\u001b[0m\n\u001b[1;32m      1\u001b[0m \u001b[38;5;124;03m\"\"\"AUTOGENERATED. DO NOT EDIT.\"\"\"\u001b[39;00m\n\u001b[0;32m----> 3\u001b[0m \u001b[38;5;28;01mfrom\u001b[39;00m \u001b[38;5;21;01mtf_keras\u001b[39;00m\u001b[38;5;21;01m.\u001b[39;00m\u001b[38;5;21;01m__internal__\u001b[39;00m \u001b[38;5;28;01mimport\u001b[39;00m backend\n\u001b[1;32m      4\u001b[0m \u001b[38;5;28;01mfrom\u001b[39;00m \u001b[38;5;21;01mtf_keras\u001b[39;00m\u001b[38;5;21;01m.\u001b[39;00m\u001b[38;5;21;01m__internal__\u001b[39;00m \u001b[38;5;28;01mimport\u001b[39;00m layers\n",
      "File \u001b[0;32m~/.local/lib/python3.10/site-packages/tf_keras/__internal__/backend/__init__.py:3\u001b[0m\n\u001b[1;32m      1\u001b[0m \u001b[38;5;124;03m\"\"\"AUTOGENERATED. DO NOT EDIT.\"\"\"\u001b[39;00m\n\u001b[0;32m----> 3\u001b[0m \u001b[38;5;28;01mfrom\u001b[39;00m \u001b[38;5;21;01mtf_keras\u001b[39;00m\u001b[38;5;21;01m.\u001b[39;00m\u001b[38;5;21;01msrc\u001b[39;00m\u001b[38;5;21;01m.\u001b[39;00m\u001b[38;5;21;01mbackend\u001b[39;00m \u001b[38;5;28;01mimport\u001b[39;00m _initialize_variables \u001b[38;5;28;01mas\u001b[39;00m initialize_variables\n\u001b[1;32m      4\u001b[0m \u001b[38;5;28;01mfrom\u001b[39;00m \u001b[38;5;21;01mtf_keras\u001b[39;00m\u001b[38;5;21;01m.\u001b[39;00m\u001b[38;5;21;01msrc\u001b[39;00m\u001b[38;5;21;01m.\u001b[39;00m\u001b[38;5;21;01mbackend\u001b[39;00m \u001b[38;5;28;01mimport\u001b[39;00m track_variable\n",
      "File \u001b[0;32m~/.local/lib/python3.10/site-packages/tf_keras/src/__init__.py:21\u001b[0m\n\u001b[1;32m     15\u001b[0m \u001b[38;5;124;03m\"\"\"Implementation of the TF-Keras API, the high-level API of TensorFlow.\u001b[39;00m\n\u001b[1;32m     16\u001b[0m \n\u001b[1;32m     17\u001b[0m \u001b[38;5;124;03mDetailed documentation and user guides are available at\u001b[39;00m\n\u001b[1;32m     18\u001b[0m \u001b[38;5;124;03m[keras.io](https://keras.io).\u001b[39;00m\n\u001b[1;32m     19\u001b[0m \u001b[38;5;124;03m\"\"\"\u001b[39;00m\n\u001b[0;32m---> 21\u001b[0m \u001b[38;5;28;01mfrom\u001b[39;00m \u001b[38;5;21;01mtf_keras\u001b[39;00m\u001b[38;5;21;01m.\u001b[39;00m\u001b[38;5;21;01msrc\u001b[39;00m \u001b[38;5;28;01mimport\u001b[39;00m applications\n\u001b[1;32m     22\u001b[0m \u001b[38;5;28;01mfrom\u001b[39;00m \u001b[38;5;21;01mtf_keras\u001b[39;00m\u001b[38;5;21;01m.\u001b[39;00m\u001b[38;5;21;01msrc\u001b[39;00m \u001b[38;5;28;01mimport\u001b[39;00m distribute\n",
      "File \u001b[0;32m~/.local/lib/python3.10/site-packages/tf_keras/src/applications/__init__.py:18\u001b[0m\n\u001b[1;32m     15\u001b[0m \u001b[38;5;124;03m\"\"\"Keras Applications are premade architectures with pre-trained weights.\"\"\"\u001b[39;00m\n\u001b[0;32m---> 18\u001b[0m \u001b[38;5;28;01mfrom\u001b[39;00m \u001b[38;5;21;01mtf_keras\u001b[39;00m\u001b[38;5;21;01m.\u001b[39;00m\u001b[38;5;21;01msrc\u001b[39;00m\u001b[38;5;21;01m.\u001b[39;00m\u001b[38;5;21;01mapplications\u001b[39;00m\u001b[38;5;21;01m.\u001b[39;00m\u001b[38;5;21;01mconvnext\u001b[39;00m \u001b[38;5;28;01mimport\u001b[39;00m ConvNeXtBase\n\u001b[1;32m     19\u001b[0m \u001b[38;5;28;01mfrom\u001b[39;00m \u001b[38;5;21;01mtf_keras\u001b[39;00m\u001b[38;5;21;01m.\u001b[39;00m\u001b[38;5;21;01msrc\u001b[39;00m\u001b[38;5;21;01m.\u001b[39;00m\u001b[38;5;21;01mapplications\u001b[39;00m\u001b[38;5;21;01m.\u001b[39;00m\u001b[38;5;21;01mconvnext\u001b[39;00m \u001b[38;5;28;01mimport\u001b[39;00m ConvNeXtLarge\n",
      "File \u001b[0;32m~/.local/lib/python3.10/site-packages/tf_keras/src/applications/convnext.py:26\u001b[0m\n\u001b[1;32m     25\u001b[0m \u001b[38;5;28;01mimport\u001b[39;00m \u001b[38;5;21;01mnumpy\u001b[39;00m \u001b[38;5;28;01mas\u001b[39;00m \u001b[38;5;21;01mnp\u001b[39;00m\n\u001b[0;32m---> 26\u001b[0m \u001b[38;5;28;01mimport\u001b[39;00m \u001b[38;5;21;01mtensorflow\u001b[39;00m\u001b[38;5;21;01m.\u001b[39;00m\u001b[38;5;21;01mcompat\u001b[39;00m\u001b[38;5;21;01m.\u001b[39;00m\u001b[38;5;21;01mv2\u001b[39;00m \u001b[38;5;28;01mas\u001b[39;00m \u001b[38;5;21;01mtf\u001b[39;00m\n\u001b[1;32m     28\u001b[0m \u001b[38;5;28;01mfrom\u001b[39;00m \u001b[38;5;21;01mtf_keras\u001b[39;00m\u001b[38;5;21;01m.\u001b[39;00m\u001b[38;5;21;01msrc\u001b[39;00m \u001b[38;5;28;01mimport\u001b[39;00m backend\n",
      "File \u001b[0;32m~/.local/lib/python3.10/site-packages/tensorflow/_api/v2/compat/v2/__init__.py:85\u001b[0m\n\u001b[1;32m     84\u001b[0m \u001b[38;5;28;01mfrom\u001b[39;00m \u001b[38;5;21;01mtensorflow\u001b[39;00m\u001b[38;5;21;01m.\u001b[39;00m\u001b[38;5;21;01mpython\u001b[39;00m\u001b[38;5;21;01m.\u001b[39;00m\u001b[38;5;21;01mops\u001b[39;00m\u001b[38;5;21;01m.\u001b[39;00m\u001b[38;5;21;01mgen_data_flow_ops\u001b[39;00m \u001b[38;5;28;01mimport\u001b[39;00m dynamic_stitch \u001b[38;5;66;03m# line: 736\u001b[39;00m\n\u001b[0;32m---> 85\u001b[0m \u001b[38;5;28;01mfrom\u001b[39;00m \u001b[38;5;21;01mtensorflow\u001b[39;00m\u001b[38;5;21;01m.\u001b[39;00m\u001b[38;5;21;01mpython\u001b[39;00m\u001b[38;5;21;01m.\u001b[39;00m\u001b[38;5;21;01mops\u001b[39;00m\u001b[38;5;21;01m.\u001b[39;00m\u001b[38;5;21;01mgen_experimental_dataset_ops\u001b[39;00m \u001b[38;5;28;01mimport\u001b[39;00m check_pinned \u001b[38;5;66;03m# line: 701\u001b[39;00m\n\u001b[1;32m     86\u001b[0m \u001b[38;5;28;01mfrom\u001b[39;00m \u001b[38;5;21;01mtensorflow\u001b[39;00m\u001b[38;5;21;01m.\u001b[39;00m\u001b[38;5;21;01mpython\u001b[39;00m\u001b[38;5;21;01m.\u001b[39;00m\u001b[38;5;21;01mops\u001b[39;00m\u001b[38;5;21;01m.\u001b[39;00m\u001b[38;5;21;01mgen_linalg_ops\u001b[39;00m \u001b[38;5;28;01mimport\u001b[39;00m matrix_square_root \u001b[38;5;66;03m# line: 1913\u001b[39;00m\n",
      "\u001b[0;31mImportError\u001b[0m: cannot import name 'check_pinned' from 'tensorflow.python.ops.gen_experimental_dataset_ops' (/home/mitu/.local/lib/python3.10/site-packages/tensorflow/python/ops/gen_experimental_dataset_ops.py)",
      "\nDuring handling of the above exception, another exception occurred:\n",
      "\u001b[0;31mValueError\u001b[0m                                Traceback (most recent call last)",
      "File \u001b[0;32m~/.local/lib/python3.10/site-packages/transformers/utils/import_utils.py:1472\u001b[0m, in \u001b[0;36m_LazyModule._get_module\u001b[0;34m(self, module_name)\u001b[0m\n\u001b[1;32m   1471\u001b[0m \u001b[38;5;28;01mtry\u001b[39;00m:\n\u001b[0;32m-> 1472\u001b[0m     \u001b[38;5;28;01mreturn\u001b[39;00m \u001b[43mimportlib\u001b[49m\u001b[38;5;241;43m.\u001b[39;49m\u001b[43mimport_module\u001b[49m\u001b[43m(\u001b[49m\u001b[38;5;124;43m\"\u001b[39;49m\u001b[38;5;124;43m.\u001b[39;49m\u001b[38;5;124;43m\"\u001b[39;49m\u001b[43m \u001b[49m\u001b[38;5;241;43m+\u001b[39;49m\u001b[43m \u001b[49m\u001b[43mmodule_name\u001b[49m\u001b[43m,\u001b[49m\u001b[43m \u001b[49m\u001b[38;5;28;43mself\u001b[39;49m\u001b[38;5;241;43m.\u001b[39;49m\u001b[38;5;18;43m__name__\u001b[39;49m\u001b[43m)\u001b[49m\n\u001b[1;32m   1473\u001b[0m \u001b[38;5;28;01mexcept\u001b[39;00m \u001b[38;5;167;01mException\u001b[39;00m \u001b[38;5;28;01mas\u001b[39;00m e:\n",
      "File \u001b[0;32m/usr/lib/python3.10/importlib/__init__.py:126\u001b[0m, in \u001b[0;36mimport_module\u001b[0;34m(name, package)\u001b[0m\n\u001b[1;32m    125\u001b[0m         level \u001b[38;5;241m+\u001b[39m\u001b[38;5;241m=\u001b[39m \u001b[38;5;241m1\u001b[39m\n\u001b[0;32m--> 126\u001b[0m \u001b[38;5;28;01mreturn\u001b[39;00m \u001b[43m_bootstrap\u001b[49m\u001b[38;5;241;43m.\u001b[39;49m\u001b[43m_gcd_import\u001b[49m\u001b[43m(\u001b[49m\u001b[43mname\u001b[49m\u001b[43m[\u001b[49m\u001b[43mlevel\u001b[49m\u001b[43m:\u001b[49m\u001b[43m]\u001b[49m\u001b[43m,\u001b[49m\u001b[43m \u001b[49m\u001b[43mpackage\u001b[49m\u001b[43m,\u001b[49m\u001b[43m \u001b[49m\u001b[43mlevel\u001b[49m\u001b[43m)\u001b[49m\n",
      "File \u001b[0;32m<frozen importlib._bootstrap>:1050\u001b[0m, in \u001b[0;36m_gcd_import\u001b[0;34m(name, package, level)\u001b[0m\n",
      "File \u001b[0;32m<frozen importlib._bootstrap>:1027\u001b[0m, in \u001b[0;36m_find_and_load\u001b[0;34m(name, import_)\u001b[0m\n",
      "File \u001b[0;32m<frozen importlib._bootstrap>:1006\u001b[0m, in \u001b[0;36m_find_and_load_unlocked\u001b[0;34m(name, import_)\u001b[0m\n",
      "File \u001b[0;32m<frozen importlib._bootstrap>:688\u001b[0m, in \u001b[0;36m_load_unlocked\u001b[0;34m(spec)\u001b[0m\n",
      "File \u001b[0;32m<frozen importlib._bootstrap_external>:883\u001b[0m, in \u001b[0;36mexec_module\u001b[0;34m(self, module)\u001b[0m\n",
      "File \u001b[0;32m<frozen importlib._bootstrap>:241\u001b[0m, in \u001b[0;36m_call_with_frames_removed\u001b[0;34m(f, *args, **kwds)\u001b[0m\n",
      "File \u001b[0;32m~/.local/lib/python3.10/site-packages/transformers/models/bart/modeling_tf_bart.py:26\u001b[0m\n\u001b[1;32m     24\u001b[0m \u001b[38;5;28;01mimport\u001b[39;00m \u001b[38;5;21;01mtensorflow\u001b[39;00m \u001b[38;5;28;01mas\u001b[39;00m \u001b[38;5;21;01mtf\u001b[39;00m\n\u001b[0;32m---> 26\u001b[0m \u001b[38;5;28;01mfrom\u001b[39;00m \u001b[38;5;21;01m.\u001b[39;00m\u001b[38;5;21;01m.\u001b[39;00m\u001b[38;5;21;01m.\u001b[39;00m\u001b[38;5;21;01mactivations_tf\u001b[39;00m \u001b[38;5;28;01mimport\u001b[39;00m get_tf_activation\n\u001b[1;32m     27\u001b[0m \u001b[38;5;28;01mfrom\u001b[39;00m \u001b[38;5;21;01m.\u001b[39;00m\u001b[38;5;21;01m.\u001b[39;00m\u001b[38;5;21;01m.\u001b[39;00m\u001b[38;5;21;01mmodeling_tf_outputs\u001b[39;00m \u001b[38;5;28;01mimport\u001b[39;00m (\n\u001b[1;32m     28\u001b[0m     TFBaseModelOutput,\n\u001b[1;32m     29\u001b[0m     TFBaseModelOutputWithPastAndCrossAttentions,\n\u001b[0;32m   (...)\u001b[0m\n\u001b[1;32m     32\u001b[0m     TFSeq2SeqSequenceClassifierOutput,\n\u001b[1;32m     33\u001b[0m )\n",
      "File \u001b[0;32m~/.local/lib/python3.10/site-packages/transformers/activations_tf.py:27\u001b[0m\n\u001b[1;32m     26\u001b[0m     \u001b[38;5;28;01mif\u001b[39;00m parse(keras\u001b[38;5;241m.\u001b[39m__version__)\u001b[38;5;241m.\u001b[39mmajor \u001b[38;5;241m>\u001b[39m \u001b[38;5;241m2\u001b[39m:\n\u001b[0;32m---> 27\u001b[0m         \u001b[38;5;28;01mraise\u001b[39;00m \u001b[38;5;167;01mValueError\u001b[39;00m(\n\u001b[1;32m     28\u001b[0m             \u001b[38;5;124m\"\u001b[39m\u001b[38;5;124mYour currently installed version of Keras is Keras 3, but this is not yet supported in \u001b[39m\u001b[38;5;124m\"\u001b[39m\n\u001b[1;32m     29\u001b[0m             \u001b[38;5;124m\"\u001b[39m\u001b[38;5;124mTransformers. Please install the backwards-compatible tf-keras package with \u001b[39m\u001b[38;5;124m\"\u001b[39m\n\u001b[1;32m     30\u001b[0m             \u001b[38;5;124m\"\u001b[39m\u001b[38;5;124m`pip install tf-keras`.\u001b[39m\u001b[38;5;124m\"\u001b[39m\n\u001b[1;32m     31\u001b[0m         )\n\u001b[1;32m     34\u001b[0m \u001b[38;5;28;01mdef\u001b[39;00m \u001b[38;5;21m_gelu\u001b[39m(x):\n",
      "\u001b[0;31mValueError\u001b[0m: Your currently installed version of Keras is Keras 3, but this is not yet supported in Transformers. Please install the backwards-compatible tf-keras package with `pip install tf-keras`.",
      "\nThe above exception was the direct cause of the following exception:\n",
      "\u001b[0;31mRuntimeError\u001b[0m                              Traceback (most recent call last)",
      "Cell \u001b[0;32mIn[64], line 1\u001b[0m\n\u001b[0;32m----> 1\u001b[0m summarizer \u001b[38;5;241m=\u001b[39m \u001b[43mpipeline\u001b[49m\u001b[43m(\u001b[49m\u001b[38;5;124;43m'\u001b[39;49m\u001b[38;5;124;43msummarization\u001b[39;49m\u001b[38;5;124;43m'\u001b[39;49m\u001b[43m)\u001b[49m\n",
      "File \u001b[0;32m~/.local/lib/python3.10/site-packages/transformers/pipelines/__init__.py:905\u001b[0m, in \u001b[0;36mpipeline\u001b[0;34m(task, model, config, tokenizer, feature_extractor, image_processor, framework, revision, use_fast, token, device, device_map, torch_dtype, trust_remote_code, model_kwargs, pipeline_class, **kwargs)\u001b[0m\n\u001b[1;32m    903\u001b[0m \u001b[38;5;28;01mif\u001b[39;00m \u001b[38;5;28misinstance\u001b[39m(model, \u001b[38;5;28mstr\u001b[39m) \u001b[38;5;129;01mor\u001b[39;00m framework \u001b[38;5;129;01mis\u001b[39;00m \u001b[38;5;28;01mNone\u001b[39;00m:\n\u001b[1;32m    904\u001b[0m     model_classes \u001b[38;5;241m=\u001b[39m {\u001b[38;5;124m\"\u001b[39m\u001b[38;5;124mtf\u001b[39m\u001b[38;5;124m\"\u001b[39m: targeted_task[\u001b[38;5;124m\"\u001b[39m\u001b[38;5;124mtf\u001b[39m\u001b[38;5;124m\"\u001b[39m], \u001b[38;5;124m\"\u001b[39m\u001b[38;5;124mpt\u001b[39m\u001b[38;5;124m\"\u001b[39m: targeted_task[\u001b[38;5;124m\"\u001b[39m\u001b[38;5;124mpt\u001b[39m\u001b[38;5;124m\"\u001b[39m]}\n\u001b[0;32m--> 905\u001b[0m     framework, model \u001b[38;5;241m=\u001b[39m \u001b[43minfer_framework_load_model\u001b[49m\u001b[43m(\u001b[49m\n\u001b[1;32m    906\u001b[0m \u001b[43m        \u001b[49m\u001b[43mmodel\u001b[49m\u001b[43m,\u001b[49m\n\u001b[1;32m    907\u001b[0m \u001b[43m        \u001b[49m\u001b[43mmodel_classes\u001b[49m\u001b[38;5;241;43m=\u001b[39;49m\u001b[43mmodel_classes\u001b[49m\u001b[43m,\u001b[49m\n\u001b[1;32m    908\u001b[0m \u001b[43m        \u001b[49m\u001b[43mconfig\u001b[49m\u001b[38;5;241;43m=\u001b[39;49m\u001b[43mconfig\u001b[49m\u001b[43m,\u001b[49m\n\u001b[1;32m    909\u001b[0m \u001b[43m        \u001b[49m\u001b[43mframework\u001b[49m\u001b[38;5;241;43m=\u001b[39;49m\u001b[43mframework\u001b[49m\u001b[43m,\u001b[49m\n\u001b[1;32m    910\u001b[0m \u001b[43m        \u001b[49m\u001b[43mtask\u001b[49m\u001b[38;5;241;43m=\u001b[39;49m\u001b[43mtask\u001b[49m\u001b[43m,\u001b[49m\n\u001b[1;32m    911\u001b[0m \u001b[43m        \u001b[49m\u001b[38;5;241;43m*\u001b[39;49m\u001b[38;5;241;43m*\u001b[39;49m\u001b[43mhub_kwargs\u001b[49m\u001b[43m,\u001b[49m\n\u001b[1;32m    912\u001b[0m \u001b[43m        \u001b[49m\u001b[38;5;241;43m*\u001b[39;49m\u001b[38;5;241;43m*\u001b[39;49m\u001b[43mmodel_kwargs\u001b[49m\u001b[43m,\u001b[49m\n\u001b[1;32m    913\u001b[0m \u001b[43m    \u001b[49m\u001b[43m)\u001b[49m\n\u001b[1;32m    915\u001b[0m model_config \u001b[38;5;241m=\u001b[39m model\u001b[38;5;241m.\u001b[39mconfig\n\u001b[1;32m    916\u001b[0m hub_kwargs[\u001b[38;5;124m\"\u001b[39m\u001b[38;5;124m_commit_hash\u001b[39m\u001b[38;5;124m\"\u001b[39m] \u001b[38;5;241m=\u001b[39m model\u001b[38;5;241m.\u001b[39mconfig\u001b[38;5;241m.\u001b[39m_commit_hash\n",
      "File \u001b[0;32m~/.local/lib/python3.10/site-packages/transformers/pipelines/base.py:254\u001b[0m, in \u001b[0;36minfer_framework_load_model\u001b[0;34m(model, config, model_classes, task, framework, **model_kwargs)\u001b[0m\n\u001b[1;32m    252\u001b[0m         classes\u001b[38;5;241m.\u001b[39mappend(_class)\n\u001b[1;32m    253\u001b[0m \u001b[38;5;28;01mif\u001b[39;00m look_tf:\n\u001b[0;32m--> 254\u001b[0m     _class \u001b[38;5;241m=\u001b[39m \u001b[38;5;28;43mgetattr\u001b[39;49m\u001b[43m(\u001b[49m\u001b[43mtransformers_module\u001b[49m\u001b[43m,\u001b[49m\u001b[43m \u001b[49m\u001b[38;5;124;43mf\u001b[39;49m\u001b[38;5;124;43m\"\u001b[39;49m\u001b[38;5;124;43mTF\u001b[39;49m\u001b[38;5;132;43;01m{\u001b[39;49;00m\u001b[43marchitecture\u001b[49m\u001b[38;5;132;43;01m}\u001b[39;49;00m\u001b[38;5;124;43m\"\u001b[39;49m\u001b[43m,\u001b[49m\u001b[43m \u001b[49m\u001b[38;5;28;43;01mNone\u001b[39;49;00m\u001b[43m)\u001b[49m\n\u001b[1;32m    255\u001b[0m     \u001b[38;5;28;01mif\u001b[39;00m _class \u001b[38;5;129;01mis\u001b[39;00m \u001b[38;5;129;01mnot\u001b[39;00m \u001b[38;5;28;01mNone\u001b[39;00m:\n\u001b[1;32m    256\u001b[0m         classes\u001b[38;5;241m.\u001b[39mappend(_class)\n",
      "File \u001b[0;32m~/.local/lib/python3.10/site-packages/transformers/utils/import_utils.py:1463\u001b[0m, in \u001b[0;36m_LazyModule.__getattr__\u001b[0;34m(self, name)\u001b[0m\n\u001b[1;32m   1461\u001b[0m \u001b[38;5;28;01melif\u001b[39;00m name \u001b[38;5;129;01min\u001b[39;00m \u001b[38;5;28mself\u001b[39m\u001b[38;5;241m.\u001b[39m_class_to_module\u001b[38;5;241m.\u001b[39mkeys():\n\u001b[1;32m   1462\u001b[0m     module \u001b[38;5;241m=\u001b[39m \u001b[38;5;28mself\u001b[39m\u001b[38;5;241m.\u001b[39m_get_module(\u001b[38;5;28mself\u001b[39m\u001b[38;5;241m.\u001b[39m_class_to_module[name])\n\u001b[0;32m-> 1463\u001b[0m     value \u001b[38;5;241m=\u001b[39m \u001b[38;5;28;43mgetattr\u001b[39;49m\u001b[43m(\u001b[49m\u001b[43mmodule\u001b[49m\u001b[43m,\u001b[49m\u001b[43m \u001b[49m\u001b[43mname\u001b[49m\u001b[43m)\u001b[49m\n\u001b[1;32m   1464\u001b[0m \u001b[38;5;28;01melse\u001b[39;00m:\n\u001b[1;32m   1465\u001b[0m     \u001b[38;5;28;01mraise\u001b[39;00m \u001b[38;5;167;01mAttributeError\u001b[39;00m(\u001b[38;5;124mf\u001b[39m\u001b[38;5;124m\"\u001b[39m\u001b[38;5;124mmodule \u001b[39m\u001b[38;5;132;01m{\u001b[39;00m\u001b[38;5;28mself\u001b[39m\u001b[38;5;241m.\u001b[39m\u001b[38;5;18m__name__\u001b[39m\u001b[38;5;132;01m}\u001b[39;00m\u001b[38;5;124m has no attribute \u001b[39m\u001b[38;5;132;01m{\u001b[39;00mname\u001b[38;5;132;01m}\u001b[39;00m\u001b[38;5;124m\"\u001b[39m)\n",
      "File \u001b[0;32m~/.local/lib/python3.10/site-packages/transformers/utils/import_utils.py:1462\u001b[0m, in \u001b[0;36m_LazyModule.__getattr__\u001b[0;34m(self, name)\u001b[0m\n\u001b[1;32m   1460\u001b[0m     value \u001b[38;5;241m=\u001b[39m \u001b[38;5;28mself\u001b[39m\u001b[38;5;241m.\u001b[39m_get_module(name)\n\u001b[1;32m   1461\u001b[0m \u001b[38;5;28;01melif\u001b[39;00m name \u001b[38;5;129;01min\u001b[39;00m \u001b[38;5;28mself\u001b[39m\u001b[38;5;241m.\u001b[39m_class_to_module\u001b[38;5;241m.\u001b[39mkeys():\n\u001b[0;32m-> 1462\u001b[0m     module \u001b[38;5;241m=\u001b[39m \u001b[38;5;28;43mself\u001b[39;49m\u001b[38;5;241;43m.\u001b[39;49m\u001b[43m_get_module\u001b[49m\u001b[43m(\u001b[49m\u001b[38;5;28;43mself\u001b[39;49m\u001b[38;5;241;43m.\u001b[39;49m\u001b[43m_class_to_module\u001b[49m\u001b[43m[\u001b[49m\u001b[43mname\u001b[49m\u001b[43m]\u001b[49m\u001b[43m)\u001b[49m\n\u001b[1;32m   1463\u001b[0m     value \u001b[38;5;241m=\u001b[39m \u001b[38;5;28mgetattr\u001b[39m(module, name)\n\u001b[1;32m   1464\u001b[0m \u001b[38;5;28;01melse\u001b[39;00m:\n",
      "File \u001b[0;32m~/.local/lib/python3.10/site-packages/transformers/utils/import_utils.py:1474\u001b[0m, in \u001b[0;36m_LazyModule._get_module\u001b[0;34m(self, module_name)\u001b[0m\n\u001b[1;32m   1472\u001b[0m     \u001b[38;5;28;01mreturn\u001b[39;00m importlib\u001b[38;5;241m.\u001b[39mimport_module(\u001b[38;5;124m\"\u001b[39m\u001b[38;5;124m.\u001b[39m\u001b[38;5;124m\"\u001b[39m \u001b[38;5;241m+\u001b[39m module_name, \u001b[38;5;28mself\u001b[39m\u001b[38;5;241m.\u001b[39m\u001b[38;5;18m__name__\u001b[39m)\n\u001b[1;32m   1473\u001b[0m \u001b[38;5;28;01mexcept\u001b[39;00m \u001b[38;5;167;01mException\u001b[39;00m \u001b[38;5;28;01mas\u001b[39;00m e:\n\u001b[0;32m-> 1474\u001b[0m     \u001b[38;5;28;01mraise\u001b[39;00m \u001b[38;5;167;01mRuntimeError\u001b[39;00m(\n\u001b[1;32m   1475\u001b[0m         \u001b[38;5;124mf\u001b[39m\u001b[38;5;124m\"\u001b[39m\u001b[38;5;124mFailed to import \u001b[39m\u001b[38;5;132;01m{\u001b[39;00m\u001b[38;5;28mself\u001b[39m\u001b[38;5;241m.\u001b[39m\u001b[38;5;18m__name__\u001b[39m\u001b[38;5;132;01m}\u001b[39;00m\u001b[38;5;124m.\u001b[39m\u001b[38;5;132;01m{\u001b[39;00mmodule_name\u001b[38;5;132;01m}\u001b[39;00m\u001b[38;5;124m because of the following error (look up to see its\u001b[39m\u001b[38;5;124m\"\u001b[39m\n\u001b[1;32m   1476\u001b[0m         \u001b[38;5;124mf\u001b[39m\u001b[38;5;124m\"\u001b[39m\u001b[38;5;124m traceback):\u001b[39m\u001b[38;5;130;01m\\n\u001b[39;00m\u001b[38;5;132;01m{\u001b[39;00me\u001b[38;5;132;01m}\u001b[39;00m\u001b[38;5;124m\"\u001b[39m\n\u001b[1;32m   1477\u001b[0m     ) \u001b[38;5;28;01mfrom\u001b[39;00m \u001b[38;5;21;01me\u001b[39;00m\n",
      "\u001b[0;31mRuntimeError\u001b[0m: Failed to import transformers.models.bart.modeling_tf_bart because of the following error (look up to see its traceback):\nYour currently installed version of Keras is Keras 3, but this is not yet supported in Transformers. Please install the backwards-compatible tf-keras package with `pip install tf-keras`."
     ]
    }
   ],
   "source": [
    "summarizer = pipeline('summarization')"
   ]
  },
  {
   "cell_type": "code",
   "execution_count": null,
   "id": "f2305c14-dab7-47bc-8ba1-207a2d05a516",
   "metadata": {},
   "outputs": [],
   "source": []
  }
 ],
 "metadata": {
  "kernelspec": {
   "display_name": "Python 3 (ipykernel)",
   "language": "python",
   "name": "python3"
  },
  "language_info": {
   "codemirror_mode": {
    "name": "ipython",
    "version": 3
   },
   "file_extension": ".py",
   "mimetype": "text/x-python",
   "name": "python",
   "nbconvert_exporter": "python",
   "pygments_lexer": "ipython3",
   "version": "3.10.12"
  }
 },
 "nbformat": 4,
 "nbformat_minor": 5
}
