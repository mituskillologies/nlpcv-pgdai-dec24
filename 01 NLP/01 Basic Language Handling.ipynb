{
 "cells": [
  {
   "cell_type": "code",
   "execution_count": 1,
   "id": "d4cbc34f-5b00-48e5-a9be-af1bdff44afa",
   "metadata": {},
   "outputs": [],
   "source": [
    "sent = 'They told that their ages are 25 26 and 31 respectively.'"
   ]
  },
  {
   "cell_type": "code",
   "execution_count": 2,
   "id": "684bfc74-1969-4052-9f21-73c4eb09231b",
   "metadata": {},
   "outputs": [],
   "source": [
    "# Find the average of ages in this sentence"
   ]
  },
  {
   "cell_type": "code",
   "execution_count": 3,
   "id": "f6d67583-b5ed-45b5-a0ed-76acafb13ebc",
   "metadata": {},
   "outputs": [],
   "source": [
    "words = sent.split()"
   ]
  },
  {
   "cell_type": "code",
   "execution_count": 5,
   "id": "acda0e07-7868-46a1-b12e-3935b782d754",
   "metadata": {},
   "outputs": [],
   "source": [
    "ages = []\n",
    "for word in words:\n",
    "    if word.isdigit():\n",
    "        ages.append(int(word))"
   ]
  },
  {
   "cell_type": "code",
   "execution_count": 6,
   "id": "fde25507-470f-46c1-a7f7-d5d87effbd2a",
   "metadata": {},
   "outputs": [
    {
     "data": {
      "text/plain": [
       "[25, 26, 31]"
      ]
     },
     "execution_count": 6,
     "metadata": {},
     "output_type": "execute_result"
    }
   ],
   "source": [
    "ages"
   ]
  },
  {
   "cell_type": "code",
   "execution_count": 7,
   "id": "f885df7b-4fe7-4db0-9c63-cc0bdff8a391",
   "metadata": {},
   "outputs": [
    {
     "data": {
      "text/plain": [
       "27.333333333333332"
      ]
     },
     "execution_count": 7,
     "metadata": {},
     "output_type": "execute_result"
    }
   ],
   "source": [
    "sum(ages) / len(ages)"
   ]
  },
  {
   "cell_type": "code",
   "execution_count": 8,
   "id": "c038535f-bf4c-4df7-b878-bb5fd974926b",
   "metadata": {},
   "outputs": [],
   "source": [
    "names = ['अजय','विजय','प्रिया','अतुल']"
   ]
  },
  {
   "cell_type": "code",
   "execution_count": 9,
   "id": "9e9d9a0c-9f74-4bf3-b44c-70bd063b9712",
   "metadata": {},
   "outputs": [
    {
     "name": "stdout",
     "output_type": "stream",
     "text": [
      "['अजय', 'विजय', 'प्रिया', 'अतुल']\n"
     ]
    }
   ],
   "source": [
    "print(names)"
   ]
  },
  {
   "cell_type": "code",
   "execution_count": 10,
   "id": "5f2ec99c-4253-4bff-862f-a89c54605cc2",
   "metadata": {},
   "outputs": [
    {
     "name": "stdout",
     "output_type": "stream",
     "text": [
      "अजय\n",
      "अतुल\n"
     ]
    }
   ],
   "source": [
    "for x in names:\n",
    "    if x.startswith('अ'):\n",
    "        print(x)"
   ]
  },
  {
   "cell_type": "code",
   "execution_count": 11,
   "id": "2094f8e4-9df4-4094-bb59-5e84cf24e6e9",
   "metadata": {},
   "outputs": [
    {
     "name": "stdout",
     "output_type": "stream",
     "text": [
      "अजय\n",
      "विजय\n"
     ]
    }
   ],
   "source": [
    "for x in names:\n",
    "    if x.endswith('य'):\n",
    "        print(x)"
   ]
  },
  {
   "cell_type": "code",
   "execution_count": 12,
   "id": "213c3b7c-a26e-4d91-9d32-4becfc70be38",
   "metadata": {},
   "outputs": [
    {
     "data": {
      "text/plain": [
       "'अजय विजय प्रिया अतुल'"
      ]
     },
     "execution_count": 12,
     "metadata": {},
     "output_type": "execute_result"
    }
   ],
   "source": [
    "' '.join(names)"
   ]
  },
  {
   "cell_type": "code",
   "execution_count": 13,
   "id": "a1503ecc-517b-4451-9b39-a21b06dfe904",
   "metadata": {},
   "outputs": [
    {
     "data": {
      "text/plain": [
       "'अजय'"
      ]
     },
     "execution_count": 13,
     "metadata": {},
     "output_type": "execute_result"
    }
   ],
   "source": [
    "'विजय'.replace('वि','अ')"
   ]
  },
  {
   "cell_type": "code",
   "execution_count": 14,
   "id": "d6f6ca01-260a-4ae7-b400-e534cf2beb45",
   "metadata": {},
   "outputs": [
    {
     "data": {
      "text/plain": [
       "2"
      ]
     },
     "execution_count": 14,
     "metadata": {},
     "output_type": "execute_result"
    }
   ],
   "source": [
    "' '.join(names).count('ज')"
   ]
  },
  {
   "cell_type": "code",
   "execution_count": 20,
   "id": "b717ef4c-2309-492b-a6f9-b55032731d12",
   "metadata": {},
   "outputs": [
    {
     "data": {
      "text/plain": [
       "4"
      ]
     },
     "execution_count": 20,
     "metadata": {},
     "output_type": "execute_result"
    }
   ],
   "source": [
    "len(names[3])"
   ]
  },
  {
   "cell_type": "code",
   "execution_count": 16,
   "id": "f5456e0c-58a4-46bf-a528-bcc96fb7f697",
   "metadata": {},
   "outputs": [
    {
     "data": {
      "text/plain": [
       "'प्रिया'"
      ]
     },
     "execution_count": 16,
     "metadata": {},
     "output_type": "execute_result"
    }
   ],
   "source": [
    "names[2]"
   ]
  },
  {
   "cell_type": "code",
   "execution_count": 22,
   "id": "aef75ba6-a542-417d-a221-819fd36698c1",
   "metadata": {},
   "outputs": [],
   "source": [
    "f = open('names.txt','w', encoding='utf8')\n",
    "for x in range(100):\n",
    "    f.write('प्रिया\\n')\n",
    "\n",
    "f.close()"
   ]
  },
  {
   "cell_type": "code",
   "execution_count": 23,
   "id": "336bae6b-3543-494a-9650-d663d4ac01dd",
   "metadata": {},
   "outputs": [
    {
     "data": {
      "text/plain": [
       "114"
      ]
     },
     "execution_count": 23,
     "metadata": {},
     "output_type": "execute_result"
    }
   ],
   "source": [
    "ord('r')"
   ]
  },
  {
   "cell_type": "code",
   "execution_count": 25,
   "id": "5f014868-bd0f-4677-b58c-7b1b5ab82c3a",
   "metadata": {},
   "outputs": [
    {
     "data": {
      "text/plain": [
       "54"
      ]
     },
     "execution_count": 25,
     "metadata": {},
     "output_type": "execute_result"
    }
   ],
   "source": [
    "ord('6')"
   ]
  },
  {
   "cell_type": "code",
   "execution_count": 28,
   "id": "704600dd-685e-4d7d-8246-be9b527e7c06",
   "metadata": {},
   "outputs": [
    {
     "data": {
      "text/plain": [
       "'C'"
      ]
     },
     "execution_count": 28,
     "metadata": {},
     "output_type": "execute_result"
    }
   ],
   "source": [
    "chr(67)"
   ]
  },
  {
   "cell_type": "code",
   "execution_count": 29,
   "id": "3b862ff6-f225-4f7a-8239-4c63d5300f15",
   "metadata": {},
   "outputs": [
    {
     "data": {
      "text/plain": [
       "2351"
      ]
     },
     "execution_count": 29,
     "metadata": {},
     "output_type": "execute_result"
    }
   ],
   "source": [
    "ord('य')"
   ]
  },
  {
   "cell_type": "code",
   "execution_count": 31,
   "id": "dcfa5bb3-8ed7-4b2d-8551-048dddfbde09",
   "metadata": {},
   "outputs": [
    {
     "data": {
      "text/plain": [
       "2346"
      ]
     },
     "execution_count": 31,
     "metadata": {},
     "output_type": "execute_result"
    }
   ],
   "source": [
    "ord('प')"
   ]
  },
  {
   "cell_type": "code",
   "execution_count": 36,
   "id": "4b023c71-2079-4abc-bb7c-9231c1f27f9a",
   "metadata": {},
   "outputs": [],
   "source": [
    "x = '\\u0939\\u092A'"
   ]
  },
  {
   "cell_type": "code",
   "execution_count": 37,
   "id": "4a617112-558f-418c-bf2e-4ab9069b625d",
   "metadata": {},
   "outputs": [
    {
     "data": {
      "text/plain": [
       "'हप'"
      ]
     },
     "execution_count": 37,
     "metadata": {},
     "output_type": "execute_result"
    }
   ],
   "source": [
    "x"
   ]
  },
  {
   "cell_type": "code",
   "execution_count": 39,
   "id": "fed900d2-3136-4f7b-bbb2-878024757038",
   "metadata": {},
   "outputs": [],
   "source": [
    "emoji = '💁👌🎍😍'"
   ]
  },
  {
   "cell_type": "code",
   "execution_count": 40,
   "id": "3c81c437-31d1-42d7-9716-9e5eab7ee4eb",
   "metadata": {},
   "outputs": [
    {
     "data": {
      "text/plain": [
       "'💁'"
      ]
     },
     "execution_count": 40,
     "metadata": {},
     "output_type": "execute_result"
    }
   ],
   "source": [
    "emoji[0]"
   ]
  },
  {
   "cell_type": "code",
   "execution_count": 42,
   "id": "9da37d01-c19a-42d5-a6d2-7c48e1a7a161",
   "metadata": {},
   "outputs": [
    {
     "data": {
      "text/plain": [
       "128525"
      ]
     },
     "execution_count": 42,
     "metadata": {},
     "output_type": "execute_result"
    }
   ],
   "source": [
    "ord(emoji[3])"
   ]
  },
  {
   "cell_type": "code",
   "execution_count": null,
   "id": "dc06354e-44f9-44ed-95aa-14cd79664b0a",
   "metadata": {},
   "outputs": [],
   "source": []
  }
 ],
 "metadata": {
  "kernelspec": {
   "display_name": "Python 3 (ipykernel)",
   "language": "python",
   "name": "python3"
  },
  "language_info": {
   "codemirror_mode": {
    "name": "ipython",
    "version": 3
   },
   "file_extension": ".py",
   "mimetype": "text/x-python",
   "name": "python",
   "nbconvert_exporter": "python",
   "pygments_lexer": "ipython3",
   "version": "3.10.12"
  }
 },
 "nbformat": 4,
 "nbformat_minor": 5
}
