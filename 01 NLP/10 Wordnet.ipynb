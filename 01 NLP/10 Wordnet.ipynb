{
 "cells": [
  {
   "cell_type": "markdown",
   "id": "17bb796c-3912-4f8c-8a8e-3393e5506064",
   "metadata": {},
   "source": [
    "##### Install libraries"
   ]
  },
  {
   "cell_type": "code",
   "execution_count": 2,
   "id": "c6ad7c93-4aee-4bdd-91f5-12f07b77c6e9",
   "metadata": {},
   "outputs": [
    {
     "name": "stderr",
     "output_type": "stream",
     "text": [
      "[nltk_data] Downloading package wordnet to /home/mitu/nltk_data...\n",
      "[nltk_data]   Package wordnet is already up-to-date!\n"
     ]
    },
    {
     "data": {
      "text/plain": [
       "True"
      ]
     },
     "execution_count": 2,
     "metadata": {},
     "output_type": "execute_result"
    }
   ],
   "source": [
    "import nltk \n",
    "nltk.download('wordnet')"
   ]
  },
  {
   "cell_type": "markdown",
   "id": "a5e308db-9eea-4cc0-ab0c-bc4aececa469",
   "metadata": {},
   "source": [
    "##### Using synsets"
   ]
  },
  {
   "cell_type": "code",
   "execution_count": 4,
   "id": "672b291f-8272-45b7-9e27-c7cd6c7246df",
   "metadata": {},
   "outputs": [],
   "source": [
    "from nltk.corpus import wordnet"
   ]
  },
  {
   "cell_type": "code",
   "execution_count": 5,
   "id": "0c3915d3-435a-4a92-864a-976587ccca19",
   "metadata": {},
   "outputs": [],
   "source": [
    "x = wordnet.synsets('create')"
   ]
  },
  {
   "cell_type": "code",
   "execution_count": 6,
   "id": "5694355d-826a-48f6-a1ae-aa3227636b90",
   "metadata": {},
   "outputs": [
    {
     "data": {
      "text/plain": [
       "[Synset('make.v.03'),\n",
       " Synset('create.v.02'),\n",
       " Synset('create.v.03'),\n",
       " Synset('create.v.04'),\n",
       " Synset('create.v.05'),\n",
       " Synset('produce.v.02')]"
      ]
     },
     "execution_count": 6,
     "metadata": {},
     "output_type": "execute_result"
    }
   ],
   "source": [
    "x"
   ]
  },
  {
   "cell_type": "code",
   "execution_count": 7,
   "id": "69fd4038-d283-4b03-8268-9297b83af50d",
   "metadata": {},
   "outputs": [],
   "source": [
    "synonyms = set()\n",
    "\n",
    "for word in wordnet.synsets('create'):\n",
    "    synonyms.add(word.lemmas()[0].name())"
   ]
  },
  {
   "cell_type": "code",
   "execution_count": 8,
   "id": "e4e8eb07-bb0f-4c8f-826e-eb795feee768",
   "metadata": {},
   "outputs": [
    {
     "data": {
      "text/plain": [
       "{'create', 'make', 'produce'}"
      ]
     },
     "execution_count": 8,
     "metadata": {},
     "output_type": "execute_result"
    }
   ],
   "source": [
    "synonyms"
   ]
  },
  {
   "cell_type": "code",
   "execution_count": 19,
   "id": "fe484fa4-cf40-4b12-9acf-b6851d648a12",
   "metadata": {},
   "outputs": [
    {
     "data": {
      "text/plain": [
       "'make'"
      ]
     },
     "execution_count": 19,
     "metadata": {},
     "output_type": "execute_result"
    }
   ],
   "source": [
    "wordnet.synsets('create')[0].lemmas()[0].name()"
   ]
  },
  {
   "cell_type": "code",
   "execution_count": 20,
   "id": "99107934-05c8-4601-8565-5d7d1b5111fa",
   "metadata": {},
   "outputs": [
    {
     "data": {
      "text/plain": [
       "[Lemma('make.v.03.make'), Lemma('make.v.03.create')]"
      ]
     },
     "execution_count": 20,
     "metadata": {},
     "output_type": "execute_result"
    }
   ],
   "source": [
    "wordnet.synsets('create')[0].lemmas()"
   ]
  },
  {
   "cell_type": "code",
   "execution_count": 21,
   "id": "a6cd65c3-8b5f-4f6f-8150-e7066b54aa28",
   "metadata": {},
   "outputs": [],
   "source": [
    "synonyms = set()\n",
    "\n",
    "for word in wordnet.synsets('post'):\n",
    "    synonyms.add(word.lemmas()[0].name())"
   ]
  },
  {
   "cell_type": "code",
   "execution_count": 24,
   "id": "e8c49658-c251-4130-bc32-9cc1792f9e17",
   "metadata": {},
   "outputs": [
    {
     "data": {
      "text/plain": [
       "{'Post', 'mail', 'military_post', 'position', 'post', 'stake', 'station'}"
      ]
     },
     "execution_count": 24,
     "metadata": {},
     "output_type": "execute_result"
    }
   ],
   "source": [
    "synonyms"
   ]
  },
  {
   "cell_type": "markdown",
   "id": "9039500d-5902-4d39-950a-671b2e1e7857",
   "metadata": {},
   "source": [
    "##### Extract definition and meaning from wordnet"
   ]
  },
  {
   "cell_type": "code",
   "execution_count": 28,
   "id": "670bd1e0-30bb-4f41-a50a-7fcfa218540b",
   "metadata": {},
   "outputs": [
    {
     "name": "stdout",
     "output_type": "stream",
     "text": [
      "Word and Type : post.n.01\n",
      "Synonym : post\n",
      "The meaning of the word : the position where someone (as a guard or sentry) stands or is assigned to stand\n",
      "Example : ['a soldier manned the entrance post', 'a sentry station']\n"
     ]
    }
   ],
   "source": [
    "synset = wordnet.synsets(\"post\")\n",
    "print('Word and Type : ' + synset[0].name())\n",
    "print('Synonym : ' + synset[0].lemmas()[0].name())\n",
    "print('The meaning of the word : ' + synset[0].definition())\n",
    "print('Example : ' + str(synset[0].examples()))"
   ]
  },
  {
   "cell_type": "code",
   "execution_count": 29,
   "id": "111bbee3-6125-4887-8f12-e08754d82736",
   "metadata": {},
   "outputs": [
    {
     "name": "stdout",
     "output_type": "stream",
     "text": [
      "Word and Type : beautiful.a.01\n",
      "Synonym : beautiful\n",
      "The meaning of the word : delighting the senses or exciting intellectual or emotional admiration\n",
      "Example : ['a beautiful child', 'beautiful country', 'a beautiful painting', 'a beautiful theory', 'a beautiful party']\n"
     ]
    }
   ],
   "source": [
    "synset = wordnet.synsets(\"beautiful\")\n",
    "print('Word and Type : ' + synset[0].name())\n",
    "print('Synonym : ' + synset[0].lemmas()[0].name())\n",
    "print('The meaning of the word : ' + synset[0].definition())\n",
    "print('Example : ' + str(synset[0].examples()))"
   ]
  },
  {
   "cell_type": "code",
   "execution_count": 33,
   "id": "e867f24b-0417-4667-97d3-304f3a86248a",
   "metadata": {},
   "outputs": [
    {
     "name": "stdout",
     "output_type": "stream",
     "text": [
      "Word and Type : post.v.05\n",
      "Synonym : post\n",
      "The meaning of the word : display, as of records in sports games\n",
      "Example : []\n"
     ]
    }
   ],
   "source": [
    "synset = wordnet.synsets(\"post\")\n",
    "print('Word and Type : ' + synset[15].name())\n",
    "print('Synonym : ' + synset[15].lemmas()[0].name())\n",
    "print('The meaning of the word : ' + synset[15].definition())\n",
    "print('Example : ' + str(synset[15].examples()))"
   ]
  },
  {
   "cell_type": "code",
   "execution_count": 35,
   "id": "605e7f05-5087-4939-9e03-a41a187568b8",
   "metadata": {},
   "outputs": [
    {
     "data": {
      "text/plain": [
       "[Synset('post.n.01'),\n",
       " Synset('military_post.n.01'),\n",
       " Synset('position.n.06'),\n",
       " Synset('post.n.04'),\n",
       " Synset('post.n.05'),\n",
       " Synset('post.n.06'),\n",
       " Synset('post.n.07'),\n",
       " Synset('mail.n.04'),\n",
       " Synset('post.n.09'),\n",
       " Synset('mail.n.02'),\n",
       " Synset('post.n.11'),\n",
       " Synset('post.v.01'),\n",
       " Synset('post.v.02'),\n",
       " Synset('post.v.03'),\n",
       " Synset('station.v.01'),\n",
       " Synset('post.v.05'),\n",
       " Synset('post.v.06'),\n",
       " Synset('post.v.07'),\n",
       " Synset('post.v.08'),\n",
       " Synset('stake.v.03'),\n",
       " Synset('post.v.10'),\n",
       " Synset('mail.v.02'),\n",
       " Synset('post.v.12')]"
      ]
     },
     "execution_count": 35,
     "metadata": {},
     "output_type": "execute_result"
    }
   ],
   "source": [
    "synset"
   ]
  },
  {
   "cell_type": "code",
   "execution_count": 36,
   "id": "8f6b3801-a636-4125-9019-545d9482961f",
   "metadata": {},
   "outputs": [
    {
     "name": "stdout",
     "output_type": "stream",
     "text": [
      "sound.n.01\n",
      "sound.n.02\n",
      "sound.n.03\n",
      "sound.n.04\n",
      "audio.n.01\n",
      "phone.n.02\n",
      "strait.n.01\n",
      "sound.n.08\n",
      "sound.v.01\n",
      "sound.v.02\n",
      "sound.v.03\n",
      "sound.v.04\n",
      "voice.v.02\n",
      "sound.v.06\n",
      "fathom.v.02\n",
      "sound.a.01\n",
      "healthy.s.04\n",
      "sound.a.03\n",
      "good.s.17\n",
      "reasoned.s.01\n",
      "legal.s.03\n",
      "sound.s.07\n",
      "heavy.s.26\n",
      "sound.s.09\n"
     ]
    }
   ],
   "source": [
    "for word in wordnet.synsets('sound'):\n",
    "    print(word.name())"
   ]
  },
  {
   "cell_type": "code",
   "execution_count": 37,
   "id": "1705c7aa-27f3-43e2-b7d4-ed95a299448a",
   "metadata": {},
   "outputs": [
    {
     "name": "stdout",
     "output_type": "stream",
     "text": [
      "sound.v.01\n",
      "sound.v.02\n",
      "sound.v.03\n",
      "sound.v.04\n",
      "voice.v.02\n",
      "sound.v.06\n",
      "fathom.v.02\n"
     ]
    }
   ],
   "source": [
    "for word in wordnet.synsets('sound', pos='v'):\n",
    "    print(word.name())"
   ]
  },
  {
   "cell_type": "code",
   "execution_count": 38,
   "id": "9de9e7ed-6279-428c-b62b-0312c8fc9393",
   "metadata": {},
   "outputs": [
    {
     "name": "stdout",
     "output_type": "stream",
     "text": [
      "sound.n.01\n",
      "sound.n.02\n",
      "sound.n.03\n",
      "sound.n.04\n",
      "audio.n.01\n",
      "phone.n.02\n",
      "strait.n.01\n",
      "sound.n.08\n"
     ]
    }
   ],
   "source": [
    "for word in wordnet.synsets('sound', pos='n'):\n",
    "    print(word.name())"
   ]
  },
  {
   "cell_type": "code",
   "execution_count": 39,
   "id": "74207336-558b-4542-a3a1-81e6b90c977a",
   "metadata": {},
   "outputs": [],
   "source": [
    "# Read a word from user and print all meanings of it.\n",
    "# Read a word from user and print all noun meanings of it."
   ]
  },
  {
   "cell_type": "code",
   "execution_count": 40,
   "id": "37246ce1-5565-480e-85c2-e7926441aec9",
   "metadata": {},
   "outputs": [
    {
     "name": "stdin",
     "output_type": "stream",
     "text": [
      "Enter a word:  bat\n"
     ]
    },
    {
     "name": "stdout",
     "output_type": "stream",
     "text": [
      "Meanings of bat are:\n",
      "bat.n.01 --> nocturnal mouselike mammal with forelimbs modified to form membranous wings and anatomical adaptations for echolocation by which they navigate\n",
      "bat.n.02 --> (baseball) a turn trying to get a hit\n",
      "squash_racket.n.01 --> a small racket with a long handle used for playing squash\n",
      "cricket_bat.n.01 --> the club used in playing cricket\n",
      "bat.n.05 --> a club used for hitting a ball in various games\n",
      "bat.v.01 --> strike with, or as if with a baseball bat\n",
      "bat.v.02 --> wink briefly\n",
      "bat.v.03 --> have a turn at bat\n",
      "bat.v.04 --> use a bat\n",
      "cream.v.02 --> beat thoroughly and conclusively in a competition or fight\n"
     ]
    }
   ],
   "source": [
    "word = input('Enter a word: ')\n",
    "print('Meanings of',word,'are:')\n",
    "\n",
    "for word in wordnet.synsets(word):\n",
    "        print(word.name(),\"-->\", word.definition())"
   ]
  },
  {
   "cell_type": "code",
   "execution_count": 41,
   "id": "5ecff14d-99ee-433c-adc6-de449a0cd710",
   "metadata": {},
   "outputs": [
    {
     "name": "stdin",
     "output_type": "stream",
     "text": [
      "Enter a word:  region\n"
     ]
    },
    {
     "name": "stdout",
     "output_type": "stream",
     "text": [
      "Meanings of region are:\n",
      "region.n.01 --> the extended spatial location of something\n",
      "area.n.03 --> a part of an animal that has a special function or is supplied by a given artery or nerve\n",
      "region.n.03 --> a large indefinite location on the surface of the Earth\n",
      "region.n.04 --> the approximate amount of something (usually used prepositionally as in `in the region of')\n",
      "region.n.05 --> a knowledge domain that you are interested in or are communicating about\n"
     ]
    }
   ],
   "source": [
    "word = input('Enter a word: ')\n",
    "print('Meanings of',word,'are:')\n",
    "\n",
    "for word in wordnet.synsets(word, pos='n'):\n",
    "        print(word.name(),\"-->\", word.definition())"
   ]
  },
  {
   "cell_type": "markdown",
   "id": "4af79f5d-f93f-4a45-b7c6-2ef7694a002e",
   "metadata": {},
   "source": [
    "##### Different forms of the meaning for a word"
   ]
  },
  {
   "cell_type": "code",
   "execution_count": 56,
   "id": "2a4ee3e4-e3bc-47b0-be1e-410a51625ddc",
   "metadata": {},
   "outputs": [],
   "source": [
    "verbs = set()\n",
    "nouns = set()\n",
    "adj = set()\n",
    "for word in wordnet.synsets('sound', pos='n'):\n",
    "    nouns.add(word.lemmas()[0].name())\n",
    "for word in wordnet.synsets('sound', pos='v'):\n",
    "    verbs.add(word.lemmas()[0].name())\n",
    "for word in wordnet.synsets('sound', pos='a'):\n",
    "    adj.add(word.lemmas()[0].name())"
   ]
  },
  {
   "cell_type": "code",
   "execution_count": 57,
   "id": "6138b2fb-6a7c-40f0-8916-a3c9c5b1a1fa",
   "metadata": {},
   "outputs": [
    {
     "data": {
      "text/plain": [
       "{'fathom', 'sound', 'voice'}"
      ]
     },
     "execution_count": 57,
     "metadata": {},
     "output_type": "execute_result"
    }
   ],
   "source": [
    "verbs"
   ]
  },
  {
   "cell_type": "code",
   "execution_count": 58,
   "id": "f84f610d-e04a-4658-b2c1-b93bdbf82e3a",
   "metadata": {},
   "outputs": [
    {
     "data": {
      "text/plain": [
       "{'audio', 'phone', 'sound', 'strait'}"
      ]
     },
     "execution_count": 58,
     "metadata": {},
     "output_type": "execute_result"
    }
   ],
   "source": [
    "nouns"
   ]
  },
  {
   "cell_type": "code",
   "execution_count": 59,
   "id": "bb190c81-fade-42aa-a1cd-f7b0cc21a7c9",
   "metadata": {},
   "outputs": [
    {
     "data": {
      "text/plain": [
       "{'good', 'healthy', 'heavy', 'legal', 'reasoned', 'sound'}"
      ]
     },
     "execution_count": 59,
     "metadata": {},
     "output_type": "execute_result"
    }
   ],
   "source": [
    "adj"
   ]
  },
  {
   "cell_type": "markdown",
   "id": "2507d092-7ede-4f93-a380-097260884583",
   "metadata": {},
   "source": [
    "##### Find antonyms"
   ]
  },
  {
   "cell_type": "code",
   "execution_count": 61,
   "id": "51912d5b-213b-42e2-a600-3cc63d72c950",
   "metadata": {},
   "outputs": [
    {
     "name": "stdout",
     "output_type": "stream",
     "text": [
      "Antonyms:  {'actual', 'impossible'}\n"
     ]
    }
   ],
   "source": [
    "ant = set()\n",
    "for synset in wordnet.synsets(\"possible\"):\n",
    "    for lemma in synset.lemmas():\n",
    "        if lemma.antonyms():    #When antonyms are available, add them into the list\n",
    "            ant.add(lemma.antonyms()[0].name())\n",
    "print('Antonyms: ', ant)"
   ]
  },
  {
   "cell_type": "markdown",
   "id": "c300a07c-01c6-47d9-9d12-e2af5ef50b5d",
   "metadata": {},
   "source": [
    "##### Find Hypernyms"
   ]
  },
  {
   "cell_type": "code",
   "execution_count": 67,
   "id": "a8429032-0073-47c0-8af8-92003966eaf8",
   "metadata": {},
   "outputs": [
    {
     "name": "stdout",
     "output_type": "stream",
     "text": [
      "air is a hyponym of gas.n.02\n",
      "air is a hyponym of region.n.01\n",
      "air is a hyponym of quality.n.01\n",
      "air is a hyponym of wind.n.01\n",
      "air is a hyponym of region.n.01\n",
      "air is a hyponym of element.n.05\n",
      "air is a hyponym of music.n.01\n",
      "air is a hyponym of medium.n.03\n",
      "air is a hyponym of travel.n.01\n",
      "air is a hyponym of expose.v.01\n",
      "air is a hyponym of publicize.v.01\n",
      "air is a hyponym of tell.v.02\n",
      "air is a hyponym of dry.v.01\n",
      "air is a hyponym of refresh.v.02\n"
     ]
    }
   ],
   "source": [
    "word = \"air\"\n",
    "synsets = wordnet.synsets(word)\n",
    "\n",
    "for synset in synsets:\n",
    "  # Get hypernyms (parent concepts)\n",
    "  hypernyms = synset.hypernyms()  \n",
    "  # Check if there are any hypernyms\n",
    "  if hypernyms:\n",
    "    # Print hypernyms (can access name property for text)\n",
    "    for hypernym in hypernyms:\n",
    "      print(f\"{word} is a hyponym of {hypernym.name()}\")"
   ]
  },
  {
   "cell_type": "markdown",
   "id": "cf4c65cf-ee44-4f16-8890-164734b30470",
   "metadata": {},
   "source": [
    "##### Find Meronyms"
   ]
  },
  {
   "cell_type": "code",
   "execution_count": 85,
   "id": "c1c08e43-6684-4c91-af33-33658ceb77fa",
   "metadata": {},
   "outputs": [
    {
     "name": "stdout",
     "output_type": "stream",
     "text": [
      "car has a meronym:  sunroof.n.01\n",
      "car has a meronym:  automobile_horn.n.01\n",
      "car has a meronym:  rear_window.n.01\n",
      "car has a meronym:  buffer.n.06\n",
      "car has a meronym:  fender.n.01\n",
      "car has a meronym:  glove_compartment.n.01\n",
      "car has a meronym:  car_window.n.01\n",
      "car has a meronym:  floorboard.n.02\n",
      "car has a meronym:  accelerator.n.01\n",
      "car has a meronym:  grille.n.02\n",
      "car has a meronym:  car_mirror.n.01\n",
      "car has a meronym:  first_gear.n.01\n",
      "car has a meronym:  car_door.n.01\n",
      "car has a meronym:  reverse.n.02\n",
      "car has a meronym:  stabilizer_bar.n.01\n",
      "car has a meronym:  bumper.n.02\n",
      "car has a meronym:  car_seat.n.01\n",
      "car has a meronym:  high_gear.n.01\n",
      "car has a meronym:  window.n.02\n",
      "car has a meronym:  tail_fin.n.02\n",
      "car has a meronym:  third_gear.n.01\n",
      "car has a meronym:  running_board.n.01\n",
      "car has a meronym:  hood.n.09\n",
      "car has a meronym:  luggage_compartment.n.01\n",
      "car has a meronym:  air_bag.n.01\n",
      "car has a meronym:  automobile_engine.n.01\n",
      "car has a meronym:  roof.n.02\n",
      "car has a meronym:  gasoline_engine.n.01\n",
      "car has a meronym:  auto_accessory.n.01\n",
      "car has a meronym:  suspension.n.05\n"
     ]
    }
   ],
   "source": [
    "word = 'car'\n",
    "synsets = wordnet.synsets(word)\n",
    "\n",
    "for synset in synsets:\n",
    "  # Get member meronyms (component parts)\n",
    "  meronyms = synset.part_meronyms()\n",
    "  \n",
    "  # Check if there are any meronyms\n",
    "  if meronyms:\n",
    "    # Print meronyms (can access name property for text)\n",
    "    for meronym in meronyms:\n",
    "      print(word,'has a meronym: ',meronym.name())"
   ]
  },
  {
   "cell_type": "code",
   "execution_count": 86,
   "id": "c8fc3d33-4be2-4e83-8997-ddef06678847",
   "metadata": {},
   "outputs": [
    {
     "name": "stdout",
     "output_type": "stream",
     "text": [
      "computer has a meronym:  peripheral.n.01\n",
      "computer has a meronym:  keyboard.n.01\n",
      "computer has a meronym:  cathode-ray_tube.n.01\n",
      "computer has a meronym:  monitor.n.04\n",
      "computer has a meronym:  data_converter.n.01\n",
      "computer has a meronym:  central_processing_unit.n.01\n",
      "computer has a meronym:  chip.n.07\n",
      "computer has a meronym:  busbar.n.01\n",
      "computer has a meronym:  computer_circuit.n.01\n",
      "computer has a meronym:  memory.n.04\n",
      "computer has a meronym:  computer_accessory.n.01\n",
      "computer has a meronym:  hardware.n.03\n",
      "computer has a meronym:  diskette.n.01\n",
      "computer has a meronym:  disk_cache.n.01\n"
     ]
    }
   ],
   "source": [
    "word = 'computer'\n",
    "synsets = wordnet.synsets(word)\n",
    "\n",
    "for synset in synsets:\n",
    "  # Get member meronyms (component parts)\n",
    "  meronyms = synset.part_meronyms()\n",
    "  \n",
    "  # Check if there are any meronyms\n",
    "  if meronyms:\n",
    "    # Print meronyms (can access name property for text)\n",
    "    for meronym in meronyms:\n",
    "      print(word,'has a meronym: ',meronym.name())"
   ]
  },
  {
   "cell_type": "code",
   "execution_count": null,
   "id": "b34e24fd-b456-4dfd-864d-b977d3da4cd9",
   "metadata": {},
   "outputs": [],
   "source": []
  }
 ],
 "metadata": {
  "kernelspec": {
   "display_name": "Python 3 (ipykernel)",
   "language": "python",
   "name": "python3"
  },
  "language_info": {
   "codemirror_mode": {
    "name": "ipython",
    "version": 3
   },
   "file_extension": ".py",
   "mimetype": "text/x-python",
   "name": "python",
   "nbconvert_exporter": "python",
   "pygments_lexer": "ipython3",
   "version": "3.10.12"
  }
 },
 "nbformat": 4,
 "nbformat_minor": 5
}
