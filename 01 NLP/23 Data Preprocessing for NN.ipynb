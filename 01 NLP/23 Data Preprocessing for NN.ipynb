{
 "cells": [
  {
   "cell_type": "markdown",
   "id": "2e27ad49-0353-4fdd-b63b-61d11eef083b",
   "metadata": {},
   "source": [
    "##### Import the libraries"
   ]
  },
  {
   "cell_type": "code",
   "execution_count": 2,
   "id": "e99c248e-0721-4902-9249-18760c007922",
   "metadata": {},
   "outputs": [],
   "source": [
    "from tensorflow.keras.preprocessing.text import Tokenizer\n",
    "from tensorflow.keras.preprocessing.sequence import pad_sequences"
   ]
  },
  {
   "cell_type": "code",
   "execution_count": 3,
   "id": "e9278a2a-4561-4177-b14f-21bcbcfa3613",
   "metadata": {},
   "outputs": [],
   "source": [
    "lines = ['It was a nice rainy day.','The things are so beatiful in his point.',\n",
    "         'When your focus is clear, you won.','Many many happy returns of the day.']"
   ]
  },
  {
   "cell_type": "code",
   "execution_count": 4,
   "id": "2f5e5110-b1bd-42c0-85f0-72207bc8bb16",
   "metadata": {},
   "outputs": [],
   "source": [
    "tokenizer = Tokenizer()\n",
    "tokenizer.fit_on_texts(lines)"
   ]
  },
  {
   "cell_type": "code",
   "execution_count": 5,
   "id": "cc8ebb83-cd97-49c1-bef4-96bd4428975a",
   "metadata": {},
   "outputs": [
    {
     "data": {
      "text/plain": [
       "defaultdict(int,\n",
       "            {'it': 1,\n",
       "             'a': 1,\n",
       "             'day': 2,\n",
       "             'rainy': 1,\n",
       "             'was': 1,\n",
       "             'nice': 1,\n",
       "             'beatiful': 1,\n",
       "             'point': 1,\n",
       "             'are': 1,\n",
       "             'his': 1,\n",
       "             'so': 1,\n",
       "             'in': 1,\n",
       "             'things': 1,\n",
       "             'the': 2,\n",
       "             'when': 1,\n",
       "             'is': 1,\n",
       "             'your': 1,\n",
       "             'won': 1,\n",
       "             'you': 1,\n",
       "             'clear': 1,\n",
       "             'focus': 1,\n",
       "             'returns': 1,\n",
       "             'of': 1,\n",
       "             'many': 1,\n",
       "             'happy': 1})"
      ]
     },
     "execution_count": 5,
     "metadata": {},
     "output_type": "execute_result"
    }
   ],
   "source": [
    "tokenizer.word_docs"
   ]
  },
  {
   "cell_type": "code",
   "execution_count": 7,
   "id": "c76172f2-2fe9-4d97-ab5d-59cf0960a8b6",
   "metadata": {},
   "outputs": [
    {
     "data": {
      "text/plain": [
       "{1: 'day',\n",
       " 2: 'the',\n",
       " 3: 'many',\n",
       " 4: 'it',\n",
       " 5: 'was',\n",
       " 6: 'a',\n",
       " 7: 'nice',\n",
       " 8: 'rainy',\n",
       " 9: 'things',\n",
       " 10: 'are',\n",
       " 11: 'so',\n",
       " 12: 'beatiful',\n",
       " 13: 'in',\n",
       " 14: 'his',\n",
       " 15: 'point',\n",
       " 16: 'when',\n",
       " 17: 'your',\n",
       " 18: 'focus',\n",
       " 19: 'is',\n",
       " 20: 'clear',\n",
       " 21: 'you',\n",
       " 22: 'won',\n",
       " 23: 'happy',\n",
       " 24: 'returns',\n",
       " 25: 'of'}"
      ]
     },
     "execution_count": 7,
     "metadata": {},
     "output_type": "execute_result"
    }
   ],
   "source": [
    "tokenizer.index_word"
   ]
  },
  {
   "cell_type": "code",
   "execution_count": 10,
   "id": "a56f6b87-4634-4dba-bc52-0336e200787c",
   "metadata": {},
   "outputs": [
    {
     "data": {
      "text/plain": [
       "defaultdict(int,\n",
       "            {4: 1,\n",
       "             6: 1,\n",
       "             1: 2,\n",
       "             8: 1,\n",
       "             5: 1,\n",
       "             7: 1,\n",
       "             12: 1,\n",
       "             15: 1,\n",
       "             10: 1,\n",
       "             14: 1,\n",
       "             11: 1,\n",
       "             13: 1,\n",
       "             9: 1,\n",
       "             2: 2,\n",
       "             16: 1,\n",
       "             19: 1,\n",
       "             17: 1,\n",
       "             22: 1,\n",
       "             21: 1,\n",
       "             20: 1,\n",
       "             18: 1,\n",
       "             24: 1,\n",
       "             25: 1,\n",
       "             3: 1,\n",
       "             23: 1})"
      ]
     },
     "execution_count": 10,
     "metadata": {},
     "output_type": "execute_result"
    }
   ],
   "source": [
    "tokenizer.index_docs"
   ]
  },
  {
   "cell_type": "code",
   "execution_count": 11,
   "id": "3bed0261-122f-426c-b221-119e901f4ed1",
   "metadata": {},
   "outputs": [
    {
     "data": {
      "text/plain": [
       "{'day': 1,\n",
       " 'the': 2,\n",
       " 'many': 3,\n",
       " 'it': 4,\n",
       " 'was': 5,\n",
       " 'a': 6,\n",
       " 'nice': 7,\n",
       " 'rainy': 8,\n",
       " 'things': 9,\n",
       " 'are': 10,\n",
       " 'so': 11,\n",
       " 'beatiful': 12,\n",
       " 'in': 13,\n",
       " 'his': 14,\n",
       " 'point': 15,\n",
       " 'when': 16,\n",
       " 'your': 17,\n",
       " 'focus': 18,\n",
       " 'is': 19,\n",
       " 'clear': 20,\n",
       " 'you': 21,\n",
       " 'won': 22,\n",
       " 'happy': 23,\n",
       " 'returns': 24,\n",
       " 'of': 25}"
      ]
     },
     "execution_count": 11,
     "metadata": {},
     "output_type": "execute_result"
    }
   ],
   "source": [
    "tokenizer.word_index"
   ]
  },
  {
   "cell_type": "code",
   "execution_count": 12,
   "id": "b3468517-b59a-4756-bdb8-a308d1585255",
   "metadata": {},
   "outputs": [
    {
     "data": {
      "text/plain": [
       "array([[0., 1., 0., 0., 1., 1., 1., 1., 1., 0., 0., 0., 0., 0., 0., 0.,\n",
       "        0., 0., 0., 0., 0., 0., 0., 0., 0., 0.],\n",
       "       [0., 0., 1., 0., 0., 0., 0., 0., 0., 1., 1., 1., 1., 1., 1., 1.,\n",
       "        0., 0., 0., 0., 0., 0., 0., 0., 0., 0.],\n",
       "       [0., 0., 0., 0., 0., 0., 0., 0., 0., 0., 0., 0., 0., 0., 0., 0.,\n",
       "        1., 1., 1., 1., 1., 1., 1., 0., 0., 0.],\n",
       "       [0., 1., 1., 1., 0., 0., 0., 0., 0., 0., 0., 0., 0., 0., 0., 0.,\n",
       "        0., 0., 0., 0., 0., 0., 0., 1., 1., 1.]])"
      ]
     },
     "execution_count": 12,
     "metadata": {},
     "output_type": "execute_result"
    }
   ],
   "source": [
    "mat = tokenizer.texts_to_matrix(lines)\n",
    "mat"
   ]
  },
  {
   "cell_type": "code",
   "execution_count": 13,
   "id": "32e6a885-cd75-482c-8314-12e86606f3d5",
   "metadata": {},
   "outputs": [
    {
     "data": {
      "text/plain": [
       "(4, 26)"
      ]
     },
     "execution_count": 13,
     "metadata": {},
     "output_type": "execute_result"
    }
   ],
   "source": [
    "mat.shape"
   ]
  },
  {
   "cell_type": "code",
   "execution_count": 15,
   "id": "23d572f7-822f-4885-97cd-f9db7c840065",
   "metadata": {},
   "outputs": [],
   "source": [
    "seq = tokenizer.texts_to_sequences(lines)"
   ]
  },
  {
   "cell_type": "code",
   "execution_count": 16,
   "id": "90fe442a-269b-492a-8ce7-85c63d55dcb8",
   "metadata": {},
   "outputs": [
    {
     "data": {
      "text/plain": [
       "[[4, 5, 6, 7, 8, 1],\n",
       " [2, 9, 10, 11, 12, 13, 14, 15],\n",
       " [16, 17, 18, 19, 20, 21, 22],\n",
       " [3, 3, 23, 24, 25, 2, 1]]"
      ]
     },
     "execution_count": 16,
     "metadata": {},
     "output_type": "execute_result"
    }
   ],
   "source": [
    "seq"
   ]
  },
  {
   "cell_type": "code",
   "execution_count": 17,
   "id": "80011603-65e9-4baf-ba9f-b4290d7d9cbe",
   "metadata": {},
   "outputs": [],
   "source": [
    "padded = pad_sequences(seq, maxlen=10, padding= 'post' )"
   ]
  },
  {
   "cell_type": "code",
   "execution_count": 18,
   "id": "d2b5805c-63e8-431a-80c4-6085b4d5c89b",
   "metadata": {},
   "outputs": [
    {
     "data": {
      "text/plain": [
       "array([[ 4,  5,  6,  7,  8,  1,  0,  0,  0,  0],\n",
       "       [ 2,  9, 10, 11, 12, 13, 14, 15,  0,  0],\n",
       "       [16, 17, 18, 19, 20, 21, 22,  0,  0,  0],\n",
       "       [ 3,  3, 23, 24, 25,  2,  1,  0,  0,  0]], dtype=int32)"
      ]
     },
     "execution_count": 18,
     "metadata": {},
     "output_type": "execute_result"
    }
   ],
   "source": [
    "padded"
   ]
  },
  {
   "cell_type": "code",
   "execution_count": 19,
   "id": "4cd90e91-6efc-472b-9d9a-ff7d7e22d13f",
   "metadata": {},
   "outputs": [
    {
     "data": {
      "text/plain": [
       "array([[ 0,  0,  0,  0,  4,  5,  6,  7,  8,  1],\n",
       "       [ 0,  0,  2,  9, 10, 11, 12, 13, 14, 15],\n",
       "       [ 0,  0,  0, 16, 17, 18, 19, 20, 21, 22],\n",
       "       [ 0,  0,  0,  3,  3, 23, 24, 25,  2,  1]], dtype=int32)"
      ]
     },
     "execution_count": 19,
     "metadata": {},
     "output_type": "execute_result"
    }
   ],
   "source": [
    "padded = pad_sequences(seq, maxlen=10, padding= 'pre' )\n",
    "padded"
   ]
  },
  {
   "cell_type": "code",
   "execution_count": null,
   "id": "7d3d93c4-4048-4d15-be16-090af5ac9a0c",
   "metadata": {},
   "outputs": [],
   "source": []
  }
 ],
 "metadata": {
  "kernelspec": {
   "display_name": "Python 3 (ipykernel)",
   "language": "python",
   "name": "python3"
  },
  "language_info": {
   "codemirror_mode": {
    "name": "ipython",
    "version": 3
   },
   "file_extension": ".py",
   "mimetype": "text/x-python",
   "name": "python",
   "nbconvert_exporter": "python",
   "pygments_lexer": "ipython3",
   "version": "3.10.12"
  }
 },
 "nbformat": 4,
 "nbformat_minor": 5
}
