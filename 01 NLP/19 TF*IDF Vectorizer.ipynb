{
 "cells": [
  {
   "cell_type": "code",
   "execution_count": 1,
   "id": "a0da6258-5606-417d-bee2-a16aa9e548c7",
   "metadata": {},
   "outputs": [],
   "source": [
    "sentence_1 = 'It is a good practice for us.'\n",
    "sentence_2 = 'It was also good to know about it.'"
   ]
  },
  {
   "cell_type": "code",
   "execution_count": 2,
   "id": "dfccc6b0-67f5-4ad7-9d34-4e4a8b127908",
   "metadata": {},
   "outputs": [],
   "source": [
    "from nltk.tokenize import word_tokenize\n",
    "import pandas as pd"
   ]
  },
  {
   "cell_type": "code",
   "execution_count": 3,
   "id": "5dac1ccb-31f7-4cc6-b906-74c71b45bd17",
   "metadata": {},
   "outputs": [],
   "source": [
    "from sklearn.feature_extraction.text import TfidfVectorizer"
   ]
  },
  {
   "cell_type": "code",
   "execution_count": 4,
   "id": "0495bbd7-6c87-4f22-89f6-459aeadc9c41",
   "metadata": {},
   "outputs": [],
   "source": [
    "tfidf = TfidfVectorizer()"
   ]
  },
  {
   "cell_type": "code",
   "execution_count": 5,
   "id": "fc27c25f-7d1f-41bb-bf31-a077df0208df",
   "metadata": {},
   "outputs": [],
   "source": [
    "x_new = tfidf.fit_transform([sentence_1, sentence_2])"
   ]
  },
  {
   "cell_type": "code",
   "execution_count": 6,
   "id": "38038703-a1fe-48a1-a996-92a54f5d533e",
   "metadata": {},
   "outputs": [
    {
     "data": {
      "text/plain": [
       "array([[0.        , 0.        , 0.44665616, 0.31779954, 0.44665616,\n",
       "        0.31779954, 0.        , 0.44665616, 0.        , 0.44665616,\n",
       "        0.        ],\n",
       "       [0.36439074, 0.36439074, 0.        , 0.25926702, 0.        ,\n",
       "        0.51853403, 0.36439074, 0.        , 0.36439074, 0.        ,\n",
       "        0.36439074]])"
      ]
     },
     "execution_count": 6,
     "metadata": {},
     "output_type": "execute_result"
    }
   ],
   "source": [
    "x_new.toarray()"
   ]
  },
  {
   "cell_type": "code",
   "execution_count": 7,
   "id": "8542968b-aea0-42f5-8deb-805fe73ef8e5",
   "metadata": {},
   "outputs": [],
   "source": [
    "df = pd.DataFrame(data=x_new.toarray(), columns=tfidf.get_feature_names_out())"
   ]
  },
  {
   "cell_type": "code",
   "execution_count": 8,
   "id": "7f3f2b2a-d3a2-46c1-9dba-d28e4127606d",
   "metadata": {},
   "outputs": [
    {
     "data": {
      "text/html": [
       "<div>\n",
       "<style scoped>\n",
       "    .dataframe tbody tr th:only-of-type {\n",
       "        vertical-align: middle;\n",
       "    }\n",
       "\n",
       "    .dataframe tbody tr th {\n",
       "        vertical-align: top;\n",
       "    }\n",
       "\n",
       "    .dataframe thead th {\n",
       "        text-align: right;\n",
       "    }\n",
       "</style>\n",
       "<table border=\"1\" class=\"dataframe\">\n",
       "  <thead>\n",
       "    <tr style=\"text-align: right;\">\n",
       "      <th></th>\n",
       "      <th>about</th>\n",
       "      <th>also</th>\n",
       "      <th>for</th>\n",
       "      <th>good</th>\n",
       "      <th>is</th>\n",
       "      <th>it</th>\n",
       "      <th>know</th>\n",
       "      <th>practice</th>\n",
       "      <th>to</th>\n",
       "      <th>us</th>\n",
       "      <th>was</th>\n",
       "    </tr>\n",
       "  </thead>\n",
       "  <tbody>\n",
       "    <tr>\n",
       "      <th>0</th>\n",
       "      <td>0.000000</td>\n",
       "      <td>0.000000</td>\n",
       "      <td>0.446656</td>\n",
       "      <td>0.317800</td>\n",
       "      <td>0.446656</td>\n",
       "      <td>0.317800</td>\n",
       "      <td>0.000000</td>\n",
       "      <td>0.446656</td>\n",
       "      <td>0.000000</td>\n",
       "      <td>0.446656</td>\n",
       "      <td>0.000000</td>\n",
       "    </tr>\n",
       "    <tr>\n",
       "      <th>1</th>\n",
       "      <td>0.364391</td>\n",
       "      <td>0.364391</td>\n",
       "      <td>0.000000</td>\n",
       "      <td>0.259267</td>\n",
       "      <td>0.000000</td>\n",
       "      <td>0.518534</td>\n",
       "      <td>0.364391</td>\n",
       "      <td>0.000000</td>\n",
       "      <td>0.364391</td>\n",
       "      <td>0.000000</td>\n",
       "      <td>0.364391</td>\n",
       "    </tr>\n",
       "  </tbody>\n",
       "</table>\n",
       "</div>"
      ],
      "text/plain": [
       "      about      also       for      good        is        it      know  \\\n",
       "0  0.000000  0.000000  0.446656  0.317800  0.446656  0.317800  0.000000   \n",
       "1  0.364391  0.364391  0.000000  0.259267  0.000000  0.518534  0.364391   \n",
       "\n",
       "   practice        to        us       was  \n",
       "0  0.446656  0.000000  0.446656  0.000000  \n",
       "1  0.000000  0.364391  0.000000  0.364391  "
      ]
     },
     "execution_count": 8,
     "metadata": {},
     "output_type": "execute_result"
    }
   ],
   "source": [
    "df"
   ]
  },
  {
   "cell_type": "markdown",
   "id": "153202fc-cb91-4774-afb8-71d85c3347a6",
   "metadata": {},
   "source": [
    "##### Read the data from files"
   ]
  },
  {
   "cell_type": "code",
   "execution_count": 12,
   "id": "f57a8c6e-cec5-49f8-8cec-c8919e73f2bd",
   "metadata": {},
   "outputs": [],
   "source": [
    "file = open('sample_sentences.txt')\n",
    "new_data = tfidf.fit_transform(file.readlines())"
   ]
  },
  {
   "cell_type": "code",
   "execution_count": 13,
   "id": "32189229-418a-44a5-a3d7-195098c49c12",
   "metadata": {},
   "outputs": [],
   "source": [
    "df = pd.DataFrame(data=new_data.toarray(), columns=tfidf.get_feature_names_out())"
   ]
  },
  {
   "cell_type": "code",
   "execution_count": 14,
   "id": "8c7261a6-c908-4fb7-aef8-46e875477904",
   "metadata": {},
   "outputs": [
    {
     "data": {
      "text/html": [
       "<div>\n",
       "<style scoped>\n",
       "    .dataframe tbody tr th:only-of-type {\n",
       "        vertical-align: middle;\n",
       "    }\n",
       "\n",
       "    .dataframe tbody tr th {\n",
       "        vertical-align: top;\n",
       "    }\n",
       "\n",
       "    .dataframe thead th {\n",
       "        text-align: right;\n",
       "    }\n",
       "</style>\n",
       "<table border=\"1\" class=\"dataframe\">\n",
       "  <thead>\n",
       "    <tr style=\"text-align: right;\">\n",
       "      <th></th>\n",
       "      <th>30</th>\n",
       "      <th>at</th>\n",
       "      <th>before</th>\n",
       "      <th>can</th>\n",
       "      <th>deadline</th>\n",
       "      <th>do</th>\n",
       "      <th>does</th>\n",
       "      <th>door</th>\n",
       "      <th>finish</th>\n",
       "      <th>forget</th>\n",
       "      <th>...</th>\n",
       "      <th>the</th>\n",
       "      <th>this</th>\n",
       "      <th>time</th>\n",
       "      <th>to</th>\n",
       "      <th>tonight</th>\n",
       "      <th>what</th>\n",
       "      <th>when</th>\n",
       "      <th>will</th>\n",
       "      <th>work</th>\n",
       "      <th>you</th>\n",
       "    </tr>\n",
       "  </thead>\n",
       "  <tbody>\n",
       "    <tr>\n",
       "      <th>0</th>\n",
       "      <td>0.000000</td>\n",
       "      <td>0.000000</td>\n",
       "      <td>0.000000</td>\n",
       "      <td>0.433291</td>\n",
       "      <td>0.000000</td>\n",
       "      <td>0.000000</td>\n",
       "      <td>0.000000</td>\n",
       "      <td>0.000000</td>\n",
       "      <td>0.000000</td>\n",
       "      <td>0.000000</td>\n",
       "      <td>...</td>\n",
       "      <td>0.206465</td>\n",
       "      <td>0.000000</td>\n",
       "      <td>0.000000</td>\n",
       "      <td>0.000000</td>\n",
       "      <td>0.000000</td>\n",
       "      <td>0.000000</td>\n",
       "      <td>0.000000</td>\n",
       "      <td>0.000000</td>\n",
       "      <td>0.000000</td>\n",
       "      <td>0.290180</td>\n",
       "    </tr>\n",
       "    <tr>\n",
       "      <th>1</th>\n",
       "      <td>0.360948</td>\n",
       "      <td>0.360948</td>\n",
       "      <td>0.000000</td>\n",
       "      <td>0.000000</td>\n",
       "      <td>0.000000</td>\n",
       "      <td>0.000000</td>\n",
       "      <td>0.000000</td>\n",
       "      <td>0.000000</td>\n",
       "      <td>0.000000</td>\n",
       "      <td>0.000000</td>\n",
       "      <td>...</td>\n",
       "      <td>0.171994</td>\n",
       "      <td>0.000000</td>\n",
       "      <td>0.000000</td>\n",
       "      <td>0.000000</td>\n",
       "      <td>0.000000</td>\n",
       "      <td>0.000000</td>\n",
       "      <td>0.000000</td>\n",
       "      <td>0.360948</td>\n",
       "      <td>0.000000</td>\n",
       "      <td>0.241731</td>\n",
       "    </tr>\n",
       "    <tr>\n",
       "      <th>2</th>\n",
       "      <td>0.000000</td>\n",
       "      <td>0.000000</td>\n",
       "      <td>0.381303</td>\n",
       "      <td>0.000000</td>\n",
       "      <td>0.381303</td>\n",
       "      <td>0.000000</td>\n",
       "      <td>0.000000</td>\n",
       "      <td>0.000000</td>\n",
       "      <td>0.381303</td>\n",
       "      <td>0.000000</td>\n",
       "      <td>...</td>\n",
       "      <td>0.181693</td>\n",
       "      <td>0.381303</td>\n",
       "      <td>0.000000</td>\n",
       "      <td>0.307633</td>\n",
       "      <td>0.000000</td>\n",
       "      <td>0.000000</td>\n",
       "      <td>0.000000</td>\n",
       "      <td>0.000000</td>\n",
       "      <td>0.381303</td>\n",
       "      <td>0.000000</td>\n",
       "    </tr>\n",
       "    <tr>\n",
       "      <th>3</th>\n",
       "      <td>0.000000</td>\n",
       "      <td>0.000000</td>\n",
       "      <td>0.000000</td>\n",
       "      <td>0.000000</td>\n",
       "      <td>0.000000</td>\n",
       "      <td>0.000000</td>\n",
       "      <td>0.400736</td>\n",
       "      <td>0.000000</td>\n",
       "      <td>0.000000</td>\n",
       "      <td>0.000000</td>\n",
       "      <td>...</td>\n",
       "      <td>0.190953</td>\n",
       "      <td>0.000000</td>\n",
       "      <td>0.400736</td>\n",
       "      <td>0.000000</td>\n",
       "      <td>0.400736</td>\n",
       "      <td>0.400736</td>\n",
       "      <td>0.000000</td>\n",
       "      <td>0.000000</td>\n",
       "      <td>0.000000</td>\n",
       "      <td>0.000000</td>\n",
       "    </tr>\n",
       "    <tr>\n",
       "      <th>4</th>\n",
       "      <td>0.000000</td>\n",
       "      <td>0.000000</td>\n",
       "      <td>0.000000</td>\n",
       "      <td>0.000000</td>\n",
       "      <td>0.000000</td>\n",
       "      <td>0.333753</td>\n",
       "      <td>0.000000</td>\n",
       "      <td>0.333753</td>\n",
       "      <td>0.000000</td>\n",
       "      <td>0.333753</td>\n",
       "      <td>...</td>\n",
       "      <td>0.159035</td>\n",
       "      <td>0.000000</td>\n",
       "      <td>0.000000</td>\n",
       "      <td>0.269269</td>\n",
       "      <td>0.000000</td>\n",
       "      <td>0.000000</td>\n",
       "      <td>0.333753</td>\n",
       "      <td>0.000000</td>\n",
       "      <td>0.000000</td>\n",
       "      <td>0.223518</td>\n",
       "    </tr>\n",
       "  </tbody>\n",
       "</table>\n",
       "<p>5 rows × 34 columns</p>\n",
       "</div>"
      ],
      "text/plain": [
       "         30        at    before       can  deadline        do      does  \\\n",
       "0  0.000000  0.000000  0.000000  0.433291  0.000000  0.000000  0.000000   \n",
       "1  0.360948  0.360948  0.000000  0.000000  0.000000  0.000000  0.000000   \n",
       "2  0.000000  0.000000  0.381303  0.000000  0.381303  0.000000  0.000000   \n",
       "3  0.000000  0.000000  0.000000  0.000000  0.000000  0.000000  0.400736   \n",
       "4  0.000000  0.000000  0.000000  0.000000  0.000000  0.333753  0.000000   \n",
       "\n",
       "       door    finish    forget  ...       the      this      time        to  \\\n",
       "0  0.000000  0.000000  0.000000  ...  0.206465  0.000000  0.000000  0.000000   \n",
       "1  0.000000  0.000000  0.000000  ...  0.171994  0.000000  0.000000  0.000000   \n",
       "2  0.000000  0.381303  0.000000  ...  0.181693  0.381303  0.000000  0.307633   \n",
       "3  0.000000  0.000000  0.000000  ...  0.190953  0.000000  0.400736  0.000000   \n",
       "4  0.333753  0.000000  0.333753  ...  0.159035  0.000000  0.000000  0.269269   \n",
       "\n",
       "    tonight      what      when      will      work       you  \n",
       "0  0.000000  0.000000  0.000000  0.000000  0.000000  0.290180  \n",
       "1  0.000000  0.000000  0.000000  0.360948  0.000000  0.241731  \n",
       "2  0.000000  0.000000  0.000000  0.000000  0.381303  0.000000  \n",
       "3  0.400736  0.400736  0.000000  0.000000  0.000000  0.000000  \n",
       "4  0.000000  0.000000  0.333753  0.000000  0.000000  0.223518  \n",
       "\n",
       "[5 rows x 34 columns]"
      ]
     },
     "execution_count": 14,
     "metadata": {},
     "output_type": "execute_result"
    }
   ],
   "source": [
    "df"
   ]
  },
  {
   "cell_type": "code",
   "execution_count": null,
   "id": "ae51f73a-c27d-4c2b-a5d0-bab4457a0aca",
   "metadata": {},
   "outputs": [],
   "source": []
  }
 ],
 "metadata": {
  "kernelspec": {
   "display_name": "Python 3 (ipykernel)",
   "language": "python",
   "name": "python3"
  },
  "language_info": {
   "codemirror_mode": {
    "name": "ipython",
    "version": 3
   },
   "file_extension": ".py",
   "mimetype": "text/x-python",
   "name": "python",
   "nbconvert_exporter": "python",
   "pygments_lexer": "ipython3",
   "version": "3.10.12"
  }
 },
 "nbformat": 4,
 "nbformat_minor": 5
}
