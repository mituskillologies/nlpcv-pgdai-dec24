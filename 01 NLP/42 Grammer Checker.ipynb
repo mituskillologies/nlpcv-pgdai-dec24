{
 "cells": [
  {
   "cell_type": "markdown",
   "id": "ceb2acd8-b532-4c83-a5d2-9944e13cdeea",
   "metadata": {},
   "source": [
    "##### Install language tool Python"
   ]
  },
  {
   "cell_type": "code",
   "execution_count": 2,
   "id": "798babc0-1922-43c5-b477-ef11c4a92308",
   "metadata": {},
   "outputs": [
    {
     "name": "stdout",
     "output_type": "stream",
     "text": [
      "Defaulting to user installation because normal site-packages is not writeable\n",
      "Requirement already satisfied: language_tool_python in /home/mitu/.local/lib/python3.10/site-packages (2.7.1)\n",
      "Requirement already satisfied: requests in /home/mitu/.local/lib/python3.10/site-packages (from language_tool_python) (2.32.3)\n",
      "Requirement already satisfied: tqdm in /home/mitu/.local/lib/python3.10/site-packages (from language_tool_python) (4.67.1)\n",
      "Requirement already satisfied: charset-normalizer<4,>=2 in /usr/local/lib/python3.10/dist-packages (from requests->language_tool_python) (3.3.2)\n",
      "Requirement already satisfied: idna<4,>=2.5 in /home/mitu/.local/lib/python3.10/site-packages (from requests->language_tool_python) (2.10)\n",
      "Requirement already satisfied: urllib3<3,>=1.21.1 in /usr/lib/python3/dist-packages (from requests->language_tool_python) (1.26.5)\n",
      "Requirement already satisfied: certifi>=2017.4.17 in /usr/lib/python3/dist-packages (from requests->language_tool_python) (2020.6.20)\n",
      "Note: you may need to restart the kernel to use updated packages.\n"
     ]
    }
   ],
   "source": [
    "pip install language_tool_python"
   ]
  },
  {
   "cell_type": "code",
   "execution_count": 4,
   "id": "94747988-f15b-4a17-93b1-08556d88afb8",
   "metadata": {},
   "outputs": [],
   "source": [
    "import language_tool_python"
   ]
  },
  {
   "cell_type": "code",
   "execution_count": 9,
   "id": "be521f2b-121a-45ea-b521-760addc63c28",
   "metadata": {},
   "outputs": [],
   "source": [
    "# download the support for the language\n",
    "my_tool = language_tool_python.LanguageTool('en-US')"
   ]
  },
  {
   "cell_type": "code",
   "execution_count": 10,
   "id": "a7501ca4-c5de-4644-9a45-c2205cd334c2",
   "metadata": {},
   "outputs": [],
   "source": [
    "# define the text\n",
    "my_text = 'He have collected a documents. I is there.'"
   ]
  },
  {
   "cell_type": "code",
   "execution_count": 11,
   "id": "b4ede15f-dfac-4e7f-890d-fed0ae1fa682",
   "metadata": {},
   "outputs": [],
   "source": [
    "# get the matches\n",
    "matches = my_tool.check(my_text)"
   ]
  },
  {
   "cell_type": "code",
   "execution_count": 13,
   "id": "48d79aa5-e23d-4774-9491-ed8af950ef2b",
   "metadata": {},
   "outputs": [
    {
     "data": {
      "text/plain": [
       "3"
      ]
     },
     "execution_count": 13,
     "metadata": {},
     "output_type": "execute_result"
    }
   ],
   "source": [
    "len(matches)"
   ]
  },
  {
   "cell_type": "code",
   "execution_count": 15,
   "id": "cd780aa7-f30b-4253-a1d9-d347b74eafe1",
   "metadata": {},
   "outputs": [
    {
     "name": "stdout",
     "output_type": "stream",
     "text": [
      "Offset 3, length 4, Rule ID: HE_VERB_AGR\n",
      "Message: The pronoun ‘He’ is usually used with a third-person or a past tense verb.\n",
      "Suggestion: has; had\n",
      "He have collected a documents. I is there.\n",
      "   ^^^^\n",
      "Offset 18, length 11, Rule ID: A_NNS\n",
      "Message: The plural noun “documents” cannot be used with the article “a”. Did you mean “a document” or “documents”?\n",
      "Suggestion: a document; documents\n",
      "He have collected a documents. I is there.\n",
      "                  ^^^^^^^^^^^\n",
      "Offset 33, length 2, Rule ID: PERS_PRONOUN_AGREEMENT\n",
      "Message: Did you mean “am” or “will be”?\n",
      "Suggestion: am; will be\n",
      "He have collected a documents. I is there.\n",
      "                                 ^^\n"
     ]
    }
   ],
   "source": [
    "for m in matches:\n",
    "    print(m)"
   ]
  },
  {
   "cell_type": "code",
   "execution_count": 16,
   "id": "11cec51c-ebbd-4bdc-9d6b-6667af562b69",
   "metadata": {},
   "outputs": [
    {
     "data": {
      "text/plain": [
       "'He has collected a document. I am there.'"
      ]
     },
     "execution_count": 16,
     "metadata": {},
     "output_type": "execute_result"
    }
   ],
   "source": [
    "my_tool.correct(my_text)"
   ]
  },
  {
   "cell_type": "code",
   "execution_count": 17,
   "id": "34f074ef-a2d2-4272-a3b6-0bffed9ea14c",
   "metadata": {},
   "outputs": [
    {
     "name": "stdout",
     "output_type": "stream",
     "text": [
      "Help on method correct in module language_tool_python.server:\n",
      "\n",
      "correct(text: str) -> str method of language_tool_python.server.LanguageTool instance\n",
      "    Automatically apply suggestions to the text.\n",
      "\n"
     ]
    }
   ],
   "source": [
    "help(my_tool.correct)"
   ]
  },
  {
   "cell_type": "code",
   "execution_count": 18,
   "id": "3f05f994-8e6a-450e-ad9f-9a40829da6d7",
   "metadata": {},
   "outputs": [],
   "source": [
    "# define the text\n",
    "my_text = 'He have colletced a documents. I is there.'"
   ]
  },
  {
   "cell_type": "code",
   "execution_count": 19,
   "id": "1c36114f-ba97-47a7-9647-cbd044d39aeb",
   "metadata": {},
   "outputs": [],
   "source": [
    "# get the matches\n",
    "matches = my_tool.check(my_text)"
   ]
  },
  {
   "cell_type": "code",
   "execution_count": 20,
   "id": "153755ca-dcd1-4816-89b7-3ff0f15b46d9",
   "metadata": {},
   "outputs": [
    {
     "name": "stdout",
     "output_type": "stream",
     "text": [
      "Offset 3, length 4, Rule ID: HE_VERB_AGR\n",
      "Message: The pronoun ‘He’ is usually used with a third-person or a past tense verb.\n",
      "Suggestion: has; had\n",
      "He have colletced a documents. I is there.\n",
      "   ^^^^\n",
      "Offset 8, length 9, Rule ID: MORFOLOGIK_RULE_EN_US\n",
      "Message: Possible spelling mistake found.\n",
      "Suggestion: collected\n",
      "He have colletced a documents. I is there.\n",
      "        ^^^^^^^^^\n",
      "Offset 18, length 11, Rule ID: A_NNS\n",
      "Message: The plural noun “documents” cannot be used with the article “a”. Did you mean “a document” or “documents”?\n",
      "Suggestion: a document; documents\n",
      "He have colletced a documents. I is there.\n",
      "                  ^^^^^^^^^^^\n",
      "Offset 33, length 2, Rule ID: PERS_PRONOUN_AGREEMENT\n",
      "Message: Did you mean “am” or “will be”?\n",
      "Suggestion: am; will be\n",
      "He have colletced a documents. I is there.\n",
      "                                 ^^\n"
     ]
    }
   ],
   "source": [
    "for m in matches:\n",
    "    print(m)"
   ]
  },
  {
   "cell_type": "code",
   "execution_count": 21,
   "id": "6af58237-df01-4655-80f2-252aee233aa6",
   "metadata": {},
   "outputs": [
    {
     "data": {
      "text/plain": [
       "'He has collected a document. I am there.'"
      ]
     },
     "execution_count": 21,
     "metadata": {},
     "output_type": "execute_result"
    }
   ],
   "source": [
    "my_tool.correct(my_text)"
   ]
  },
  {
   "cell_type": "code",
   "execution_count": null,
   "id": "49fe8374-43a8-4173-a0ae-049b20ee5246",
   "metadata": {},
   "outputs": [],
   "source": []
  }
 ],
 "metadata": {
  "kernelspec": {
   "display_name": "Python 3 (ipykernel)",
   "language": "python",
   "name": "python3"
  },
  "language_info": {
   "codemirror_mode": {
    "name": "ipython",
    "version": 3
   },
   "file_extension": ".py",
   "mimetype": "text/x-python",
   "name": "python",
   "nbconvert_exporter": "python",
   "pygments_lexer": "ipython3",
   "version": "3.10.12"
  }
 },
 "nbformat": 4,
 "nbformat_minor": 5
}
