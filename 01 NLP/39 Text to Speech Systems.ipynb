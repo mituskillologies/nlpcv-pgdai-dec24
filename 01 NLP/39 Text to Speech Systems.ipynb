{
 "cells": [
  {
   "cell_type": "markdown",
   "id": "269d9c40-9e4b-45e6-8d57-10bb6b9c5b0a",
   "metadata": {},
   "source": [
    "##### Install the libraries"
   ]
  },
  {
   "cell_type": "code",
   "execution_count": 3,
   "id": "60e69cac-c601-458d-9c85-0267fc44a1a2",
   "metadata": {},
   "outputs": [
    {
     "name": "stdout",
     "output_type": "stream",
     "text": [
      "Defaulting to user installation because normal site-packages is not writeable\n",
      "Requirement already satisfied: gtts in /home/mitu/.local/lib/python3.10/site-packages (2.5.1)\n",
      "Collecting gtts\n",
      "  Using cached gTTS-2.5.4-py3-none-any.whl.metadata (4.1 kB)\n",
      "Requirement already satisfied: playsound in /home/mitu/.local/lib/python3.10/site-packages (1.3.0)\n",
      "Requirement already satisfied: pyttsx3 in /home/mitu/.local/lib/python3.10/site-packages (2.90)\n",
      "Collecting pyttsx3\n",
      "  Downloading pyttsx3-2.98-py3-none-any.whl.metadata (3.8 kB)\n",
      "Requirement already satisfied: requests<3,>=2.27 in /home/mitu/.local/lib/python3.10/site-packages (from gtts) (2.32.3)\n",
      "Requirement already satisfied: click<8.2,>=7.1 in /home/mitu/.local/lib/python3.10/site-packages (from gtts) (8.1.7)\n",
      "Requirement already satisfied: charset-normalizer<4,>=2 in /usr/local/lib/python3.10/dist-packages (from requests<3,>=2.27->gtts) (3.3.2)\n",
      "Requirement already satisfied: idna<4,>=2.5 in /home/mitu/.local/lib/python3.10/site-packages (from requests<3,>=2.27->gtts) (2.10)\n",
      "Requirement already satisfied: urllib3<3,>=1.21.1 in /usr/lib/python3/dist-packages (from requests<3,>=2.27->gtts) (1.26.5)\n",
      "Requirement already satisfied: certifi>=2017.4.17 in /usr/lib/python3/dist-packages (from requests<3,>=2.27->gtts) (2020.6.20)\n",
      "Downloading gTTS-2.5.4-py3-none-any.whl (29 kB)\n",
      "Downloading pyttsx3-2.98-py3-none-any.whl (34 kB)\n",
      "Installing collected packages: pyttsx3, gtts\n",
      "  Attempting uninstall: pyttsx3\n",
      "    Found existing installation: pyttsx3 2.90\n",
      "    Uninstalling pyttsx3-2.90:\n",
      "      Successfully uninstalled pyttsx3-2.90\n",
      "  Attempting uninstall: gtts\n",
      "    Found existing installation: gTTS 2.5.1\n",
      "    Uninstalling gTTS-2.5.1:\n",
      "      Successfully uninstalled gTTS-2.5.1\n",
      "Successfully installed gtts-2.5.4 pyttsx3-2.98\n",
      "Note: you may need to restart the kernel to use updated packages.\n"
     ]
    }
   ],
   "source": [
    "pip install gtts playsound pyttsx3 -U"
   ]
  },
  {
   "cell_type": "markdown",
   "id": "5c98b6fc-7d35-4084-a50f-ccbe2e4413f0",
   "metadata": {},
   "source": [
    "##### Import the libraries"
   ]
  },
  {
   "cell_type": "code",
   "execution_count": 5,
   "id": "f937b4bf-7645-4516-bb3b-81e7e49e1588",
   "metadata": {},
   "outputs": [],
   "source": [
    "from gtts import gTTS                # class\n",
    "from playsound import playsound      # function"
   ]
  },
  {
   "cell_type": "code",
   "execution_count": 9,
   "id": "495b724b-4450-44ba-9658-e1b2cd3e3ce5",
   "metadata": {},
   "outputs": [],
   "source": [
    "# create the TTS class object\n",
    "tts = gTTS(text='Hello friends! How are you? I will teach you.', lang='en')"
   ]
  },
  {
   "cell_type": "code",
   "execution_count": 8,
   "id": "d02053b6-9dff-48c7-8f81-4a5d6884a4d3",
   "metadata": {},
   "outputs": [],
   "source": [
    "# save the audio\n",
    "tts.save('audio.mp3')\n",
    "playsound('audio.mp3')"
   ]
  },
  {
   "cell_type": "code",
   "execution_count": 11,
   "id": "ca14fdad-40cd-44be-9c9a-881099a382a8",
   "metadata": {},
   "outputs": [
    {
     "name": "stdout",
     "output_type": "stream",
     "text": [
      "Help on class gTTS in module gtts.tts:\n",
      "\n",
      "class gTTS(builtins.object)\n",
      " |  gTTS(text, tld='com', lang='en', slow=False, lang_check=True, pre_processor_funcs=[<function tone_marks at 0x7d8bb82448b0>, <function end_of_line at 0x7d8bb8245090>, <function abbreviations at 0x7d8bb8245120>, <function word_sub at 0x7d8bb82451b0>], tokenizer_func=<bound method Tokenizer.run of re.compile('(?<=\\\\?).|(?<=!).|(?<=？).|(?<=！).|(?<!\\\\.[a-z])\\\\. |(?<!\\\\.[a-z]), |(?<!\\\\d):|،|、|—|‥|\\\\(|;|\\\\[|\\\\)|\\\\\\n|：|，|\\\\]|。|…|¿|¡', re.IGNORECASE) from: [<function tone_marks at 0x7d8bb8245480>, <function period_comma at 0x7d8bb8245510>, <function colon at 0x7d8bb82455a0>, <function other_punctuation at 0x7d8bb8245630>]>, timeout=None)\n",
      " |  \n",
      " |  gTTS -- Google Text-to-Speech.\n",
      " |  \n",
      " |  An interface to Google Translate's Text-to-Speech API.\n",
      " |  \n",
      " |  Args:\n",
      " |      text (string): The text to be read.\n",
      " |      tld (string): Top-level domain for the Google Translate host,\n",
      " |          i.e `https://translate.google.<tld>`. Different Google domains\n",
      " |          can produce different localized 'accents' for a given\n",
      " |          language. This is also useful when ``google.com`` might be blocked\n",
      " |          within a network but a local or different Google host\n",
      " |          (e.g. ``google.com.hk``) is not. Default is ``com``.\n",
      " |      lang (string, optional): The language (IETF language tag) to\n",
      " |          read the text in. Default is ``en``.\n",
      " |      slow (bool, optional): Reads text more slowly. Defaults to ``False``.\n",
      " |      lang_check (bool, optional): Strictly enforce an existing ``lang``,\n",
      " |          to catch a language error early. If set to ``True``,\n",
      " |          a ``ValueError`` is raised if ``lang`` doesn't exist.\n",
      " |          Setting ``lang_check`` to ``False`` skips Web requests\n",
      " |          (to validate language) and therefore speeds up instantiation.\n",
      " |          Default is ``True``.\n",
      " |      pre_processor_funcs (list): A list of zero or more functions that are\n",
      " |          called to transform (pre-process) text before tokenizing. Those\n",
      " |          functions must take a string and return a string. Defaults to::\n",
      " |  \n",
      " |              [\n",
      " |                  pre_processors.tone_marks,\n",
      " |                  pre_processors.end_of_line,\n",
      " |                  pre_processors.abbreviations,\n",
      " |                  pre_processors.word_sub\n",
      " |              ]\n",
      " |  \n",
      " |      tokenizer_func (callable): A function that takes in a string and\n",
      " |          returns a list of string (tokens). Defaults to::\n",
      " |  \n",
      " |              Tokenizer([\n",
      " |                  tokenizer_cases.tone_marks,\n",
      " |                  tokenizer_cases.period_comma,\n",
      " |                  tokenizer_cases.colon,\n",
      " |                  tokenizer_cases.other_punctuation\n",
      " |              ]).run\n",
      " |  \n",
      " |      timeout (float or tuple, optional): Seconds to wait for the server to\n",
      " |          send data before giving up, as a float, or a ``(connect timeout,\n",
      " |          read timeout)`` tuple. ``None`` will wait forever (default).\n",
      " |  \n",
      " |  See Also:\n",
      " |      :doc:`Pre-processing and tokenizing <tokenizer>`\n",
      " |  \n",
      " |  Raises:\n",
      " |      AssertionError: When ``text`` is ``None`` or empty; when there's nothing\n",
      " |          left to speak after pre-processing, tokenizing and cleaning.\n",
      " |      ValueError: When ``lang_check`` is ``True`` and ``lang`` is not supported.\n",
      " |      RuntimeError: When ``lang_check`` is ``True`` but there's an error loading\n",
      " |          the languages dictionary.\n",
      " |  \n",
      " |  Methods defined here:\n",
      " |  \n",
      " |  __init__(self, text, tld='com', lang='en', slow=False, lang_check=True, pre_processor_funcs=[<function tone_marks at 0x7d8bb82448b0>, <function end_of_line at 0x7d8bb8245090>, <function abbreviations at 0x7d8bb8245120>, <function word_sub at 0x7d8bb82451b0>], tokenizer_func=<bound method Tokenizer.run of re.compile('(?<=\\\\?).|(?<=!).|(?<=？).|(?<=！).|(?<!\\\\.[a-z])\\\\. |(?<!\\\\.[a-z]), |(?<!\\\\d):|،|、|—|‥|\\\\(|;|\\\\[|\\\\)|\\\\\\n|：|，|\\\\]|。|…|¿|¡', re.IGNORECASE) from: [<function tone_marks at 0x7d8bb8245480>, <function period_comma at 0x7d8bb8245510>, <function colon at 0x7d8bb82455a0>, <function other_punctuation at 0x7d8bb8245630>]>, timeout=None)\n",
      " |      Initialize self.  See help(type(self)) for accurate signature.\n",
      " |  \n",
      " |  get_bodies(self)\n",
      " |      Get TTS API request bodies(s) that would be sent to the TTS API.\n",
      " |      \n",
      " |      Returns:\n",
      " |          list: A list of TTS API request bodies to make.\n",
      " |  \n",
      " |  save(self, savefile)\n",
      " |      Do the TTS API request and write result to file.\n",
      " |      \n",
      " |      Args:\n",
      " |          savefile (string): The path and file name to save the ``mp3`` to.\n",
      " |      \n",
      " |      Raises:\n",
      " |          :class:`gTTSError`: When there's an error with the API request.\n",
      " |  \n",
      " |  stream(self)\n",
      " |      Do the TTS API request(s) and stream bytes\n",
      " |      \n",
      " |      Raises:\n",
      " |          :class:`gTTSError`: When there's an error with the API request.\n",
      " |  \n",
      " |  write_to_fp(self, fp)\n",
      " |      Do the TTS API request(s) and write bytes to a file-like object.\n",
      " |      \n",
      " |      Args:\n",
      " |          fp (file object): Any file-like object to write the ``mp3`` to.\n",
      " |      \n",
      " |      Raises:\n",
      " |          :class:`gTTSError`: When there's an error with the API request.\n",
      " |          TypeError: When ``fp`` is not a file-like object that takes bytes.\n",
      " |  \n",
      " |  ----------------------------------------------------------------------\n",
      " |  Data descriptors defined here:\n",
      " |  \n",
      " |  __dict__\n",
      " |      dictionary for instance variables (if defined)\n",
      " |  \n",
      " |  __weakref__\n",
      " |      list of weak references to the object (if defined)\n",
      " |  \n",
      " |  ----------------------------------------------------------------------\n",
      " |  Data and other attributes defined here:\n",
      " |  \n",
      " |  GOOGLE_TTS_HEADERS = {'Content-Type': 'application/x-www-form-urlencod...\n",
      " |  \n",
      " |  GOOGLE_TTS_MAX_CHARS = 100\n",
      " |  \n",
      " |  GOOGLE_TTS_RPC = 'jQ1olc'\n",
      "\n"
     ]
    }
   ],
   "source": [
    "help(gTTS)"
   ]
  },
  {
   "cell_type": "code",
   "execution_count": 12,
   "id": "1a445636-c6a0-40d0-a05a-78aa25cd4e91",
   "metadata": {},
   "outputs": [],
   "source": [
    "tts = gTTS(text='नमस्कार... तुमच्या सर्वांचे स्वागत आहे!', lang='mr')"
   ]
  },
  {
   "cell_type": "code",
   "execution_count": 16,
   "id": "9182cc00-7069-4ffe-87cf-d65802164deb",
   "metadata": {},
   "outputs": [],
   "source": [
    "# save the audio\n",
    "tts.save('audio.mp3')\n",
    "playsound('audio.mp3')"
   ]
  },
  {
   "cell_type": "markdown",
   "id": "e3c58658-de11-47fa-a7a7-95f6f831f01f",
   "metadata": {},
   "source": [
    "##### Using pyttsx library"
   ]
  },
  {
   "cell_type": "code",
   "execution_count": 21,
   "id": "c2470929-051d-463c-a2c0-8ad967b19ece",
   "metadata": {},
   "outputs": [],
   "source": [
    "import pyttsx3\n",
    "\n",
    "# Initialize the pyttsx3 engine\n",
    "engine = pyttsx3.init()\n",
    "\n",
    "# Set properties (optional)\n",
    "engine.setProperty('rate', 150)  # Speed of speech (words per minute)\n",
    "engine.setProperty('volume', 1)  # Volume (0.0 to 1.0)\n",
    "\n",
    "# Define the text to convert into speech\n",
    "text = \"Hello, welcome to Python programming.\"\n",
    "\n",
    "# Use the engine to speak the text\n",
    "engine.say(text)\n",
    "\n",
    "# Wait for the speech to finish\n",
    "engine.runAndWait()"
   ]
  },
  {
   "cell_type": "code",
   "execution_count": 31,
   "id": "d3aa511a-ad5d-4a18-8f88-fbe3e2f3ef69",
   "metadata": {},
   "outputs": [],
   "source": [
    "voices = engine.getProperty('voices')\n",
    "engine.setProperty('voice', voices[10].id) \n",
    "text = \"Hello, welcome to Python programming.\"\n",
    "engine.say(text)\n",
    "engine.runAndWait()"
   ]
  },
  {
   "cell_type": "code",
   "execution_count": null,
   "id": "d47aa7b3-aedf-4d22-ac9c-d9dcc1b5e0b9",
   "metadata": {},
   "outputs": [],
   "source": []
  }
 ],
 "metadata": {
  "kernelspec": {
   "display_name": "Python 3 (ipykernel)",
   "language": "python",
   "name": "python3"
  },
  "language_info": {
   "codemirror_mode": {
    "name": "ipython",
    "version": 3
   },
   "file_extension": ".py",
   "mimetype": "text/x-python",
   "name": "python",
   "nbconvert_exporter": "python",
   "pygments_lexer": "ipython3",
   "version": "3.10.12"
  }
 },
 "nbformat": 4,
 "nbformat_minor": 5
}
