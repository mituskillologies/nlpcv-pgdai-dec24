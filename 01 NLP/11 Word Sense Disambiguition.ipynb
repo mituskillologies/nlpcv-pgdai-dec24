{
 "cells": [
  {
   "cell_type": "markdown",
   "id": "8607dfbd-6197-4153-8d76-8e4104dcb945",
   "metadata": {},
   "source": [
    "##### Import the libraries"
   ]
  },
  {
   "cell_type": "code",
   "execution_count": 2,
   "id": "cffa29f9-9c7c-42a6-8526-e0eea458f102",
   "metadata": {},
   "outputs": [],
   "source": [
    "from nltk.tokenize import word_tokenize\n",
    "from nltk.wsd import lesk"
   ]
  },
  {
   "cell_type": "markdown",
   "id": "a1aac2af-4cff-4285-8df6-2db003dda444",
   "metadata": {},
   "source": [
    "##### Define the sentence with word ambiguity"
   ]
  },
  {
   "cell_type": "code",
   "execution_count": 8,
   "id": "591dc1b0-45a7-41b8-81fc-f7bc880a7ceb",
   "metadata": {},
   "outputs": [],
   "source": [
    "a1 = lesk(word_tokenize('We have to jam the signal around us.'), 'jam')"
   ]
  },
  {
   "cell_type": "code",
   "execution_count": 9,
   "id": "c439c775-2329-425a-889a-2d7c5bdb037a",
   "metadata": {},
   "outputs": [
    {
     "data": {
      "text/plain": [
       "'deliberate radiation or reflection of electromagnetic energy for the purpose of disrupting enemy use of electronic devices or systems'"
      ]
     },
     "execution_count": 9,
     "metadata": {},
     "output_type": "execute_result"
    }
   ],
   "source": [
    "a1.definition()"
   ]
  },
  {
   "cell_type": "code",
   "execution_count": 7,
   "id": "ace13788-c3f6-4665-9d31-80f7e9397ef9",
   "metadata": {},
   "outputs": [],
   "source": [
    "a2 = lesk(word_tokenize('I am stuck in a heavy traffic jam.'), 'jam')"
   ]
  },
  {
   "cell_type": "code",
   "execution_count": 10,
   "id": "199991f5-72d8-4f99-8814-6e119cda0e88",
   "metadata": {},
   "outputs": [
    {
     "data": {
      "text/plain": [
       "'get stuck and immobilized'"
      ]
     },
     "execution_count": 10,
     "metadata": {},
     "output_type": "execute_result"
    }
   ],
   "source": [
    "a2.definition()"
   ]
  },
  {
   "cell_type": "code",
   "execution_count": 12,
   "id": "b2bb06f4-6289-4dff-9629-b138a0a69596",
   "metadata": {},
   "outputs": [
    {
     "data": {
      "text/plain": [
       "['the mechanism jammed']"
      ]
     },
     "execution_count": 12,
     "metadata": {},
     "output_type": "execute_result"
    }
   ],
   "source": [
    "a2.examples()"
   ]
  },
  {
   "cell_type": "code",
   "execution_count": 16,
   "id": "ad5334bc-b9ac-4e32-abe7-7b7a4abfba8a",
   "metadata": {},
   "outputs": [
    {
     "data": {
      "text/plain": [
       "[Synset('spot_jamming.n.01'), Synset('barrage_jamming.n.01')]"
      ]
     },
     "execution_count": 16,
     "metadata": {},
     "output_type": "execute_result"
    }
   ],
   "source": [
    "a1.hyponyms()"
   ]
  },
  {
   "cell_type": "code",
   "execution_count": 17,
   "id": "905ce990-4ed2-4c78-9cb7-8f085f32aabd",
   "metadata": {},
   "outputs": [
    {
     "data": {
      "text/plain": [
       "[]"
      ]
     },
     "execution_count": 17,
     "metadata": {},
     "output_type": "execute_result"
    }
   ],
   "source": [
    "a2.hyponyms()"
   ]
  },
  {
   "cell_type": "code",
   "execution_count": 22,
   "id": "85c75d29-2895-4a8a-9f46-76c2c11b8a98",
   "metadata": {},
   "outputs": [
    {
     "data": {
      "text/plain": [
       "'discover or come upon accidentally, suddenly, or unexpectedly; catch somebody doing something or in a certain state'"
      ]
     },
     "execution_count": 22,
     "metadata": {},
     "output_type": "execute_result"
    }
   ],
   "source": [
    "a3 = lesk (word_tokenize('It was a good catch by the player.'), 'catch')\n",
    "a3.definition()"
   ]
  },
  {
   "cell_type": "code",
   "execution_count": 23,
   "id": "190670fd-19f8-455c-abf9-79d487bd581e",
   "metadata": {},
   "outputs": [
    {
     "data": {
      "text/plain": [
       "'catch up with and possibly overtake'"
      ]
     },
     "execution_count": 23,
     "metadata": {},
     "output_type": "execute_result"
    }
   ],
   "source": [
    "a4 = lesk (word_tokenize('You should catch that opportunity.'), 'catch')\n",
    "a4.definition()"
   ]
  },
  {
   "cell_type": "code",
   "execution_count": 24,
   "id": "453c97b3-8b4d-414a-ace0-e25a0acb3095",
   "metadata": {},
   "outputs": [
    {
     "data": {
      "text/plain": [
       "'prefer or wish to do something'"
      ]
     },
     "execution_count": 24,
     "metadata": {},
     "output_type": "execute_result"
    }
   ],
   "source": [
    "d1= lesk(word_tokenize('He like flowers.'),'like')\n",
    "d1.definition()"
   ]
  },
  {
   "cell_type": "code",
   "execution_count": 25,
   "id": "467f2033-4a7f-4252-8a72-ce59b20f4543",
   "metadata": {},
   "outputs": [
    {
     "data": {
      "text/plain": [
       "'resembling or similar; having the same or some of the same characteristics; often used in combination'"
      ]
     },
     "execution_count": 25,
     "metadata": {},
     "output_type": "execute_result"
    }
   ],
   "source": [
    "d1= lesk(word_tokenize('The association is like bad combination.'),'like')\n",
    "d1.definition()"
   ]
  },
  {
   "cell_type": "code",
   "execution_count": 41,
   "id": "8bd9d0c9-1c5a-4682-b631-d20dc09a307d",
   "metadata": {},
   "outputs": [],
   "source": [
    "sentence1 = \"The dog started to bark loudly in the yard.\"\n",
    "sentence2 = \"His tree's bark was rough and peeling off.\""
   ]
  },
  {
   "cell_type": "code",
   "execution_count": 42,
   "id": "c6ef78a8-c737-4ac5-ab90-e879d5d1c210",
   "metadata": {},
   "outputs": [],
   "source": [
    "sense1 = lesk(word_tokenize(sentence1), 'bark')\n",
    "sense2 = lesk(word_tokenize(sentence2), 'bark')"
   ]
  },
  {
   "cell_type": "code",
   "execution_count": 43,
   "id": "ba4279f7-8dcc-472b-9f09-7c93903945ad",
   "metadata": {},
   "outputs": [
    {
     "data": {
      "text/plain": [
       "'a noise resembling the bark of a dog'"
      ]
     },
     "execution_count": 43,
     "metadata": {},
     "output_type": "execute_result"
    }
   ],
   "source": [
    "sense1.definition()"
   ]
  },
  {
   "cell_type": "code",
   "execution_count": 44,
   "id": "1fbbb5b3-c5cf-45ac-8ef9-6c3403d125dc",
   "metadata": {},
   "outputs": [
    {
     "data": {
      "text/plain": [
       "'remove the bark of a tree'"
      ]
     },
     "execution_count": 44,
     "metadata": {},
     "output_type": "execute_result"
    }
   ],
   "source": [
    "sense2.definition()"
   ]
  },
  {
   "cell_type": "code",
   "execution_count": 45,
   "id": "d7810838-37f7-4054-b46c-2f6cd819637d",
   "metadata": {},
   "outputs": [],
   "source": [
    "sentence1 = \"The light from the lamp illuminated the room.\"\n",
    "sentence2 = \"She picked up that light suitcase and carried it easily.\""
   ]
  },
  {
   "cell_type": "code",
   "execution_count": 46,
   "id": "4ad0572f-0757-404f-b9b7-6d8f7a01b0eb",
   "metadata": {},
   "outputs": [],
   "source": [
    "sense1 = lesk(word_tokenize(sentence1), 'light')\n",
    "sense2 = lesk(word_tokenize(sentence2), 'light')"
   ]
  },
  {
   "cell_type": "code",
   "execution_count": 47,
   "id": "6abb75b4-18e7-43b3-ae2c-1e803f772106",
   "metadata": {},
   "outputs": [
    {
     "data": {
      "text/plain": [
       "'the quality of being luminous; emitting or reflecting light'"
      ]
     },
     "execution_count": 47,
     "metadata": {},
     "output_type": "execute_result"
    }
   ],
   "source": [
    "sense1.definition()"
   ]
  },
  {
   "cell_type": "code",
   "execution_count": 48,
   "id": "446060ee-a0d0-4b75-a7b4-aaa8ce939428",
   "metadata": {},
   "outputs": [
    {
     "data": {
      "text/plain": [
       "'moving easily and quickly; nimble'"
      ]
     },
     "execution_count": 48,
     "metadata": {},
     "output_type": "execute_result"
    }
   ],
   "source": [
    "sense2.definition()"
   ]
  },
  {
   "cell_type": "code",
   "execution_count": null,
   "id": "e84c8e90-9ad8-4b41-b6e7-75a8957ab746",
   "metadata": {},
   "outputs": [],
   "source": []
  }
 ],
 "metadata": {
  "kernelspec": {
   "display_name": "Python 3 (ipykernel)",
   "language": "python",
   "name": "python3"
  },
  "language_info": {
   "codemirror_mode": {
    "name": "ipython",
    "version": 3
   },
   "file_extension": ".py",
   "mimetype": "text/x-python",
   "name": "python",
   "nbconvert_exporter": "python",
   "pygments_lexer": "ipython3",
   "version": "3.10.12"
  }
 },
 "nbformat": 4,
 "nbformat_minor": 5
}
