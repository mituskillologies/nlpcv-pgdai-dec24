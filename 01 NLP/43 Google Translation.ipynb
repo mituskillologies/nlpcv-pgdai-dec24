{
 "cells": [
  {
   "cell_type": "code",
   "execution_count": 1,
   "id": "c5be237c-749d-49ca-949b-760cb3aa1ac8",
   "metadata": {},
   "outputs": [
    {
     "name": "stdout",
     "output_type": "stream",
     "text": [
      "Defaulting to user installation because normal site-packages is not writeable\n",
      "Collecting goslate\n",
      "  Using cached goslate-1.5.4.tar.gz (14 kB)\n",
      "  Preparing metadata (setup.py) ... \u001b[?25ldone\n",
      "\u001b[?25hCollecting futures (from goslate)\n",
      "  Using cached futures-3.0.5.tar.gz (25 kB)\n",
      "  Preparing metadata (setup.py) ... \u001b[?25lerror\n",
      "  \u001b[1;31merror\u001b[0m: \u001b[1msubprocess-exited-with-error\u001b[0m\n",
      "  \n",
      "  \u001b[31m×\u001b[0m \u001b[32mpython setup.py egg_info\u001b[0m did not run successfully.\n",
      "  \u001b[31m│\u001b[0m exit code: \u001b[1;36m1\u001b[0m\n",
      "  \u001b[31m╰─>\u001b[0m \u001b[31m[25 lines of output]\u001b[0m\n",
      "  \u001b[31m   \u001b[0m Traceback (most recent call last):\n",
      "  \u001b[31m   \u001b[0m   File \"<string>\", line 2, in <module>\n",
      "  \u001b[31m   \u001b[0m   File \"<pip-setuptools-caller>\", line 14, in <module>\n",
      "  \u001b[31m   \u001b[0m   File \"/usr/lib/python3/dist-packages/setuptools/__init__.py\", line 18, in <module>\n",
      "  \u001b[31m   \u001b[0m     from setuptools.dist import Distribution\n",
      "  \u001b[31m   \u001b[0m   File \"/usr/lib/python3/dist-packages/setuptools/dist.py\", line 31, in <module>\n",
      "  \u001b[31m   \u001b[0m     from setuptools.extern.more_itertools import unique_everseen\n",
      "  \u001b[31m   \u001b[0m   File \"<frozen importlib._bootstrap>\", line 1027, in _find_and_load\n",
      "  \u001b[31m   \u001b[0m   File \"<frozen importlib._bootstrap>\", line 1006, in _find_and_load_unlocked\n",
      "  \u001b[31m   \u001b[0m   File \"<frozen importlib._bootstrap>\", line 674, in _load_unlocked\n",
      "  \u001b[31m   \u001b[0m   File \"<frozen importlib._bootstrap>\", line 571, in module_from_spec\n",
      "  \u001b[31m   \u001b[0m   File \"/usr/lib/python3/dist-packages/setuptools/extern/__init__.py\", line 52, in create_module\n",
      "  \u001b[31m   \u001b[0m     return self.load_module(spec.name)\n",
      "  \u001b[31m   \u001b[0m   File \"/usr/lib/python3/dist-packages/setuptools/extern/__init__.py\", line 37, in load_module\n",
      "  \u001b[31m   \u001b[0m     __import__(extant)\n",
      "  \u001b[31m   \u001b[0m   File \"/usr/lib/python3/dist-packages/setuptools/_vendor/more_itertools/__init__.py\", line 1, in <module>\n",
      "  \u001b[31m   \u001b[0m     from .more import *  # noqa\n",
      "  \u001b[31m   \u001b[0m   File \"/usr/lib/python3/dist-packages/setuptools/_vendor/more_itertools/more.py\", line 5, in <module>\n",
      "  \u001b[31m   \u001b[0m     from concurrent.futures import ThreadPoolExecutor\n",
      "  \u001b[31m   \u001b[0m   File \"/tmp/pip-install-pz5gu50v/futures_3e244475b4e94c129c453ef7620f382d/concurrent/futures/__init__.py\", line 8, in <module>\n",
      "  \u001b[31m   \u001b[0m     from concurrent.futures._base import (FIRST_COMPLETED,\n",
      "  \u001b[31m   \u001b[0m   File \"/tmp/pip-install-pz5gu50v/futures_3e244475b4e94c129c453ef7620f382d/concurrent/futures/_base.py\", line 357\n",
      "  \u001b[31m   \u001b[0m     raise type(self._exception), self._exception, self._traceback\n",
      "  \u001b[31m   \u001b[0m                                ^\n",
      "  \u001b[31m   \u001b[0m SyntaxError: invalid syntax\n",
      "  \u001b[31m   \u001b[0m \u001b[31m[end of output]\u001b[0m\n",
      "  \n",
      "  \u001b[1;35mnote\u001b[0m: This error originates from a subprocess, and is likely not a problem with pip.\n",
      "\u001b[1;31merror\u001b[0m: \u001b[1mmetadata-generation-failed\u001b[0m\n",
      "\n",
      "\u001b[31m×\u001b[0m Encountered error while generating package metadata.\n",
      "\u001b[31m╰─>\u001b[0m See above for output.\n",
      "\n",
      "\u001b[1;35mnote\u001b[0m: This is an issue with the package mentioned above, not pip.\n",
      "\u001b[1;36mhint\u001b[0m: See above for details.\n",
      "\u001b[?25hNote: you may need to restart the kernel to use updated packages.\n"
     ]
    }
   ],
   "source": [
    "pip install goslate"
   ]
  },
  {
   "cell_type": "code",
   "execution_count": null,
   "id": "3c385d99-8505-49ad-b0c4-0cf0c7cfbc7f",
   "metadata": {},
   "outputs": [],
   "source": []
  }
 ],
 "metadata": {
  "kernelspec": {
   "display_name": "Python 3 (ipykernel)",
   "language": "python",
   "name": "python3"
  },
  "language_info": {
   "codemirror_mode": {
    "name": "ipython",
    "version": 3
   },
   "file_extension": ".py",
   "mimetype": "text/x-python",
   "name": "python",
   "nbconvert_exporter": "python",
   "pygments_lexer": "ipython3",
   "version": "3.10.12"
  }
 },
 "nbformat": 4,
 "nbformat_minor": 5
}
